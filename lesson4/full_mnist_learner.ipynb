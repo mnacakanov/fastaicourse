{
 "cells": [
  {
   "cell_type": "code",
   "execution_count": 1,
   "metadata": {},
   "outputs": [],
   "source": [
    "#hide\n",
    "import fastbook\n",
    "fastbook.setup_book()\n"
   ]
  },
  {
   "cell_type": "code",
   "execution_count": null,
   "metadata": {},
   "outputs": [],
   "source": [
    "#hide\n",
    "from fastai.vision.all import *\n",
    "from fastbook import *\n",
    "\n",
    "matplotlib.rc('\n",
    "image', cmap='Greys')"
   ]
  },
  {
   "cell_type": "code",
   "execution_count": 3,
   "metadata": {},
   "outputs": [
    {
     "data": {
      "text/plain": [
       "'NVIDIA GeForce RTX 2080 SUPER'"
      ]
     },
     "execution_count": 3,
     "metadata": {},
     "output_type": "execute_result"
    }
   ],
   "source": [
    "import torch\n",
    "torch.cuda.device(0)\n",
    "torch.cuda.get_device_name(0)"
   ]
  },
  {
   "cell_type": "code",
   "execution_count": 4,
   "metadata": {},
   "outputs": [],
   "source": [
    "path_raw = untar_data(URLs.MNIST)\n",
    "path = path_raw\n",
    "\n"
   ]
  },
  {
   "cell_type": "code",
   "execution_count": 5,
   "metadata": {},
   "outputs": [
    {
     "data": {
      "text/plain": [
       "(#2) [Path('testing'),Path('training')]"
      ]
     },
     "execution_count": 5,
     "metadata": {},
     "output_type": "execute_result"
    }
   ],
   "source": [
    "Path.BASE_PATH = path\n",
    "path.ls()"
   ]
  },
  {
   "cell_type": "code",
   "execution_count": 6,
   "metadata": {},
   "outputs": [
    {
     "data": {
      "text/html": [
       "\n",
       "<style>\n",
       "    /* Turns off some styling */\n",
       "    progress {\n",
       "        /* gets rid of default border in Firefox and Opera. */\n",
       "        border: none;\n",
       "        /* Needs to be in here for Safari polyfill so background images work as expected. */\n",
       "        background-size: auto;\n",
       "    }\n",
       "    progress:not([value]), progress:not([value])::-webkit-progress-bar {\n",
       "        background: repeating-linear-gradient(45deg, #7e7e7e, #7e7e7e 10px, #5c5c5c 10px, #5c5c5c 20px);\n",
       "    }\n",
       "    .progress-bar-interrupted, .progress-bar-interrupted::-webkit-progress-bar {\n",
       "        background: #F44336;\n",
       "    }\n",
       "</style>\n"
      ],
      "text/plain": [
       "<IPython.core.display.HTML object>"
      ]
     },
     "metadata": {},
     "output_type": "display_data"
    },
    {
     "data": {
      "text/html": [
       "<table border=\"1\" class=\"dataframe\">\n",
       "  <thead>\n",
       "    <tr style=\"text-align: left;\">\n",
       "      <th>epoch</th>\n",
       "      <th>train_loss</th>\n",
       "      <th>valid_loss</th>\n",
       "      <th>accuracy</th>\n",
       "      <th>time</th>\n",
       "    </tr>\n",
       "  </thead>\n",
       "  <tbody>\n",
       "    <tr>\n",
       "      <td>0</td>\n",
       "      <td>0.091283</td>\n",
       "      <td>0.039772</td>\n",
       "      <td>0.987700</td>\n",
       "      <td>01:54</td>\n",
       "    </tr>\n",
       "  </tbody>\n",
       "</table>"
      ],
      "text/plain": [
       "<IPython.core.display.HTML object>"
      ]
     },
     "metadata": {},
     "output_type": "display_data"
    }
   ],
   "source": [
    "dls = ImageDataLoaders.from_folder(path, train='training', valid='testing')\n",
    "learn = vision_learner(dls, resnet18, pretrained=False,\n",
    "                    loss_func=F.cross_entropy, metrics=accuracy)\n",
    "learn.fit_one_cycle(1, 0.1)"
   ]
  },
  {
   "cell_type": "code",
   "execution_count": 7,
   "metadata": {},
   "outputs": [
    {
     "name": "stdout",
     "output_type": "stream",
     "text": [
      "Help on TfmdDL in module fastai.data.core object:\n",
      "\n",
      "class TfmdDL(fastai.data.load.DataLoader)\n",
      " |  TfmdDL(dataset, bs: 'int' = 64, shuffle: 'bool' = False, num_workers: 'int' = None, verbose: 'bool' = False, do_setup: 'bool' = True, *, pin_memory=False, timeout=0, batch_size=None, drop_last=False, indexed=None, n=None, device=None, persistent_workers=False, pin_memory_device='', wif=None, before_iter=None, after_item=None, before_batch=None, after_batch=None, after_iter=None, create_batches=None, create_item=None, create_batch=None, retain=None, get_idxs=None, sample=None, shuffle_fn=None, do_batch=None)\n",
      " |\n",
      " |  Transformed `DataLoader`\n",
      " |\n",
      " |  Method resolution order:\n",
      " |      TfmdDL\n",
      " |      fastai.data.load.DataLoader\n",
      " |      fastcore.basics.GetAttr\n",
      " |      builtins.object\n",
      " |\n",
      " |  Methods defined here:\n",
      " |\n",
      " |  __init__(self, dataset, bs: 'int' = 64, shuffle: 'bool' = False, num_workers: 'int' = None, verbose: 'bool' = False, do_setup: 'bool' = True, *, pin_memory=False, timeout=0, batch_size=None, drop_last=False, indexed=None, n=None, device=None, persistent_workers=False, pin_memory_device='', wif=None, before_iter=None, after_item=None, before_batch=None, after_batch=None, after_iter=None, create_batches=None, create_item=None, create_batch=None, retain=None, get_idxs=None, sample=None, shuffle_fn=None, do_batch=None)\n",
      " |      Initialize self.  See help(type(self)) for accurate signature.\n",
      " |\n",
      " |  before_iter(self)\n",
      " |      override\n",
      " |\n",
      " |  decode(self, b)\n",
      " |      Decode `b` using `tfms`\n",
      " |\n",
      " |  decode_batch(self, b, max_n: 'int' = 9, full: 'bool' = True)\n",
      " |      Decode `b` entirely\n",
      " |\n",
      " |  new(self, dataset=None, cls=None)\n",
      " |      Create a new version of self with a few changed attributes\n",
      " |\n",
      " |  show_batch(self, b=None, max_n: 'int' = 9, ctxs=None, show: 'bool' = True, unique: 'bool' = False, **kwargs)\n",
      " |      Show `b` (defaults to `one_batch`), a list of lists of pipeline outputs (i.e. output of a `DataLoader`)\n",
      " |\n",
      " |  show_results(self, b, out, max_n: 'int' = 9, ctxs=None, show: 'bool' = True, **kwargs)\n",
      " |      Show each item of `b` and `out`\n",
      " |\n",
      " |  ----------------------------------------------------------------------\n",
      " |  Readonly properties defined here:\n",
      " |\n",
      " |  n_inp\n",
      " |      Number of elements in `Datasets` or `TfmdDL` tuple to be considered part of input.\n",
      " |\n",
      " |  ----------------------------------------------------------------------\n",
      " |  Methods inherited from fastai.data.load.DataLoader:\n",
      " |\n",
      " |  __iter__(self)\n",
      " |\n",
      " |  __len__(self)\n",
      " |\n",
      " |  after_batch(self, x=None, *args, **kwargs) from fastai.data.load\n",
      " |      After collating mini-batch of items, the mini-batch is passed through this function.\n",
      " |\n",
      " |  after_item(self, x=None, *args, **kwargs) from fastai.data.load\n",
      " |      Takes output of `create_item` as input and applies this function on it.\n",
      " |\n",
      " |  after_iter(self, x=None, *args, **kwargs) from fastai.data.load\n",
      " |      Called after `DataLoader` has fully read/iterated over the dataset.\n",
      " |\n",
      " |  before_batch(self, x=None, *args, **kwargs) from fastai.data.load\n",
      " |      It is called before collating a list of items into a batch. Input is a list of items.\n",
      " |\n",
      " |  chunkify(self, b)\n",
      " |      Used by `create_batches` to turn generator of items (`b`) into batches.\n",
      " |\n",
      " |  create_batch(self, b)\n",
      " |      Collate a list of items into a batch.\n",
      " |\n",
      " |  create_batches(self, samps)\n",
      " |      Takes output of `sample` as input, and returns batches of data. Does not apply `after_batch`.\n",
      " |\n",
      " |  create_item(self, s)\n",
      " |      Subset of the dataset containing the index values of sample if exists, else next iterator.\n",
      " |\n",
      " |  do_batch(self, b)\n",
      " |      Combines `create_batch` and `before_batch` to get a batch of items. Input is a list of items to collate.\n",
      " |\n",
      " |  do_item(self, s)\n",
      " |      Combines `after_item` and `create_item` to get an item from dataset by providing index as input.\n",
      " |\n",
      " |  get_idxs(self)\n",
      " |      Return a list of indices to reference the dataset. Calls `shuffle_fn` internally if `shuffle=True`.\n",
      " |\n",
      " |  one_batch(self)\n",
      " |      Return one batch from `DataLoader`.\n",
      " |\n",
      " |  randomize(self)\n",
      " |      Set's `DataLoader` random number generator state.\n",
      " |\n",
      " |  retain(self, res, b)\n",
      " |      Cast each item of `res` to type of matching item in `b` if its a superclass.\n",
      " |\n",
      " |  sample(self)\n",
      " |      Same as `get_idxs` but returns a generator of indices to reference the dataset.\n",
      " |\n",
      " |  shuffle_fn(self, idxs)\n",
      " |      Returns a random permutation of `idxs`.\n",
      " |\n",
      " |  to(self, device)\n",
      " |      Put self and its transforms state on `device`\n",
      " |\n",
      " |  wif(self, x=None, *args, **kwargs) from fastai.data.load\n",
      " |      See pytorch `worker_init_fn` for details.\n",
      " |\n",
      " |  ----------------------------------------------------------------------\n",
      " |  Readonly properties inherited from fastai.data.load.DataLoader:\n",
      " |\n",
      " |  prebatched\n",
      " |      Check if `bs` is None.\n",
      " |\n",
      " |  ----------------------------------------------------------------------\n",
      " |  Data descriptors inherited from fastai.data.load.DataLoader:\n",
      " |\n",
      " |  device\n",
      " |\n",
      " |  ----------------------------------------------------------------------\n",
      " |  Data and other attributes inherited from fastai.data.load.DataLoader:\n",
      " |\n",
      " |  o = 'after_iter'\n",
      " |\n",
      " |  ----------------------------------------------------------------------\n",
      " |  Methods inherited from fastcore.basics.GetAttr:\n",
      " |\n",
      " |  __dir__(self)\n",
      " |      Default dir() implementation.\n",
      " |\n",
      " |  __getattr__(self, k)\n",
      " |\n",
      " |  __setstate__(self, data)\n",
      " |\n",
      " |  ----------------------------------------------------------------------\n",
      " |  Data descriptors inherited from fastcore.basics.GetAttr:\n",
      " |\n",
      " |  __dict__\n",
      " |      dictionary for instance variables\n",
      " |\n",
      " |  __weakref__\n",
      " |      list of weak references to the object\n",
      "\n"
     ]
    }
   ],
   "source": [
    "dls\n",
    "help(dls[0])"
   ]
  },
  {
   "cell_type": "code",
   "execution_count": 8,
   "metadata": {},
   "outputs": [],
   "source": [
    "digits = [directory.ls().sorted() for directory in (path/'training').ls().sorted()]\n",
    "digits_tensors = []\n",
    "for digit in digits:\n",
    "    digits_tensors.append([tensor(Image.open(o)) for o in digit])\n",
    "\n",
    "\n"
   ]
  },
  {
   "cell_type": "code",
   "execution_count": 9,
   "metadata": {},
   "outputs": [
    {
     "data": {
      "text/plain": [
       "[5923, 6742, 5958, 6131, 5842, 5421, 5918, 6265, 5851, 5949]"
      ]
     },
     "execution_count": 9,
     "metadata": {},
     "output_type": "execute_result"
    }
   ],
   "source": [
    "type(digits_tensors)\n",
    "[len(item) for item in digits_tensors]"
   ]
  },
  {
   "cell_type": "code",
   "execution_count": 10,
   "metadata": {},
   "outputs": [
    {
     "data": {
      "text/plain": [
       "[torch.Size([5923, 28, 28]),\n",
       " torch.Size([6742, 28, 28]),\n",
       " torch.Size([5958, 28, 28]),\n",
       " torch.Size([6131, 28, 28]),\n",
       " torch.Size([5842, 28, 28]),\n",
       " torch.Size([5421, 28, 28]),\n",
       " torch.Size([5918, 28, 28]),\n",
       " torch.Size([6265, 28, 28]),\n",
       " torch.Size([5851, 28, 28]),\n",
       " torch.Size([5949, 28, 28])]"
      ]
     },
     "execution_count": 10,
     "metadata": {},
     "output_type": "execute_result"
    }
   ],
   "source": [
    "stacked_digits = [torch.stack(digit).float()/255 for digit in digits_tensors]\n",
    "[item.shape for item in stacked_digits]"
   ]
  },
  {
   "cell_type": "code",
   "execution_count": 11,
   "metadata": {},
   "outputs": [
    {
     "data": {
      "image/png": "[encoded data removed]",
      "text/plain": [
       "<Figure size 100x100 with 1 Axes>"
      ]
     },
     "metadata": {},
     "output_type": "display_data"
    },
    {
     "data": {
      "image/png": "[encoded data removed]",
      "text/plain": [
       "<Figure size 100x100 with 1 Axes>"
      ]
     },
     "metadata": {},
     "output_type": "display_data"
    },
    {
     "data": {
      "image/png": "[encoded data removed]",
      "text/plain": [
       "<Figure size 100x100 with 1 Axes>"
      ]
     },
     "metadata": {},
     "output_type": "display_data"
    },
    {
     "data": {
      "image/png": "[encoded data removed]",
      "text/plain": [
       "<Figure size 100x100 with 1 Axes>"
      ]
     },
     "metadata": {},
     "output_type": "display_data"
    },
    {
     "data": {
      "image/png": "[encoded data removed]",
      "text/plain": [
       "<Figure size 100x100 with 1 Axes>"
      ]
     },
     "metadata": {},
     "output_type": "display_data"
    },
    {
     "data": {
      "image/png": "[encoded data removed]",
      "text/plain": [
       "<Figure size 100x100 with 1 Axes>"
      ]
     },
     "metadata": {},
     "output_type": "display_data"
    },
    {
     "data": {
      "image/png": "[encoded data removed]",
      "text/plain": [
       "<Figure size 100x100 with 1 Axes>"
      ]
     },
     "metadata": {},
     "output_type": "display_data"
    },
    {
     "data": {
      "image/png": "[encoded data removed]",
      "text/plain": [
       "<Figure size 100x100 with 1 Axes>"
      ]
     },
     "metadata": {},
     "output_type": "display_data"
    },
    {
     "data": {
      "image/png": "[encoded data removed]",
      "text/plain": [
       "<Figure size 100x100 with 1 Axes>"
      ]
     },
     "metadata": {},
     "output_type": "display_data"
    },
    {
     "data": {
      "image/png": "[encoded data removed]",
      "text/plain": [
       "<Figure size 100x100 with 1 Axes>"
      ]
     },
     "metadata": {},
     "output_type": "display_data"
    }
   ],
   "source": [
    "means = [stacked_digit.mean(0) for stacked_digit in stacked_digits]\n",
    "for item in means: \n",
    "    show_image(item)\n",
    "means_tensor = torch.stack(means)"
   ]
  },
  {
   "cell_type": "code",
   "execution_count": 12,
   "metadata": {},
   "outputs": [
    {
     "data": {
      "text/plain": [
       "[torch.Size([980, 28, 28]),\n",
       " torch.Size([1135, 28, 28]),\n",
       " torch.Size([1032, 28, 28]),\n",
       " torch.Size([1010, 28, 28]),\n",
       " torch.Size([982, 28, 28]),\n",
       " torch.Size([892, 28, 28]),\n",
       " torch.Size([958, 28, 28]),\n",
       " torch.Size([1028, 28, 28]),\n",
       " torch.Size([974, 28, 28]),\n",
       " torch.Size([1009, 28, 28])]"
      ]
     },
     "execution_count": 12,
     "metadata": {},
     "output_type": "execute_result"
    }
   ],
   "source": [
    "validation_digits = [directory.ls().sorted() for directory in (path/'testing').ls().sorted()]\n",
    "validation_tensors = []\n",
    "for digit in validation_digits:\n",
    "    validation_tensors.append([tensor(Image.open(o)) for o in digit])\n",
    "stacked_validation = [torch.stack(digit).float()/255 for digit in validation_tensors]\n",
    "[item.shape for item in stacked_validation]"
   ]
  },
  {
   "cell_type": "code",
   "execution_count": 13,
   "metadata": {},
   "outputs": [],
   "source": [
    "def mnist_distance(a,b): return (a-b).abs().mean((-1,-2))\n",
    "# mnist_distance(stacked_validation[4], means[4])"
   ]
  },
  {
   "cell_type": "code",
   "execution_count": 14,
   "metadata": {},
   "outputs": [],
   "source": [
    "def guess_digit_simple(digit, means): \n",
    "    distances = [mnist_distance(digit, mean_for_digit) for mean_for_digit in means]\n",
    "    return torch.stack(distances).min(0).indices\n"
   ]
  },
  {
   "cell_type": "markdown",
   "metadata": {},
   "source": [
    "Calculating mean base approach accuracy"
   ]
  },
  {
   "cell_type": "code",
   "execution_count": 15,
   "metadata": {},
   "outputs": [
    {
     "data": {
      "text/plain": [
       "tensor(0.6610)"
      ]
     },
     "execution_count": 15,
     "metadata": {},
     "output_type": "execute_result"
    }
   ],
   "source": [
    "def is_a_digit(representation, means, value):\n",
    "    return (guess_digit_simple(representation, means) == value).float()\n",
    "\n",
    "base_algorithm_accuracies = torch.stack([is_a_digit(stacked_validation[i], means, i).mean() for i in range(10)])\n",
    "base_algorithm_accuracies.mean()"
   ]
  },
  {
   "cell_type": "markdown",
   "metadata": {},
   "source": [
    "\n",
    "\n",
    "\n",
    "\n",
    "\n",
    "\n",
    "\n",
    "MNIST LEARNER FOLLOWS\n",
    "\n",
    "\n",
    "\n",
    "\n",
    "\n"
   ]
  },
  {
   "cell_type": "code",
   "execution_count": 16,
   "metadata": {},
   "outputs": [],
   "source": [
    "train_x = torch.cat(stacked_digits).view(-1, 28*28)"
   ]
  },
  {
   "cell_type": "code",
   "execution_count": 17,
   "metadata": {},
   "outputs": [
    {
     "data": {
      "text/plain": [
       "tensor([[0],\n",
       "        [0],\n",
       "        [0],\n",
       "        ...,\n",
       "        [9],\n",
       "        [9],\n",
       "        [9]])"
      ]
     },
     "execution_count": 17,
     "metadata": {},
     "output_type": "execute_result"
    }
   ],
   "source": [
    "train_y = torch.cat([tensor([i] * len(stacked_digits[i])) for i in range(len(stacked_digits))]).unsqueeze(1)\n",
    "train_y"
   ]
  },
  {
   "cell_type": "code",
   "execution_count": 18,
   "metadata": {},
   "outputs": [
    {
     "data": {
      "text/plain": [
       "(torch.Size([784]), tensor([9]))"
      ]
     },
     "execution_count": 18,
     "metadata": {},
     "output_type": "execute_result"
    }
   ],
   "source": [
    "dset = list(zip(train_x,train_y))\n",
    "x,y = dset[-1]\n",
    "x.shape,y"
   ]
  },
  {
   "cell_type": "code",
   "execution_count": 19,
   "metadata": {},
   "outputs": [
    {
     "data": {
      "text/plain": [
       "(torch.Size([784]), tensor([9]))"
      ]
     },
     "execution_count": 19,
     "metadata": {},
     "output_type": "execute_result"
    }
   ],
   "source": [
    "valid_x = torch.cat(stacked_validation).view(-1, 28*28)\n",
    "valid_y = torch.cat([tensor([i] * len(stacked_validation[i])) for i in range(len(stacked_validation))]).unsqueeze(1)\n",
    "valid_dset = list(zip(valid_x,valid_y))\n",
    "x,y = valid_dset[-1]\n",
    "x.shape,y"
   ]
  },
  {
   "cell_type": "code",
   "execution_count": 41,
   "metadata": {},
   "outputs": [
    {
     "data": {
      "text/plain": [
       "tensor(1.)"
      ]
     },
     "execution_count": 41,
     "metadata": {},
     "output_type": "execute_result"
    }
   ],
   "source": [
    "def normalize_prediction(input): return input.sigmoid()\n",
    "\n",
    "normalize_prediction(tensor(100))"
   ]
  },
  {
   "cell_type": "code",
   "execution_count": null,
   "metadata": {},
   "outputs": [],
   "source": [
    "trgts  = tensor([1,6])\n",
    "prediction1 = tensor([1., 5., 0.3, -2., -3., 9., 15., -16., 0.3, 0.5])\n",
    "prediction2 = tensor([1., 0., 3., -2., -3., 9., 15., -16., 0.3, 0.5])\n",
    "prds   = torch.stack((prediction1, prediction2))\n",
    "\n",
    "def create_one_hot_2d_tensor(input_tensor):\n",
    "  \"\"\"\n",
    "  Creates a 2D tensor where each row is a one-hot vector based on the input tensor.\n",
    "\n",
    "  Args:\n",
    "    input_tensor: A 1D PyTorch tensor with indices from 0 to 9.\n",
    "\n",
    "  Returns:\n",
    "    A 2D PyTorch tensor of shape (input_tensor.shape[0], 10) with one-hot vectors.\n",
    "  \"\"\"\n",
    "  # output_tensor = torch.zeros((input_tensor.shape[0], 10), dtype=torch.bool)\n",
    "  # output_tensor.scatter_(1, input_tensor.unsqueeze(1), True)\n",
    "  # return output_tensor\n",
    "  input_tensor = input_tensor.squeeze(1)  # Remove the extra dimension\n",
    "  output_tensor = torch.zeros((input_tensor.shape[0], 10), dtype=torch.bool)\n",
    "  output_tensor.scatter_(1, input_tensor.unsqueeze(1), True)\n",
    "  return output_tensor\n",
    "\n",
    "def mnist_loss(predictions, targets):\n",
    "    # return F.l1_loss(normalize_prediction(predictions), targets)\n",
    "    # conditions = targets\n",
    "    return torch.where(create_one_hot_2d_tensor(targets), 1-predictions, predictions).mean(1).mean()\n",
    "\n",
    "mnist_loss(prds, trgts)"
   ]
  },
  {
   "cell_type": "code",
   "execution_count": 60,
   "metadata": {},
   "outputs": [
    {
     "data": {
      "text/plain": [
       "(torch.Size([256, 784]), torch.Size([256, 1]))"
      ]
     },
     "execution_count": 60,
     "metadata": {},
     "output_type": "execute_result"
    }
   ],
   "source": [
    "dl = DataLoader(dset, batch_size=256)\n",
    "xb,yb = first(dl)\n",
    "xb.shape,yb.shape"
   ]
  },
  {
   "cell_type": "code",
   "execution_count": 77,
   "metadata": {},
   "outputs": [
    {
     "data": {
      "text/plain": [
       "(torch.Size([256, 784]), torch.Size([256, 1]))"
      ]
     },
     "execution_count": 77,
     "metadata": {},
     "output_type": "execute_result"
    }
   ],
   "source": [
    "dl = DataLoader(dset, batch_size=256)\n",
    "xb,yb = first(dl)\n",
    "xb.shape,yb.shape"
   ]
  },
  {
   "cell_type": "code",
   "execution_count": 61,
   "metadata": {},
   "outputs": [
    {
     "data": {
      "text/plain": [
       "torch.Size([4, 784])"
      ]
     },
     "execution_count": 61,
     "metadata": {},
     "output_type": "execute_result"
    }
   ],
   "source": [
    "batch = train_x[:4]\n",
    "batch.shape"
   ]
  },
  {
   "cell_type": "code",
   "execution_count": 65,
   "metadata": {},
   "outputs": [],
   "source": [
    "def linear1(xb): return xb@weights + bias\n",
    "def init_params(size, std=1.0): return (torch.randn(size)*std).requires_grad_()\n",
    "weights = init_params((28*28,10))\n",
    "bias = init_params(10)"
   ]
  },
  {
   "cell_type": "code",
   "execution_count": 66,
   "metadata": {},
   "outputs": [
    {
     "data": {
      "text/plain": [
       "tensor([[-19.5483,  -7.3397,  12.1156,   6.0249,   3.7341,   6.4265,   8.3052,   7.9324,   2.9357,  28.8324],\n",
       "        [ -5.1339, -13.4321,  -1.0547,   1.0795,  10.2326,  -1.8044,  -2.8190,  11.6276,   3.5484,   3.5287],\n",
       "        [-19.8908, -13.4508,  15.1791,  12.4071,   3.1329,  14.3831,  12.3090,  -2.1903,  16.3952,  17.7663],\n",
       "        [-11.3654,   2.3377,   7.3164,  -9.5081,  10.9965,  15.5820,   6.5324,  12.6686,  -2.9444,  27.3249]], grad_fn=<AddBackward0>)"
      ]
     },
     "execution_count": 66,
     "metadata": {},
     "output_type": "execute_result"
    }
   ],
   "source": [
    "preds = linear1(batch)\n",
    "preds"
   ]
  },
  {
   "cell_type": "code",
   "execution_count": 78,
   "metadata": {},
   "outputs": [
    {
     "data": {
      "text/plain": [
       "tensor([[0],\n",
       "        [0],\n",
       "        [0],\n",
       "        ...,\n",
       "        [9],\n",
       "        [9],\n",
       "        [9]])"
      ]
     },
     "execution_count": 78,
     "metadata": {},
     "output_type": "execute_result"
    }
   ],
   "source": [
    "weights.shape\n",
    "bias.shape\n",
    "train_y[:4]\n",
    "train_y"
   ]
  },
  {
   "cell_type": "code",
   "execution_count": 92,
   "metadata": {},
   "outputs": [
    {
     "data": {
      "text/plain": [
       "tensor(7.1512, grad_fn=<MeanBackward0>)"
      ]
     },
     "execution_count": 92,
     "metadata": {},
     "output_type": "execute_result"
    }
   ],
   "source": [
    "loss = mnist_loss(preds, train_y[:4].squeeze(1))\n",
    "loss"
   ]
  },
  {
   "cell_type": "code",
   "execution_count": 94,
   "metadata": {},
   "outputs": [
    {
     "data": {
      "text/plain": [
       "(torch.Size([784, 10]),\n",
       " tensor(0.0145),\n",
       " tensor([-0.1000,  0.1000,  0.1000,  0.1000,  0.1000,  0.1000,  0.1000,  0.1000,  0.1000,  0.1000]))"
      ]
     },
     "execution_count": 94,
     "metadata": {},
     "output_type": "execute_result"
    }
   ],
   "source": [
    "loss.backward()\n",
    "weights.grad.shape,weights.grad.mean(),bias.grad"
   ]
  },
  {
   "cell_type": "code",
   "execution_count": 95,
   "metadata": {},
   "outputs": [],
   "source": [
    "def calc_grad(xb, yb, model):\n",
    "    preds = model(xb)\n",
    "    loss = mnist_loss(preds, yb)\n",
    "    loss.backward()"
   ]
  },
  {
   "cell_type": "code",
   "execution_count": 96,
   "metadata": {},
   "outputs": [
    {
     "data": {
      "text/plain": [
       "(tensor(0.0290),\n",
       " tensor([-0.2000,  0.2000,  0.2000,  0.2000,  0.2000,  0.2000,  0.2000,  0.2000,  0.2000,  0.2000]))"
      ]
     },
     "execution_count": 96,
     "metadata": {},
     "output_type": "execute_result"
    }
   ],
   "source": [
    "calc_grad(batch, train_y[:4].squeeze(1), linear1)\n",
    "weights.grad.mean(),bias.grad"
   ]
  },
  {
   "cell_type": "code",
   "execution_count": 97,
   "metadata": {},
   "outputs": [],
   "source": [
    "weights.grad.zero_()\n",
    "bias.grad.zero_();"
   ]
  },
  {
   "cell_type": "code",
   "execution_count": 98,
   "metadata": {},
   "outputs": [],
   "source": [
    "def train_epoch(model, lr, params):\n",
    "    for xb,yb in dl:\n",
    "        calc_grad(xb, yb, model)\n",
    "        for p in params:\n",
    "            p.data -= p.grad*lr\n",
    "            p.grad.zero_()\n",
    "\n"
   ]
  },
  {
   "cell_type": "code",
   "execution_count": 110,
   "metadata": {},
   "outputs": [
    {
     "data": {
      "text/plain": [
       "(tensor([6, 6]), tensor([1, 2]))"
      ]
     },
     "execution_count": 110,
     "metadata": {},
     "output_type": "execute_result"
    }
   ],
   "source": [
    "normalize_prediction(prds).max(1).indices, trgts"
   ]
  },
  {
   "cell_type": "code",
   "execution_count": 114,
   "metadata": {},
   "outputs": [
    {
     "data": {
      "text/plain": [
       "tensor([False,  True])"
      ]
     },
     "execution_count": 114,
     "metadata": {},
     "output_type": "execute_result"
    }
   ],
   "source": [
    "normalize_prediction(prds).max(1).indices == trgts"
   ]
  },
  {
   "cell_type": "code",
   "execution_count": 115,
   "metadata": {},
   "outputs": [
    {
     "data": {
      "text/plain": [
       "tensor(0.5000)"
      ]
     },
     "execution_count": 115,
     "metadata": {},
     "output_type": "execute_result"
    }
   ],
   "source": [
    "def batch_accuracy(xb, yb):\n",
    "    correct = normalize_prediction(xb).max(1).indices == yb\n",
    "    return correct.float().mean()\n",
    "\n",
    "batch_accuracy(prds, trgts)"
   ]
  },
  {
   "cell_type": "code",
   "execution_count": 116,
   "metadata": {},
   "outputs": [],
   "source": [
    "valid_dl = DataLoader(valid_dset, batch_size=256)"
   ]
  },
  {
   "cell_type": "code",
   "execution_count": 117,
   "metadata": {},
   "outputs": [],
   "source": [
    "\n",
    "def validate_epoch(model):\n",
    "    accs = [batch_accuracy(model(xb), yb) for xb,yb in valid_dl]\n",
    "    return round(torch.stack(accs).mean().item(), 4)"
   ]
  },
  {
   "cell_type": "code",
   "execution_count": 118,
   "metadata": {},
   "outputs": [
    {
     "data": {
      "text/plain": [
       "(torch.Size([256, 784]), torch.Size([256, 1]))"
      ]
     },
     "execution_count": 118,
     "metadata": {},
     "output_type": "execute_result"
    }
   ],
   "source": [
    "xb = train_x\n",
    "yb = train_y\n",
    "xb,yb = first(valid_dl)\n",
    "xb.shape,yb.shape"
   ]
  },
  {
   "cell_type": "code",
   "execution_count": null,
   "metadata": {},
   "outputs": [],
   "source": [
    "lr = 0.01\n",
    "weights = init_params((28*28,1))\n",
    "bias = init_params(1)\n",
    "for i in range(100):\n",
    "    preds = linear1(xb)\n",
    "    print(validate_epoch(linear1))\n",
    "    loss = mnist_loss(preds, yb.squeeze(1))\n",
    "    loss.backward()\n",
    "    for weight in weights:\n",
    "        weight.data -= weight.grad*lr\n",
    "        weight.grad.zero_()\n",
    "    bias.data -= bias.grad*lr\n",
    "    bias.grad.zero_()\n",
    "print(validate_epoch(linear1))\n"
   ]
  },
  {
   "cell_type": "code",
   "execution_count": null,
   "metadata": {},
   "outputs": [],
   "source": [
    "lr = 0.00001\n",
    "linear1 = nn.Linear(28*28,1)\n",
    "for i in range(100):\n",
    "    train_epoch(linear1, lr, linear1.parameters())\n",
    "    print(validate_epoch(linear1))"
   ]
  },
  {
   "cell_type": "code",
   "execution_count": 157,
   "metadata": {},
   "outputs": [
    {
     "name": "stdout",
     "output_type": "stream",
     "text": [
      "0.1506\n",
      "0.1757\n",
      "0.204\n",
      "0.2264\n",
      "0.2447\n",
      "0.268\n",
      "0.2993\n",
      "0.3383\n",
      "0.373\n",
      "0.3994\n",
      "0.4201\n",
      "0.4356\n",
      "0.4523\n",
      "0.4635\n",
      "0.4731\n",
      "0.4843\n",
      "0.496\n",
      "0.5044\n",
      "0.5124\n",
      "0.5191\n",
      "0.5262\n",
      "0.5323\n",
      "0.5377\n",
      "0.5422\n",
      "0.5488\n",
      "0.5553\n",
      "0.5612\n",
      "0.5672\n",
      "0.5722\n",
      "0.5759\n",
      "0.5787\n",
      "0.5823\n",
      "0.5845\n",
      "0.5889\n",
      "0.5908\n",
      "0.5933\n",
      "0.5957\n",
      "0.5993\n",
      "0.601\n",
      "0.6016\n",
      "0.6055\n",
      "0.6069\n",
      "0.6076\n",
      "0.6097\n",
      "0.6108\n",
      "0.613\n",
      "0.6136\n",
      "0.6141\n",
      "0.616\n",
      "0.6172\n",
      "0.6177\n",
      "0.6197\n",
      "0.6219\n",
      "0.6227\n",
      "0.6231\n",
      "0.6238\n",
      "0.6248\n",
      "0.6246\n",
      "0.6247\n",
      "0.625\n",
      "0.6253\n",
      "0.6256\n",
      "0.6264\n",
      "0.6264\n",
      "0.6267\n",
      "0.6268\n",
      "0.6273\n",
      "0.6276\n",
      "0.6273\n",
      "0.6276\n",
      "0.6281\n",
      "0.6281\n",
      "0.6284\n",
      "0.6283\n",
      "0.6284\n",
      "0.6284\n",
      "0.6285\n",
      "0.6291\n",
      "0.6295\n",
      "0.6288\n",
      "0.6305\n",
      "0.6303\n",
      "0.6303\n",
      "0.6303\n",
      "0.6299\n",
      "0.6295\n",
      "0.6311\n",
      "0.6308\n",
      "0.631\n",
      "0.6312\n",
      "0.6312\n",
      "0.6308\n",
      "0.6305\n",
      "0.6302\n",
      "0.63\n",
      "0.6299\n",
      "0.6297\n",
      "0.6298\n",
      "0.6291\n",
      "0.6285\n"
     ]
    }
   ],
   "source": [
    "def train_epoch(model):\n",
    "    for xb,yb in dl:\n",
    "        calc_grad(xb, yb, model)\n",
    "        opt.step()\n",
    "        opt.zero_grad()\n",
    "\n",
    "def train_model(model, epochs):\n",
    "    for i in range(epochs):\n",
    "        train_epoch(model)\n",
    "        print(validate_epoch(model))\n",
    "\n",
    "linear_model = nn.Linear(28*28,10)\n",
    "opt = SGD(linear_model.parameters(), 0.00074)\n",
    "train_model(linear_model, 100)"
   ]
  }
 ],
 "metadata": {
  "kernelspec": {
   "display_name": "base",
   "language": "python",
   "name": "python3"
  },
  "language_info": {
   "codemirror_mode": {
    "name": "ipython",
    "version": 3
   },
   "file_extension": ".py",
   "mimetype": "text/x-python",
   "name": "python",
   "nbconvert_exporter": "python",
   "pygments_lexer": "ipython3",
   "version": "3.12.7"
  }
 },
 "nbformat": 4,
 "nbformat_minor": 2
}
