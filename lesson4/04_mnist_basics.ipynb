{
  "cells": [
    {
      "cell_type": "code",
      "execution_count": 1,
      "metadata": {
        "id": "iudv4ImOr-Oe"
      },
      "outputs": [
        {
          "name": "stderr",
          "output_type": "stream",
          "text": [
            "'[' is not recognized as an internal or external command,\n",
            "operable program or batch file.\n"
          ]
        }
      ],
      "source": [
        "#hide\n",
        "! [ -e /content ] && pip install -Uqq fastbook\n",
        "import fastbook\n",
        "fastbook.setup_book()\n"
      ]
    },
    {
      "cell_type": "code",
      "execution_count": 3,
      "metadata": {
        "id": "Cgy0N66kr-Oh"
      },
      "outputs": [],
      "source": [
        "#hide\n",
        "from fastai.vision.all import *\n",
        "from fastbook import *\n",
        "\n",
        "matplotlib.rc('image', cmap='Greys')"
      ]
    },
    {
      "cell_type": "raw",
      "metadata": {
        "id": "7YW2yBXIr-Oh"
      },
      "source": [
        "[[chapter_mnist_basics]]"
      ]
    },
    {
      "cell_type": "markdown",
      "metadata": {
        "id": "d4BFWN4cr-Oi"
      },
      "source": [
        "# Under the Hood: Training a Digit Classifier"
      ]
    },
    {
      "cell_type": "markdown",
      "metadata": {
        "id": "aa2xyGOUr-Oj"
      },
      "source": [
        "Having seen what it looks like to actually train a variety of models in Chapter 2, let’s now look under the hood and see exactly what is going on. We’ll start by using computer vision to introduce fundamental tools and concepts for deep learning.\n",
        "\n",
        "To be exact, we'll discuss the roles of arrays and tensors and of broadcasting, a powerful technique for using them expressively. We'll explain stochastic gradient descent (SGD), the mechanism for learning by updating weights automatically. We'll discuss the choice of a loss function for our basic classification task, and the role of mini-batches. We'll also describe the math that a basic neural network is actually doing. Finally, we'll put all these pieces together.\n",
        "\n",
        "In future chapters we’ll do deep dives into other applications as well, and see how these concepts and tools generalize. But this chapter is about laying foundation stones. To be frank, that also makes this one of the hardest chapters, because of how these concepts all depend on each other. Like an arch, all the stones need to be in place for the structure to stay up. Also like an arch, once that happens, it's a powerful structure that can support other things. But it requires some patience to assemble.\n",
        "\n",
        "Let's begin. The first step is to consider how images are represented in a computer."
      ]
    },
    {
      "cell_type": "markdown",
      "metadata": {
        "id": "llaPGzGdr-Oj"
      },
      "source": [
        "## Pixels: The Foundations of Computer Vision"
      ]
    },
    {
      "cell_type": "markdown",
      "metadata": {
        "id": "mPFsY5V1r-Oj"
      },
      "source": [
        "In order to understand what happens in a computer vision model, we first have to understand how computers handle images. We'll use one of the most famous datasets in computer vision, [MNIST](https://en.wikipedia.org/wiki/MNIST_database), for our experiments. MNIST contains images of handwritten digits, collected by the National Institute of Standards and Technology and collated into a machine learning dataset by Yann Lecun and his colleagues. Lecun used MNIST in 1998 in [Lenet-5](http://yann.lecun.com/exdb/lenet/), the first computer system to demonstrate practically useful recognition of handwritten digit sequences. This was one of the most important breakthroughs in the history of AI."
      ]
    },
    {
      "cell_type": "markdown",
      "metadata": {
        "id": "G-U_fBc_r-Ol"
      },
      "source": [
        "## Sidebar: Tenacity and Deep Learning"
      ]
    },
    {
      "cell_type": "markdown",
      "metadata": {
        "id": "VgkYmknmr-Om"
      },
      "source": [
        "The story of deep learning is one of tenacity and grit by a handful of dedicated researchers. After early hopes (and hype!) neural networks went out of favor in the 1990's and 2000's, and just a handful of researchers kept trying to make them work well. Three of them, Yann Lecun, Yoshua Bengio, and Geoffrey Hinton, were awarded the highest honor in computer science, the Turing Award (generally considered the \"Nobel Prize of computer science\"), in 2018 after triumphing despite the deep skepticism and disinterest of the wider machine learning and statistics community.\n",
        "\n",
        "Geoff Hinton has told of how even academic papers showing dramatically better results than anything previously published would be rejected by top journals and conferences, just because they used a neural network. Yann Lecun's work on convolutional neural networks, which we will study in the next section, showed that these models could read handwritten text—something that had never been achieved before. However, his breakthrough was ignored by most researchers, even as it was used commercially to read 10% of the checks in the US!\n",
        "\n",
        "In addition to these three Turing Award winners, there are many other researchers who have battled to get us to where we are today. For instance, Jurgen Schmidhuber (who many believe should have shared in the Turing Award) pioneered many important ideas, including working with his student Sepp Hochreiter on the long short-term memory (LSTM) architecture (widely used for speech recognition and other text modeling tasks, and used in the IMDb example in <<chapter_intro>>). Perhaps most important of all, Paul Werbos in 1974 invented back-propagation for neural networks, the technique shown in this chapter and used universally for training neural networks ([Werbos 1994](https://books.google.com/books/about/The_Roots_of_Backpropagation.html?id=WdR3OOM2gBwC)). His development was almost entirely ignored for decades, but today it is considered the most important foundation of modern AI.\n",
        "\n",
        "There is a lesson here for all of us! On your deep learning journey you will face many obstacles, both technical, and (even more difficult) posed by people around you who don't believe you'll be successful. There's one *guaranteed* way to fail, and that's to stop trying. We've seen that the only consistent trait amongst every fast.ai student that's gone on to be a world-class practitioner is that they are all very tenacious."
      ]
    },
    {
      "cell_type": "markdown",
      "metadata": {
        "id": "pOucVvYjr-Om"
      },
      "source": [
        "## End sidebar"
      ]
    },
    {
      "cell_type": "markdown",
      "metadata": {
        "id": "jgcxyQ6or-Om"
      },
      "source": [
        "For this initial tutorial we are just going to try to create a model that can classify any image as a 3 or a 7. So let's download a sample of MNIST that contains images of just these digits:"
      ]
    },
    {
      "cell_type": "code",
      "execution_count": 4,
      "metadata": {
        "id": "YwitPTbJr-Om"
      },
      "outputs": [
        {
          "data": {
            "text/html": [
              "\n",
              "<style>\n",
              "    /* Turns off some styling */\n",
              "    progress {\n",
              "        /* gets rid of default border in Firefox and Opera. */\n",
              "        border: none;\n",
              "        /* Needs to be in here for Safari polyfill so background images work as expected. */\n",
              "        background-size: auto;\n",
              "    }\n",
              "    progress:not([value]), progress:not([value])::-webkit-progress-bar {\n",
              "        background: repeating-linear-gradient(45deg, #7e7e7e, #7e7e7e 10px, #5c5c5c 10px, #5c5c5c 20px);\n",
              "    }\n",
              "    .progress-bar-interrupted, .progress-bar-interrupted::-webkit-progress-bar {\n",
              "        background: #F44336;\n",
              "    }\n",
              "</style>\n"
            ],
            "text/plain": [
              "<IPython.core.display.HTML object>"
            ]
          },
          "metadata": {},
          "output_type": "display_data"
        },
        {
          "data": {
            "text/html": [
              "\n",
              "    <div>\n",
              "      <progress value='3219456' class='' max='3214948' style='width:300px; height:20px; vertical-align: middle;'></progress>\n",
              "      100.14% [3219456/3214948 00:00&lt;00:00]\n",
              "    </div>\n",
              "    "
            ],
            "text/plain": [
              "<IPython.core.display.HTML object>"
            ]
          },
          "metadata": {},
          "output_type": "display_data"
        }
      ],
      "source": [
        "path = untar_data(URLs.MNIST_SAMPLE)"
      ]
    },
    {
      "cell_type": "code",
      "execution_count": 172,
      "metadata": {
        "id": "LJrlfv-Pr-On"
      },
      "outputs": [
        {
          "data": {
            "text/plain": [
              "Path('.')"
            ]
          },
          "execution_count": 172,
          "metadata": {},
          "output_type": "execute_result"
        }
      ],
      "source": [
        "#hide\n",
        "Path.BASE_PATH = path\n",
        "Path.BASE_PATH"
      ]
    },
    {
      "cell_type": "markdown",
      "metadata": {
        "id": "IsB4pUGjr-On"
      },
      "source": [
        "We can see what's in this directory by using `ls`, a method added by fastai. This method returns an object of a special fastai class called `L`, which has all the same functionality of Python's built-in `list`, plus a lot more. One of its handy features is that, when printed, it displays the count of items, before listing the items themselves (if there are more than 10 items, it just shows the first few):"
      ]
    },
    {
      "cell_type": "code",
      "execution_count": null,
      "metadata": {
        "id": "ODhTcm1lr-On",
        "outputId": "e22691f6-5183-4348-9927-b8b2f9f0c380"
      },
      "outputs": [
        {
          "data": {
            "text/plain": [
              "(#3) [Path('labels.csv'),Path('train'),Path('valid')]"
            ]
          },
          "execution_count": 9,
          "metadata": {},
          "output_type": "execute_result"
        }
      ],
      "source": [
        "path.ls()"
      ]
    },
    {
      "cell_type": "markdown",
      "metadata": {
        "id": "1JLb8bX5r-Oo"
      },
      "source": [
        "The MNIST dataset follows a common layout for machine learning datasets: separate folders for the training set and the validation set (and/or test set). Let's see what's inside the training set:"
      ]
    },
    {
      "cell_type": "code",
      "execution_count": 173,
      "metadata": {
        "id": "4yX8C3DJr-Oo",
        "outputId": "c524c5f4-2291-4f34-e43a-ccf1dd49470d"
      },
      "outputs": [
        {
          "data": {
            "text/plain": [
              "(#2) [Path('train/3'),Path('train/7')]"
            ]
          },
          "execution_count": 173,
          "metadata": {},
          "output_type": "execute_result"
        }
      ],
      "source": [
        "(path/'train').ls()"
      ]
    },
    {
      "cell_type": "markdown",
      "metadata": {
        "id": "edF5dRmcr-Oo"
      },
      "source": [
        "There's a folder of 3s, and a folder of 7s. In machine learning parlance, we say that \"3\" and \"7\" are the *labels* (or targets) in this dataset. Let's take a look in one of these folders (using `sorted` to ensure we all get the same order of files):"
      ]
    },
    {
      "cell_type": "code",
      "execution_count": 10,
      "metadata": {
        "id": "FUXiGR0fr-Oo",
        "outputId": "8018509b-0d80-4e7c-a3d7-1ff6aba28ef4"
      },
      "outputs": [
        {
          "data": {
            "text/plain": [
              "(#6131) [Path('train/3/10.png'),Path('train/3/10000.png'),Path('train/3/10011.png'),Path('train/3/10031.png'),Path('train/3/10034.png'),Path('train/3/10042.png'),Path('train/3/10052.png'),Path('train/3/1007.png'),Path('train/3/10074.png'),Path('train/3/10091.png'),Path('train/3/10093.png'),Path('train/3/10097.png'),Path('train/3/10099.png'),Path('train/3/10116.png'),Path('train/3/10125.png'),Path('train/3/10137.png'),Path('train/3/10141.png'),Path('train/3/10144.png'),Path('train/3/10155.png'),Path('train/3/10161.png')...]"
            ]
          },
          "execution_count": 10,
          "metadata": {},
          "output_type": "execute_result"
        }
      ],
      "source": [
        "threes = (path/'train'/'3').ls().sorted()\n",
        "sevens = (path/'train'/'7').ls().sorted()\n",
        "threes"
      ]
    },
    {
      "cell_type": "markdown",
      "metadata": {
        "id": "4ppT8C34r-Oo"
      },
      "source": [
        "As we might expect, it's full of image files. Let’s take a look at one now. Here’s an image of a handwritten number 3, taken from the famous MNIST dataset of handwritten numbers:"
      ]
    },
    {
      "cell_type": "code",
      "execution_count": 18,
      "metadata": {
        "id": "frcBUogFr-Oo",
        "outputId": "7c05b0e6-03c4-4b48-cd37-ea65f409e6d4"
      },
      "outputs": [
        {
          "data": {
            "image/jpeg": "[encoded data removed]",
            "image/png": "[encoded data removed]",
            "text/plain": [
              "<PIL.PngImagePlugin.PngImageFile image mode=L size=28x28>"
            ]
          },
          "execution_count": 18,
          "metadata": {},
          "output_type": "execute_result"
        }
      ],
      "source": [
        "im3_path = threes[53]\n",
        "im3 = Image.open(im3_path)\n",
        "im3"
      ]
    },
    {
      "cell_type": "markdown",
      "metadata": {
        "id": "6bMimj4lr-Oo"
      },
      "source": [
        "Here we are using the `Image` class from the *Python Imaging Library* (PIL), which is the most widely used Python package for opening, manipulating, and viewing images. Jupyter knows about PIL images, so it displays the image for us automatically.\n",
        "\n",
        "In a computer, everything is represented as a number. To view the numbers that make up this image, we have to convert it to a *NumPy array* or a *PyTorch tensor*. For instance, here's what a section of the image looks like, converted to a NumPy array:"
      ]
    },
    {
      "cell_type": "code",
      "execution_count": 14,
      "metadata": {
        "id": "63Voyd7Jr-Op",
        "outputId": "db12573a-94d0-4184-a817-fed3fc07f6f0"
      },
      "outputs": [
        {
          "data": {
            "text/plain": [
              "array([[  0,   0,   0,   0,   0,   0],\n",
              "       [  0,   0,   0,   0,   8, 134],\n",
              "       [  0,   0,  27, 132, 196, 253],\n",
              "       [  8, 133, 233, 253, 253, 253],\n",
              "       [ 36, 253, 253, 253, 223, 182],\n",
              "       [ 36, 253, 253, 222,  41,   0]], dtype=uint8)"
            ]
          },
          "execution_count": 14,
          "metadata": {},
          "output_type": "execute_result"
        }
      ],
      "source": [
        "array(im3)[4:10,4:10]"
      ]
    },
    {
      "cell_type": "markdown",
      "metadata": {
        "id": "zdHW9btHr-Op"
      },
      "source": [
        "The `4:10` indicates we requested the rows from index 4 (included) to 10 (not included) and the same for the columns. NumPy indexes from top to bottom and left to right, so this section is located in the top-left corner of the image. Here's the same thing as a PyTorch tensor:"
      ]
    },
    {
      "cell_type": "code",
      "execution_count": 15,
      "metadata": {
        "id": "9vGWq0bur-Op",
        "outputId": "9fad9772-66f5-4c21-c0e5-63cbf3896f26"
      },
      "outputs": [
        {
          "data": {
            "text/plain": [
              "tensor([[  0,   0,   0,   0,   0,   0],\n",
              "        [  0,   0,   0,   0,   8, 134],\n",
              "        [  0,   0,  27, 132, 196, 253],\n",
              "        [  8, 133, 233, 253, 253, 253],\n",
              "        [ 36, 253, 253, 253, 223, 182],\n",
              "        [ 36, 253, 253, 222,  41,   0]], dtype=torch.uint8)"
            ]
          },
          "execution_count": 15,
          "metadata": {},
          "output_type": "execute_result"
        }
      ],
      "source": [
        "tensor(im3)[4:10,4:10]"
      ]
    },
    {
      "cell_type": "markdown",
      "metadata": {
        "id": "iP2fk0tZr-Op"
      },
      "source": [
        "We can slice the array to pick just the part with the top of the digit in it, and then use a Pandas DataFrame to color-code the values using a gradient, which shows us clearly how the image is created from the pixel values:"
      ]
    },
    {
      "cell_type": "code",
      "execution_count": 19,
      "metadata": {
        "id": "RrZ0pI9hr-Op",
        "outputId": "187a1b77-d15f-4e31-db79-f6a09b74d3a9"
      },
      "outputs": [
        {
          "data": {
            "text/html": [
              "<style type=\"text/css\">\n",
              "#T_6befa_row0_col0, #T_6befa_row0_col1, #T_6befa_row0_col2, #T_6befa_row0_col3, #T_6befa_row0_col4, #T_6befa_row0_col5, #T_6befa_row0_col6, #T_6befa_row0_col7, #T_6befa_row0_col8, #T_6befa_row0_col9, #T_6befa_row0_col10, #T_6befa_row0_col11, #T_6befa_row0_col12, #T_6befa_row0_col13, #T_6befa_row0_col14, #T_6befa_row0_col15, #T_6befa_row0_col16, #T_6befa_row0_col17, #T_6befa_row0_col18, #T_6befa_row0_col19, #T_6befa_row0_col20, #T_6befa_row0_col21, #T_6befa_row0_col22, #T_6befa_row0_col23, #T_6befa_row0_col24, #T_6befa_row0_col25, #T_6befa_row0_col26, #T_6befa_row0_col27, #T_6befa_row1_col0, #T_6befa_row1_col1, #T_6befa_row1_col2, #T_6befa_row1_col3, #T_6befa_row1_col4, #T_6befa_row1_col5, #T_6befa_row1_col6, #T_6befa_row1_col7, #T_6befa_row1_col8, #T_6befa_row1_col9, #T_6befa_row1_col10, #T_6befa_row1_col11, #T_6befa_row1_col12, #T_6befa_row1_col13, #T_6befa_row1_col14, #T_6befa_row1_col15, #T_6befa_row1_col16, #T_6befa_row1_col17, #T_6befa_row1_col18, #T_6befa_row1_col19, #T_6befa_row1_col20, #T_6befa_row1_col21, #T_6befa_row1_col22, #T_6befa_row1_col23, #T_6befa_row1_col24, #T_6befa_row1_col25, #T_6befa_row1_col26, #T_6befa_row1_col27, #T_6befa_row2_col0, #T_6befa_row2_col1, #T_6befa_row2_col2, #T_6befa_row2_col3, #T_6befa_row2_col4, #T_6befa_row2_col5, #T_6befa_row2_col6, #T_6befa_row2_col7, #T_6befa_row2_col8, #T_6befa_row2_col9, #T_6befa_row2_col10, #T_6befa_row2_col11, #T_6befa_row2_col12, #T_6befa_row2_col13, #T_6befa_row2_col14, #T_6befa_row2_col15, #T_6befa_row2_col16, #T_6befa_row2_col17, #T_6befa_row2_col18, #T_6befa_row2_col19, #T_6befa_row2_col20, #T_6befa_row2_col21, #T_6befa_row2_col22, #T_6befa_row2_col23, #T_6befa_row2_col24, #T_6befa_row2_col25, #T_6befa_row2_col26, #T_6befa_row2_col27, #T_6befa_row3_col0, #T_6befa_row3_col1, #T_6befa_row3_col2, #T_6befa_row3_col3, #T_6befa_row3_col4, #T_6befa_row3_col5, #T_6befa_row3_col6, #T_6befa_row3_col7, #T_6befa_row3_col8, #T_6befa_row3_col9, #T_6befa_row3_col10, #T_6befa_row3_col11, #T_6befa_row3_col12, #T_6befa_row3_col13, #T_6befa_row3_col14, #T_6befa_row3_col15, #T_6befa_row3_col16, #T_6befa_row3_col17, #T_6befa_row3_col18, #T_6befa_row3_col19, #T_6befa_row3_col20, #T_6befa_row3_col21, #T_6befa_row3_col22, #T_6befa_row3_col23, #T_6befa_row3_col24, #T_6befa_row3_col25, #T_6befa_row3_col26, #T_6befa_row3_col27, #T_6befa_row4_col0, #T_6befa_row4_col1, #T_6befa_row4_col2, #T_6befa_row4_col3, #T_6befa_row4_col4, #T_6befa_row4_col5, #T_6befa_row4_col6, #T_6befa_row4_col7, #T_6befa_row4_col8, #T_6befa_row4_col9, #T_6befa_row4_col10, #T_6befa_row4_col11, #T_6befa_row4_col12, #T_6befa_row4_col13, #T_6befa_row4_col14, #T_6befa_row4_col15, #T_6befa_row4_col16, #T_6befa_row4_col17, #T_6befa_row4_col18, #T_6befa_row4_col19, #T_6befa_row4_col20, #T_6befa_row4_col21, #T_6befa_row4_col22, #T_6befa_row4_col23, #T_6befa_row4_col24, #T_6befa_row4_col25, #T_6befa_row4_col26, #T_6befa_row4_col27, #T_6befa_row5_col0, #T_6befa_row5_col1, #T_6befa_row5_col2, #T_6befa_row5_col3, #T_6befa_row5_col4, #T_6befa_row5_col5, #T_6befa_row5_col6, #T_6befa_row5_col7, #T_6befa_row5_col8, #T_6befa_row5_col9, #T_6befa_row5_col15, #T_6befa_row5_col16, #T_6befa_row5_col17, #T_6befa_row5_col18, #T_6befa_row5_col19, #T_6befa_row5_col20, #T_6befa_row5_col21, #T_6befa_row5_col22, #T_6befa_row5_col23, #T_6befa_row5_col24, #T_6befa_row5_col25, #T_6befa_row5_col26, #T_6befa_row5_col27, #T_6befa_row6_col0, #T_6befa_row6_col1, #T_6befa_row6_col2, #T_6befa_row6_col3, #T_6befa_row6_col4, #T_6befa_row6_col5, #T_6befa_row6_col20, #T_6befa_row6_col21, #T_6befa_row6_col22, #T_6befa_row6_col23, #T_6befa_row6_col24, #T_6befa_row6_col25, #T_6befa_row6_col26, #T_6befa_row6_col27, #T_6befa_row7_col0, #T_6befa_row7_col1, #T_6befa_row7_col2, #T_6befa_row7_col3, #T_6befa_row7_col4, #T_6befa_row7_col23, #T_6befa_row7_col24, #T_6befa_row7_col25, #T_6befa_row7_col26, #T_6befa_row7_col27, #T_6befa_row8_col0, #T_6befa_row8_col1, #T_6befa_row8_col2, #T_6befa_row8_col3, #T_6befa_row8_col4, #T_6befa_row8_col5, #T_6befa_row8_col23, #T_6befa_row8_col24, #T_6befa_row8_col25, #T_6befa_row8_col26, #T_6befa_row8_col27, #T_6befa_row9_col0, #T_6befa_row9_col1, #T_6befa_row9_col2, #T_6befa_row9_col3, #T_6befa_row9_col4, #T_6befa_row9_col5, #T_6befa_row9_col23, #T_6befa_row9_col24, #T_6befa_row9_col25, #T_6befa_row9_col26, #T_6befa_row9_col27, #T_6befa_row10_col0, #T_6befa_row10_col1, #T_6befa_row10_col2, #T_6befa_row10_col3, #T_6befa_row10_col4, #T_6befa_row10_col5, #T_6befa_row10_col6, #T_6befa_row10_col7, #T_6befa_row10_col8, #T_6befa_row10_col9, #T_6befa_row10_col10, #T_6befa_row10_col11, #T_6befa_row10_col12, #T_6befa_row10_col13, #T_6befa_row10_col14, #T_6befa_row10_col15, #T_6befa_row10_col16, #T_6befa_row10_col23, #T_6befa_row10_col24, #T_6befa_row10_col25, #T_6befa_row10_col26, #T_6befa_row10_col27, #T_6befa_row11_col0, #T_6befa_row11_col1, #T_6befa_row11_col2, #T_6befa_row11_col3, #T_6befa_row11_col4, #T_6befa_row11_col5, #T_6befa_row11_col6, #T_6befa_row11_col7, #T_6befa_row11_col8, #T_6befa_row11_col9, #T_6befa_row11_col10, #T_6befa_row11_col11, #T_6befa_row11_col12, #T_6befa_row11_col13, #T_6befa_row11_col22, #T_6befa_row11_col23, #T_6befa_row11_col24, #T_6befa_row11_col25, #T_6befa_row11_col26, #T_6befa_row11_col27, #T_6befa_row12_col0, #T_6befa_row12_col1, #T_6befa_row12_col2, #T_6befa_row12_col3, #T_6befa_row12_col4, #T_6befa_row12_col5, #T_6befa_row12_col6, #T_6befa_row12_col7, #T_6befa_row12_col8, #T_6befa_row12_col9, #T_6befa_row12_col10, #T_6befa_row12_col11, #T_6befa_row12_col12, #T_6befa_row12_col20, #T_6befa_row12_col21, #T_6befa_row12_col22, #T_6befa_row12_col23, #T_6befa_row12_col24, #T_6befa_row12_col25, #T_6befa_row12_col26, #T_6befa_row12_col27, #T_6befa_row13_col0, #T_6befa_row13_col1, #T_6befa_row13_col2, #T_6befa_row13_col3, #T_6befa_row13_col4, #T_6befa_row13_col5, #T_6befa_row13_col6, #T_6befa_row13_col7, #T_6befa_row13_col8, #T_6befa_row13_col9, #T_6befa_row13_col19, #T_6befa_row13_col20, #T_6befa_row13_col21, #T_6befa_row13_col22, #T_6befa_row13_col23, #T_6befa_row13_col24, #T_6befa_row13_col25, #T_6befa_row13_col26, #T_6befa_row13_col27, #T_6befa_row14_col0, #T_6befa_row14_col1, #T_6befa_row14_col2, #T_6befa_row14_col3, #T_6befa_row14_col4, #T_6befa_row14_col5, #T_6befa_row14_col6, #T_6befa_row14_col21, #T_6befa_row14_col22, #T_6befa_row14_col23, #T_6befa_row14_col24, #T_6befa_row14_col25, #T_6befa_row14_col26, #T_6befa_row14_col27, #T_6befa_row15_col0, #T_6befa_row15_col1, #T_6befa_row15_col2, #T_6befa_row15_col3, #T_6befa_row15_col4, #T_6befa_row15_col5, #T_6befa_row15_col6, #T_6befa_row15_col23, #T_6befa_row15_col24, #T_6befa_row15_col25, #T_6befa_row15_col26, #T_6befa_row15_col27, #T_6befa_row16_col0, #T_6befa_row16_col1, #T_6befa_row16_col2, #T_6befa_row16_col3, #T_6befa_row16_col4, #T_6befa_row16_col5, #T_6befa_row16_col6, #T_6befa_row16_col16, #T_6befa_row16_col24, #T_6befa_row16_col25, #T_6befa_row16_col26, #T_6befa_row16_col27, #T_6befa_row17_col0, #T_6befa_row17_col1, #T_6befa_row17_col2, #T_6befa_row17_col3, #T_6befa_row17_col4, #T_6befa_row17_col5, #T_6befa_row17_col6, #T_6befa_row17_col7, #T_6befa_row17_col10, #T_6befa_row17_col11, #T_6befa_row17_col12, #T_6befa_row17_col13, #T_6befa_row17_col14, #T_6befa_row17_col15, #T_6befa_row17_col16, #T_6befa_row17_col17, #T_6befa_row17_col18, #T_6befa_row17_col24, #T_6befa_row17_col25, #T_6befa_row17_col26, #T_6befa_row17_col27, #T_6befa_row18_col0, #T_6befa_row18_col1, #T_6befa_row18_col2, #T_6befa_row18_col3, #T_6befa_row18_col4, #T_6befa_row18_col5, #T_6befa_row18_col6, #T_6befa_row18_col7, #T_6befa_row18_col8, #T_6befa_row18_col9, #T_6befa_row18_col10, #T_6befa_row18_col11, #T_6befa_row18_col12, #T_6befa_row18_col13, #T_6befa_row18_col14, #T_6befa_row18_col15, #T_6befa_row18_col16, #T_6befa_row18_col17, #T_6befa_row18_col18, #T_6befa_row18_col24, #T_6befa_row18_col25, #T_6befa_row18_col26, #T_6befa_row18_col27, #T_6befa_row19_col0, #T_6befa_row19_col1, #T_6befa_row19_col2, #T_6befa_row19_col3, #T_6befa_row19_col4, #T_6befa_row19_col5, #T_6befa_row19_col6, #T_6befa_row19_col7, #T_6befa_row19_col8, #T_6befa_row19_col9, #T_6befa_row19_col10, #T_6befa_row19_col11, #T_6befa_row19_col12, #T_6befa_row19_col13, #T_6befa_row19_col14, #T_6befa_row19_col15, #T_6befa_row19_col16, #T_6befa_row19_col24, #T_6befa_row19_col25, #T_6befa_row19_col26, #T_6befa_row19_col27, #T_6befa_row20_col0, #T_6befa_row20_col1, #T_6befa_row20_col2, #T_6befa_row20_col3, #T_6befa_row20_col9, #T_6befa_row20_col10, #T_6befa_row20_col11, #T_6befa_row20_col12, #T_6befa_row20_col13, #T_6befa_row20_col14, #T_6befa_row20_col22, #T_6befa_row20_col23, #T_6befa_row20_col24, #T_6befa_row20_col25, #T_6befa_row20_col26, #T_6befa_row20_col27, #T_6befa_row21_col0, #T_6befa_row21_col1, #T_6befa_row21_col2, #T_6befa_row21_col3, #T_6befa_row21_col22, #T_6befa_row21_col23, #T_6befa_row21_col24, #T_6befa_row21_col25, #T_6befa_row21_col26, #T_6befa_row21_col27, #T_6befa_row22_col0, #T_6befa_row22_col1, #T_6befa_row22_col2, #T_6befa_row22_col3, #T_6befa_row22_col20, #T_6befa_row22_col21, #T_6befa_row22_col22, #T_6befa_row22_col23, #T_6befa_row22_col24, #T_6befa_row22_col25, #T_6befa_row22_col26, #T_6befa_row22_col27, #T_6befa_row23_col0, #T_6befa_row23_col1, #T_6befa_row23_col2, #T_6befa_row23_col3, #T_6befa_row23_col18, #T_6befa_row23_col19, #T_6befa_row23_col20, #T_6befa_row23_col21, #T_6befa_row23_col22, #T_6befa_row23_col23, #T_6befa_row23_col24, #T_6befa_row23_col25, #T_6befa_row23_col26, #T_6befa_row23_col27, #T_6befa_row24_col0, #T_6befa_row24_col1, #T_6befa_row24_col2, #T_6befa_row24_col3, #T_6befa_row24_col4, #T_6befa_row24_col5, #T_6befa_row24_col6, #T_6befa_row24_col7, #T_6befa_row24_col8, #T_6befa_row24_col9, #T_6befa_row24_col12, #T_6befa_row24_col13, #T_6befa_row24_col14, #T_6befa_row24_col15, #T_6befa_row24_col16, #T_6befa_row24_col17, #T_6befa_row24_col18, #T_6befa_row24_col19, #T_6befa_row24_col20, #T_6befa_row24_col21, #T_6befa_row24_col22, #T_6befa_row24_col23, #T_6befa_row24_col24, #T_6befa_row24_col25, #T_6befa_row24_col26, #T_6befa_row24_col27, #T_6befa_row25_col0, #T_6befa_row25_col1, #T_6befa_row25_col2, #T_6befa_row25_col3, #T_6befa_row25_col4, #T_6befa_row25_col5, #T_6befa_row25_col6, #T_6befa_row25_col7, #T_6befa_row25_col8, #T_6befa_row25_col9, #T_6befa_row25_col10, #T_6befa_row25_col11, #T_6befa_row25_col12, #T_6befa_row25_col13, #T_6befa_row25_col14, #T_6befa_row25_col15, #T_6befa_row25_col16, #T_6befa_row25_col17, #T_6befa_row25_col18, #T_6befa_row25_col19, #T_6befa_row25_col20, #T_6befa_row25_col21, #T_6befa_row25_col22, #T_6befa_row25_col23, #T_6befa_row25_col24, #T_6befa_row25_col25, #T_6befa_row25_col26, #T_6befa_row25_col27, #T_6befa_row26_col0, #T_6befa_row26_col1, #T_6befa_row26_col2, #T_6befa_row26_col3, #T_6befa_row26_col4, #T_6befa_row26_col5, #T_6befa_row26_col6, #T_6befa_row26_col7, #T_6befa_row26_col8, #T_6befa_row26_col9, #T_6befa_row26_col10, #T_6befa_row26_col11, #T_6befa_row26_col12, #T_6befa_row26_col13, #T_6befa_row26_col14, #T_6befa_row26_col15, #T_6befa_row26_col16, #T_6befa_row26_col17, #T_6befa_row26_col18, #T_6befa_row26_col19, #T_6befa_row26_col20, #T_6befa_row26_col21, #T_6befa_row26_col22, #T_6befa_row26_col23, #T_6befa_row26_col24, #T_6befa_row26_col25, #T_6befa_row26_col26, #T_6befa_row26_col27, #T_6befa_row27_col0, #T_6befa_row27_col1, #T_6befa_row27_col2, #T_6befa_row27_col3, #T_6befa_row27_col4, #T_6befa_row27_col5, #T_6befa_row27_col6, #T_6befa_row27_col7, #T_6befa_row27_col8, #T_6befa_row27_col9, #T_6befa_row27_col10, #T_6befa_row27_col11, #T_6befa_row27_col12, #T_6befa_row27_col13, #T_6befa_row27_col14, #T_6befa_row27_col15, #T_6befa_row27_col16, #T_6befa_row27_col17, #T_6befa_row27_col18, #T_6befa_row27_col19, #T_6befa_row27_col20, #T_6befa_row27_col21, #T_6befa_row27_col22, #T_6befa_row27_col23, #T_6befa_row27_col24, #T_6befa_row27_col25, #T_6befa_row27_col26, #T_6befa_row27_col27 {\n",
              "  font-size: 6pt;\n",
              "  background-color: #ffffff;\n",
              "  color: #000000;\n",
              "}\n",
              "#T_6befa_row5_col10, #T_6befa_row5_col14, #T_6befa_row6_col7, #T_6befa_row6_col8, #T_6befa_row6_col15, #T_6befa_row6_col16, #T_6befa_row6_col17, #T_6befa_row6_col18, #T_6befa_row6_col19, #T_6befa_row7_col21, #T_6befa_row9_col6, #T_6befa_row9_col12, #T_6befa_row9_col13, #T_6befa_row9_col14, #T_6befa_row9_col15, #T_6befa_row9_col16, #T_6befa_row11_col15, #T_6befa_row12_col13, #T_6befa_row12_col19, #T_6befa_row13_col11, #T_6befa_row16_col7, #T_6befa_row16_col12, #T_6befa_row16_col13, #T_6befa_row16_col14, #T_6befa_row16_col17, #T_6befa_row16_col18, #T_6befa_row16_col23, #T_6befa_row17_col8, #T_6befa_row20_col5, #T_6befa_row20_col6, #T_6befa_row20_col7, #T_6befa_row23_col5, #T_6befa_row24_col10 {\n",
              "  font-size: 6pt;\n",
              "  background-color: #959595;\n",
              "  color: #f1f1f1;\n",
              "}\n",
              "#T_6befa_row5_col11, #T_6befa_row6_col9, #T_6befa_row8_col22, #T_6befa_row9_col7, #T_6befa_row9_col11, #T_6befa_row9_col17, #T_6befa_row9_col22, #T_6befa_row10_col17, #T_6befa_row11_col16, #T_6befa_row11_col20, #T_6befa_row14_col7, #T_6befa_row14_col20, #T_6befa_row15_col7, #T_6befa_row18_col23, #T_6befa_row19_col18, #T_6befa_row20_col16, #T_6befa_row21_col11, #T_6befa_row21_col20, #T_6befa_row23_col16 {\n",
              "  font-size: 6pt;\n",
              "  background-color: #525252;\n",
              "  color: #f1f1f1;\n",
              "}\n",
              "#T_6befa_row5_col12, #T_6befa_row5_col13, #T_6befa_row6_col10, #T_6befa_row6_col11, #T_6befa_row6_col12, #T_6befa_row6_col13, #T_6befa_row6_col14, #T_6befa_row7_col6, #T_6befa_row7_col7, #T_6befa_row7_col8, #T_6befa_row7_col9, #T_6befa_row7_col10, #T_6befa_row7_col11, #T_6befa_row7_col12, #T_6befa_row7_col13, #T_6befa_row7_col14, #T_6befa_row7_col15, #T_6befa_row7_col16, #T_6befa_row7_col17, #T_6befa_row7_col18, #T_6befa_row7_col19, #T_6befa_row7_col20, #T_6befa_row8_col6, #T_6befa_row8_col7, #T_6befa_row8_col8, #T_6befa_row8_col9, #T_6befa_row8_col10, #T_6befa_row8_col11, #T_6befa_row8_col12, #T_6befa_row8_col13, #T_6befa_row8_col14, #T_6befa_row8_col15, #T_6befa_row8_col16, #T_6befa_row8_col17, #T_6befa_row8_col18, #T_6befa_row8_col19, #T_6befa_row8_col20, #T_6befa_row8_col21, #T_6befa_row9_col8, #T_6befa_row9_col9, #T_6befa_row9_col10, #T_6befa_row9_col18, #T_6befa_row9_col19, #T_6befa_row9_col20, #T_6befa_row9_col21, #T_6befa_row10_col18, #T_6befa_row10_col19, #T_6befa_row10_col20, #T_6befa_row10_col21, #T_6befa_row11_col17, #T_6befa_row11_col18, #T_6befa_row11_col19, #T_6befa_row12_col14, #T_6befa_row12_col15, #T_6befa_row12_col16, #T_6befa_row12_col17, #T_6befa_row12_col18, #T_6befa_row13_col12, #T_6befa_row13_col13, #T_6befa_row13_col14, #T_6befa_row13_col15, #T_6befa_row13_col16, #T_6befa_row13_col17, #T_6befa_row13_col18, #T_6befa_row14_col8, #T_6befa_row14_col9, #T_6befa_row14_col10, #T_6befa_row14_col11, #T_6befa_row14_col12, #T_6befa_row14_col13, #T_6befa_row14_col14, #T_6befa_row14_col15, #T_6befa_row14_col16, #T_6befa_row14_col17, #T_6befa_row14_col18, #T_6befa_row14_col19, #T_6befa_row15_col8, #T_6befa_row15_col9, #T_6befa_row15_col10, #T_6befa_row15_col11, #T_6befa_row15_col12, #T_6befa_row15_col13, #T_6befa_row15_col14, #T_6befa_row15_col15, #T_6befa_row15_col16, #T_6befa_row15_col17, #T_6befa_row15_col18, #T_6befa_row15_col19, #T_6befa_row15_col20, #T_6befa_row15_col21, #T_6befa_row16_col8, #T_6befa_row16_col9, #T_6befa_row16_col10, #T_6befa_row16_col11, #T_6befa_row16_col19, #T_6befa_row16_col20, #T_6befa_row16_col21, #T_6befa_row16_col22, #T_6befa_row17_col20, #T_6befa_row17_col21, #T_6befa_row17_col22, #T_6befa_row17_col23, #T_6befa_row18_col20, #T_6befa_row18_col21, #T_6befa_row18_col22, #T_6befa_row19_col19, #T_6befa_row19_col20, #T_6befa_row19_col21, #T_6befa_row19_col22, #T_6befa_row20_col17, #T_6befa_row20_col18, #T_6befa_row20_col19, #T_6befa_row20_col20, #T_6befa_row20_col21, #T_6befa_row21_col4, #T_6befa_row21_col5, #T_6befa_row21_col6, #T_6befa_row21_col7, #T_6befa_row21_col8, #T_6befa_row21_col9, #T_6befa_row21_col10, #T_6befa_row21_col12, #T_6befa_row21_col13, #T_6befa_row21_col14, #T_6befa_row21_col15, #T_6befa_row21_col16, #T_6befa_row21_col17, #T_6befa_row21_col18, #T_6befa_row21_col19, #T_6befa_row22_col4, #T_6befa_row22_col5, #T_6befa_row22_col6, #T_6befa_row22_col7, #T_6befa_row22_col8, #T_6befa_row22_col9, #T_6befa_row22_col10, #T_6befa_row22_col11, #T_6befa_row22_col12, #T_6befa_row22_col13, #T_6befa_row22_col14, #T_6befa_row22_col15, #T_6befa_row22_col16, #T_6befa_row22_col17, #T_6befa_row22_col18, #T_6befa_row23_col6, #T_6befa_row23_col7, #T_6befa_row23_col8, #T_6befa_row23_col9, #T_6befa_row23_col10, #T_6befa_row23_col11, #T_6befa_row23_col12, #T_6befa_row23_col13, #T_6befa_row23_col14, #T_6befa_row23_col15 {\n",
              "  font-size: 6pt;\n",
              "  background-color: #000000;\n",
              "  color: #f1f1f1;\n",
              "}\n",
              "#T_6befa_row6_col6, #T_6befa_row7_col5, #T_6befa_row7_col22, #T_6befa_row10_col22, #T_6befa_row11_col14, #T_6befa_row11_col21, #T_6befa_row13_col10, #T_6befa_row15_col22, #T_6befa_row16_col15, #T_6befa_row17_col9, #T_6befa_row17_col19, #T_6befa_row18_col19, #T_6befa_row19_col17, #T_6befa_row19_col23, #T_6befa_row20_col4, #T_6befa_row20_col8, #T_6befa_row20_col15, #T_6befa_row21_col21, #T_6befa_row22_col19, #T_6befa_row23_col4, #T_6befa_row23_col17, #T_6befa_row24_col11 {\n",
              "  font-size: 6pt;\n",
              "  background-color: #d9d9d9;\n",
              "  color: #000000;\n",
              "}\n",
              "</style>\n",
              "<table id=\"T_6befa\">\n",
              "  <thead>\n",
              "    <tr>\n",
              "      <th class=\"blank level0\" >&nbsp;</th>\n",
              "      <th id=\"T_6befa_level0_col0\" class=\"col_heading level0 col0\" >0</th>\n",
              "      <th id=\"T_6befa_level0_col1\" class=\"col_heading level0 col1\" >1</th>\n",
              "      <th id=\"T_6befa_level0_col2\" class=\"col_heading level0 col2\" >2</th>\n",
              "      <th id=\"T_6befa_level0_col3\" class=\"col_heading level0 col3\" >3</th>\n",
              "      <th id=\"T_6befa_level0_col4\" class=\"col_heading level0 col4\" >4</th>\n",
              "      <th id=\"T_6befa_level0_col5\" class=\"col_heading level0 col5\" >5</th>\n",
              "      <th id=\"T_6befa_level0_col6\" class=\"col_heading level0 col6\" >6</th>\n",
              "      <th id=\"T_6befa_level0_col7\" class=\"col_heading level0 col7\" >7</th>\n",
              "      <th id=\"T_6befa_level0_col8\" class=\"col_heading level0 col8\" >8</th>\n",
              "      <th id=\"T_6befa_level0_col9\" class=\"col_heading level0 col9\" >9</th>\n",
              "      <th id=\"T_6befa_level0_col10\" class=\"col_heading level0 col10\" >10</th>\n",
              "      <th id=\"T_6befa_level0_col11\" class=\"col_heading level0 col11\" >11</th>\n",
              "      <th id=\"T_6befa_level0_col12\" class=\"col_heading level0 col12\" >12</th>\n",
              "      <th id=\"T_6befa_level0_col13\" class=\"col_heading level0 col13\" >13</th>\n",
              "      <th id=\"T_6befa_level0_col14\" class=\"col_heading level0 col14\" >14</th>\n",
              "      <th id=\"T_6befa_level0_col15\" class=\"col_heading level0 col15\" >15</th>\n",
              "      <th id=\"T_6befa_level0_col16\" class=\"col_heading level0 col16\" >16</th>\n",
              "      <th id=\"T_6befa_level0_col17\" class=\"col_heading level0 col17\" >17</th>\n",
              "      <th id=\"T_6befa_level0_col18\" class=\"col_heading level0 col18\" >18</th>\n",
              "      <th id=\"T_6befa_level0_col19\" class=\"col_heading level0 col19\" >19</th>\n",
              "      <th id=\"T_6befa_level0_col20\" class=\"col_heading level0 col20\" >20</th>\n",
              "      <th id=\"T_6befa_level0_col21\" class=\"col_heading level0 col21\" >21</th>\n",
              "      <th id=\"T_6befa_level0_col22\" class=\"col_heading level0 col22\" >22</th>\n",
              "      <th id=\"T_6befa_level0_col23\" class=\"col_heading level0 col23\" >23</th>\n",
              "      <th id=\"T_6befa_level0_col24\" class=\"col_heading level0 col24\" >24</th>\n",
              "      <th id=\"T_6befa_level0_col25\" class=\"col_heading level0 col25\" >25</th>\n",
              "      <th id=\"T_6befa_level0_col26\" class=\"col_heading level0 col26\" >26</th>\n",
              "      <th id=\"T_6befa_level0_col27\" class=\"col_heading level0 col27\" >27</th>\n",
              "    </tr>\n",
              "  </thead>\n",
              "  <tbody>\n",
              "    <tr>\n",
              "      <th id=\"T_6befa_level0_row0\" class=\"row_heading level0 row0\" >0</th>\n",
              "      <td id=\"T_6befa_row0_col0\" class=\"data row0 col0\" >0</td>\n",
              "      <td id=\"T_6befa_row0_col1\" class=\"data row0 col1\" >0</td>\n",
              "      <td id=\"T_6befa_row0_col2\" class=\"data row0 col2\" >0</td>\n",
              "      <td id=\"T_6befa_row0_col3\" class=\"data row0 col3\" >0</td>\n",
              "      <td id=\"T_6befa_row0_col4\" class=\"data row0 col4\" >0</td>\n",
              "      <td id=\"T_6befa_row0_col5\" class=\"data row0 col5\" >0</td>\n",
              "      <td id=\"T_6befa_row0_col6\" class=\"data row0 col6\" >0</td>\n",
              "      <td id=\"T_6befa_row0_col7\" class=\"data row0 col7\" >0</td>\n",
              "      <td id=\"T_6befa_row0_col8\" class=\"data row0 col8\" >0</td>\n",
              "      <td id=\"T_6befa_row0_col9\" class=\"data row0 col9\" >0</td>\n",
              "      <td id=\"T_6befa_row0_col10\" class=\"data row0 col10\" >0</td>\n",
              "      <td id=\"T_6befa_row0_col11\" class=\"data row0 col11\" >0</td>\n",
              "      <td id=\"T_6befa_row0_col12\" class=\"data row0 col12\" >0</td>\n",
              "      <td id=\"T_6befa_row0_col13\" class=\"data row0 col13\" >0</td>\n",
              "      <td id=\"T_6befa_row0_col14\" class=\"data row0 col14\" >0</td>\n",
              "      <td id=\"T_6befa_row0_col15\" class=\"data row0 col15\" >0</td>\n",
              "      <td id=\"T_6befa_row0_col16\" class=\"data row0 col16\" >0</td>\n",
              "      <td id=\"T_6befa_row0_col17\" class=\"data row0 col17\" >0</td>\n",
              "      <td id=\"T_6befa_row0_col18\" class=\"data row0 col18\" >0</td>\n",
              "      <td id=\"T_6befa_row0_col19\" class=\"data row0 col19\" >0</td>\n",
              "      <td id=\"T_6befa_row0_col20\" class=\"data row0 col20\" >0</td>\n",
              "      <td id=\"T_6befa_row0_col21\" class=\"data row0 col21\" >0</td>\n",
              "      <td id=\"T_6befa_row0_col22\" class=\"data row0 col22\" >0</td>\n",
              "      <td id=\"T_6befa_row0_col23\" class=\"data row0 col23\" >0</td>\n",
              "      <td id=\"T_6befa_row0_col24\" class=\"data row0 col24\" >0</td>\n",
              "      <td id=\"T_6befa_row0_col25\" class=\"data row0 col25\" >0</td>\n",
              "      <td id=\"T_6befa_row0_col26\" class=\"data row0 col26\" >0</td>\n",
              "      <td id=\"T_6befa_row0_col27\" class=\"data row0 col27\" >0</td>\n",
              "    </tr>\n",
              "    <tr>\n",
              "      <th id=\"T_6befa_level0_row1\" class=\"row_heading level0 row1\" >1</th>\n",
              "      <td id=\"T_6befa_row1_col0\" class=\"data row1 col0\" >0</td>\n",
              "      <td id=\"T_6befa_row1_col1\" class=\"data row1 col1\" >0</td>\n",
              "      <td id=\"T_6befa_row1_col2\" class=\"data row1 col2\" >0</td>\n",
              "      <td id=\"T_6befa_row1_col3\" class=\"data row1 col3\" >0</td>\n",
              "      <td id=\"T_6befa_row1_col4\" class=\"data row1 col4\" >0</td>\n",
              "      <td id=\"T_6befa_row1_col5\" class=\"data row1 col5\" >0</td>\n",
              "      <td id=\"T_6befa_row1_col6\" class=\"data row1 col6\" >0</td>\n",
              "      <td id=\"T_6befa_row1_col7\" class=\"data row1 col7\" >0</td>\n",
              "      <td id=\"T_6befa_row1_col8\" class=\"data row1 col8\" >0</td>\n",
              "      <td id=\"T_6befa_row1_col9\" class=\"data row1 col9\" >0</td>\n",
              "      <td id=\"T_6befa_row1_col10\" class=\"data row1 col10\" >0</td>\n",
              "      <td id=\"T_6befa_row1_col11\" class=\"data row1 col11\" >0</td>\n",
              "      <td id=\"T_6befa_row1_col12\" class=\"data row1 col12\" >0</td>\n",
              "      <td id=\"T_6befa_row1_col13\" class=\"data row1 col13\" >0</td>\n",
              "      <td id=\"T_6befa_row1_col14\" class=\"data row1 col14\" >0</td>\n",
              "      <td id=\"T_6befa_row1_col15\" class=\"data row1 col15\" >0</td>\n",
              "      <td id=\"T_6befa_row1_col16\" class=\"data row1 col16\" >0</td>\n",
              "      <td id=\"T_6befa_row1_col17\" class=\"data row1 col17\" >0</td>\n",
              "      <td id=\"T_6befa_row1_col18\" class=\"data row1 col18\" >0</td>\n",
              "      <td id=\"T_6befa_row1_col19\" class=\"data row1 col19\" >0</td>\n",
              "      <td id=\"T_6befa_row1_col20\" class=\"data row1 col20\" >0</td>\n",
              "      <td id=\"T_6befa_row1_col21\" class=\"data row1 col21\" >0</td>\n",
              "      <td id=\"T_6befa_row1_col22\" class=\"data row1 col22\" >0</td>\n",
              "      <td id=\"T_6befa_row1_col23\" class=\"data row1 col23\" >0</td>\n",
              "      <td id=\"T_6befa_row1_col24\" class=\"data row1 col24\" >0</td>\n",
              "      <td id=\"T_6befa_row1_col25\" class=\"data row1 col25\" >0</td>\n",
              "      <td id=\"T_6befa_row1_col26\" class=\"data row1 col26\" >0</td>\n",
              "      <td id=\"T_6befa_row1_col27\" class=\"data row1 col27\" >0</td>\n",
              "    </tr>\n",
              "    <tr>\n",
              "      <th id=\"T_6befa_level0_row2\" class=\"row_heading level0 row2\" >2</th>\n",
              "      <td id=\"T_6befa_row2_col0\" class=\"data row2 col0\" >0</td>\n",
              "      <td id=\"T_6befa_row2_col1\" class=\"data row2 col1\" >0</td>\n",
              "      <td id=\"T_6befa_row2_col2\" class=\"data row2 col2\" >0</td>\n",
              "      <td id=\"T_6befa_row2_col3\" class=\"data row2 col3\" >0</td>\n",
              "      <td id=\"T_6befa_row2_col4\" class=\"data row2 col4\" >0</td>\n",
              "      <td id=\"T_6befa_row2_col5\" class=\"data row2 col5\" >0</td>\n",
              "      <td id=\"T_6befa_row2_col6\" class=\"data row2 col6\" >0</td>\n",
              "      <td id=\"T_6befa_row2_col7\" class=\"data row2 col7\" >0</td>\n",
              "      <td id=\"T_6befa_row2_col8\" class=\"data row2 col8\" >0</td>\n",
              "      <td id=\"T_6befa_row2_col9\" class=\"data row2 col9\" >0</td>\n",
              "      <td id=\"T_6befa_row2_col10\" class=\"data row2 col10\" >0</td>\n",
              "      <td id=\"T_6befa_row2_col11\" class=\"data row2 col11\" >0</td>\n",
              "      <td id=\"T_6befa_row2_col12\" class=\"data row2 col12\" >0</td>\n",
              "      <td id=\"T_6befa_row2_col13\" class=\"data row2 col13\" >0</td>\n",
              "      <td id=\"T_6befa_row2_col14\" class=\"data row2 col14\" >0</td>\n",
              "      <td id=\"T_6befa_row2_col15\" class=\"data row2 col15\" >0</td>\n",
              "      <td id=\"T_6befa_row2_col16\" class=\"data row2 col16\" >0</td>\n",
              "      <td id=\"T_6befa_row2_col17\" class=\"data row2 col17\" >0</td>\n",
              "      <td id=\"T_6befa_row2_col18\" class=\"data row2 col18\" >0</td>\n",
              "      <td id=\"T_6befa_row2_col19\" class=\"data row2 col19\" >0</td>\n",
              "      <td id=\"T_6befa_row2_col20\" class=\"data row2 col20\" >0</td>\n",
              "      <td id=\"T_6befa_row2_col21\" class=\"data row2 col21\" >0</td>\n",
              "      <td id=\"T_6befa_row2_col22\" class=\"data row2 col22\" >0</td>\n",
              "      <td id=\"T_6befa_row2_col23\" class=\"data row2 col23\" >0</td>\n",
              "      <td id=\"T_6befa_row2_col24\" class=\"data row2 col24\" >0</td>\n",
              "      <td id=\"T_6befa_row2_col25\" class=\"data row2 col25\" >0</td>\n",
              "      <td id=\"T_6befa_row2_col26\" class=\"data row2 col26\" >0</td>\n",
              "      <td id=\"T_6befa_row2_col27\" class=\"data row2 col27\" >0</td>\n",
              "    </tr>\n",
              "    <tr>\n",
              "      <th id=\"T_6befa_level0_row3\" class=\"row_heading level0 row3\" >3</th>\n",
              "      <td id=\"T_6befa_row3_col0\" class=\"data row3 col0\" >0</td>\n",
              "      <td id=\"T_6befa_row3_col1\" class=\"data row3 col1\" >0</td>\n",
              "      <td id=\"T_6befa_row3_col2\" class=\"data row3 col2\" >0</td>\n",
              "      <td id=\"T_6befa_row3_col3\" class=\"data row3 col3\" >0</td>\n",
              "      <td id=\"T_6befa_row3_col4\" class=\"data row3 col4\" >0</td>\n",
              "      <td id=\"T_6befa_row3_col5\" class=\"data row3 col5\" >0</td>\n",
              "      <td id=\"T_6befa_row3_col6\" class=\"data row3 col6\" >0</td>\n",
              "      <td id=\"T_6befa_row3_col7\" class=\"data row3 col7\" >0</td>\n",
              "      <td id=\"T_6befa_row3_col8\" class=\"data row3 col8\" >0</td>\n",
              "      <td id=\"T_6befa_row3_col9\" class=\"data row3 col9\" >0</td>\n",
              "      <td id=\"T_6befa_row3_col10\" class=\"data row3 col10\" >0</td>\n",
              "      <td id=\"T_6befa_row3_col11\" class=\"data row3 col11\" >0</td>\n",
              "      <td id=\"T_6befa_row3_col12\" class=\"data row3 col12\" >0</td>\n",
              "      <td id=\"T_6befa_row3_col13\" class=\"data row3 col13\" >0</td>\n",
              "      <td id=\"T_6befa_row3_col14\" class=\"data row3 col14\" >0</td>\n",
              "      <td id=\"T_6befa_row3_col15\" class=\"data row3 col15\" >0</td>\n",
              "      <td id=\"T_6befa_row3_col16\" class=\"data row3 col16\" >0</td>\n",
              "      <td id=\"T_6befa_row3_col17\" class=\"data row3 col17\" >0</td>\n",
              "      <td id=\"T_6befa_row3_col18\" class=\"data row3 col18\" >0</td>\n",
              "      <td id=\"T_6befa_row3_col19\" class=\"data row3 col19\" >0</td>\n",
              "      <td id=\"T_6befa_row3_col20\" class=\"data row3 col20\" >0</td>\n",
              "      <td id=\"T_6befa_row3_col21\" class=\"data row3 col21\" >0</td>\n",
              "      <td id=\"T_6befa_row3_col22\" class=\"data row3 col22\" >0</td>\n",
              "      <td id=\"T_6befa_row3_col23\" class=\"data row3 col23\" >0</td>\n",
              "      <td id=\"T_6befa_row3_col24\" class=\"data row3 col24\" >0</td>\n",
              "      <td id=\"T_6befa_row3_col25\" class=\"data row3 col25\" >0</td>\n",
              "      <td id=\"T_6befa_row3_col26\" class=\"data row3 col26\" >0</td>\n",
              "      <td id=\"T_6befa_row3_col27\" class=\"data row3 col27\" >0</td>\n",
              "    </tr>\n",
              "    <tr>\n",
              "      <th id=\"T_6befa_level0_row4\" class=\"row_heading level0 row4\" >4</th>\n",
              "      <td id=\"T_6befa_row4_col0\" class=\"data row4 col0\" >0</td>\n",
              "      <td id=\"T_6befa_row4_col1\" class=\"data row4 col1\" >0</td>\n",
              "      <td id=\"T_6befa_row4_col2\" class=\"data row4 col2\" >0</td>\n",
              "      <td id=\"T_6befa_row4_col3\" class=\"data row4 col3\" >0</td>\n",
              "      <td id=\"T_6befa_row4_col4\" class=\"data row4 col4\" >0</td>\n",
              "      <td id=\"T_6befa_row4_col5\" class=\"data row4 col5\" >0</td>\n",
              "      <td id=\"T_6befa_row4_col6\" class=\"data row4 col6\" >0</td>\n",
              "      <td id=\"T_6befa_row4_col7\" class=\"data row4 col7\" >0</td>\n",
              "      <td id=\"T_6befa_row4_col8\" class=\"data row4 col8\" >0</td>\n",
              "      <td id=\"T_6befa_row4_col9\" class=\"data row4 col9\" >0</td>\n",
              "      <td id=\"T_6befa_row4_col10\" class=\"data row4 col10\" >0</td>\n",
              "      <td id=\"T_6befa_row4_col11\" class=\"data row4 col11\" >0</td>\n",
              "      <td id=\"T_6befa_row4_col12\" class=\"data row4 col12\" >0</td>\n",
              "      <td id=\"T_6befa_row4_col13\" class=\"data row4 col13\" >0</td>\n",
              "      <td id=\"T_6befa_row4_col14\" class=\"data row4 col14\" >0</td>\n",
              "      <td id=\"T_6befa_row4_col15\" class=\"data row4 col15\" >0</td>\n",
              "      <td id=\"T_6befa_row4_col16\" class=\"data row4 col16\" >0</td>\n",
              "      <td id=\"T_6befa_row4_col17\" class=\"data row4 col17\" >0</td>\n",
              "      <td id=\"T_6befa_row4_col18\" class=\"data row4 col18\" >0</td>\n",
              "      <td id=\"T_6befa_row4_col19\" class=\"data row4 col19\" >0</td>\n",
              "      <td id=\"T_6befa_row4_col20\" class=\"data row4 col20\" >0</td>\n",
              "      <td id=\"T_6befa_row4_col21\" class=\"data row4 col21\" >0</td>\n",
              "      <td id=\"T_6befa_row4_col22\" class=\"data row4 col22\" >0</td>\n",
              "      <td id=\"T_6befa_row4_col23\" class=\"data row4 col23\" >0</td>\n",
              "      <td id=\"T_6befa_row4_col24\" class=\"data row4 col24\" >0</td>\n",
              "      <td id=\"T_6befa_row4_col25\" class=\"data row4 col25\" >0</td>\n",
              "      <td id=\"T_6befa_row4_col26\" class=\"data row4 col26\" >0</td>\n",
              "      <td id=\"T_6befa_row4_col27\" class=\"data row4 col27\" >0</td>\n",
              "    </tr>\n",
              "    <tr>\n",
              "      <th id=\"T_6befa_level0_row5\" class=\"row_heading level0 row5\" >5</th>\n",
              "      <td id=\"T_6befa_row5_col0\" class=\"data row5 col0\" >0</td>\n",
              "      <td id=\"T_6befa_row5_col1\" class=\"data row5 col1\" >0</td>\n",
              "      <td id=\"T_6befa_row5_col2\" class=\"data row5 col2\" >0</td>\n",
              "      <td id=\"T_6befa_row5_col3\" class=\"data row5 col3\" >0</td>\n",
              "      <td id=\"T_6befa_row5_col4\" class=\"data row5 col4\" >0</td>\n",
              "      <td id=\"T_6befa_row5_col5\" class=\"data row5 col5\" >0</td>\n",
              "      <td id=\"T_6befa_row5_col6\" class=\"data row5 col6\" >0</td>\n",
              "      <td id=\"T_6befa_row5_col7\" class=\"data row5 col7\" >0</td>\n",
              "      <td id=\"T_6befa_row5_col8\" class=\"data row5 col8\" >0</td>\n",
              "      <td id=\"T_6befa_row5_col9\" class=\"data row5 col9\" >0</td>\n",
              "      <td id=\"T_6befa_row5_col10\" class=\"data row5 col10\" >128</td>\n",
              "      <td id=\"T_6befa_row5_col11\" class=\"data row5 col11\" >191</td>\n",
              "      <td id=\"T_6befa_row5_col12\" class=\"data row5 col12\" >255</td>\n",
              "      <td id=\"T_6befa_row5_col13\" class=\"data row5 col13\" >255</td>\n",
              "      <td id=\"T_6befa_row5_col14\" class=\"data row5 col14\" >128</td>\n",
              "      <td id=\"T_6befa_row5_col15\" class=\"data row5 col15\" >0</td>\n",
              "      <td id=\"T_6befa_row5_col16\" class=\"data row5 col16\" >0</td>\n",
              "      <td id=\"T_6befa_row5_col17\" class=\"data row5 col17\" >0</td>\n",
              "      <td id=\"T_6befa_row5_col18\" class=\"data row5 col18\" >0</td>\n",
              "      <td id=\"T_6befa_row5_col19\" class=\"data row5 col19\" >0</td>\n",
              "      <td id=\"T_6befa_row5_col20\" class=\"data row5 col20\" >0</td>\n",
              "      <td id=\"T_6befa_row5_col21\" class=\"data row5 col21\" >0</td>\n",
              "      <td id=\"T_6befa_row5_col22\" class=\"data row5 col22\" >0</td>\n",
              "      <td id=\"T_6befa_row5_col23\" class=\"data row5 col23\" >0</td>\n",
              "      <td id=\"T_6befa_row5_col24\" class=\"data row5 col24\" >0</td>\n",
              "      <td id=\"T_6befa_row5_col25\" class=\"data row5 col25\" >0</td>\n",
              "      <td id=\"T_6befa_row5_col26\" class=\"data row5 col26\" >0</td>\n",
              "      <td id=\"T_6befa_row5_col27\" class=\"data row5 col27\" >0</td>\n",
              "    </tr>\n",
              "    <tr>\n",
              "      <th id=\"T_6befa_level0_row6\" class=\"row_heading level0 row6\" >6</th>\n",
              "      <td id=\"T_6befa_row6_col0\" class=\"data row6 col0\" >0</td>\n",
              "      <td id=\"T_6befa_row6_col1\" class=\"data row6 col1\" >0</td>\n",
              "      <td id=\"T_6befa_row6_col2\" class=\"data row6 col2\" >0</td>\n",
              "      <td id=\"T_6befa_row6_col3\" class=\"data row6 col3\" >0</td>\n",
              "      <td id=\"T_6befa_row6_col4\" class=\"data row6 col4\" >0</td>\n",
              "      <td id=\"T_6befa_row6_col5\" class=\"data row6 col5\" >0</td>\n",
              "      <td id=\"T_6befa_row6_col6\" class=\"data row6 col6\" >64</td>\n",
              "      <td id=\"T_6befa_row6_col7\" class=\"data row6 col7\" >128</td>\n",
              "      <td id=\"T_6befa_row6_col8\" class=\"data row6 col8\" >128</td>\n",
              "      <td id=\"T_6befa_row6_col9\" class=\"data row6 col9\" >191</td>\n",
              "      <td id=\"T_6befa_row6_col10\" class=\"data row6 col10\" >255</td>\n",
              "      <td id=\"T_6befa_row6_col11\" class=\"data row6 col11\" >255</td>\n",
              "      <td id=\"T_6befa_row6_col12\" class=\"data row6 col12\" >255</td>\n",
              "      <td id=\"T_6befa_row6_col13\" class=\"data row6 col13\" >255</td>\n",
              "      <td id=\"T_6befa_row6_col14\" class=\"data row6 col14\" >255</td>\n",
              "      <td id=\"T_6befa_row6_col15\" class=\"data row6 col15\" >128</td>\n",
              "      <td id=\"T_6befa_row6_col16\" class=\"data row6 col16\" >128</td>\n",
              "      <td id=\"T_6befa_row6_col17\" class=\"data row6 col17\" >128</td>\n",
              "      <td id=\"T_6befa_row6_col18\" class=\"data row6 col18\" >128</td>\n",
              "      <td id=\"T_6befa_row6_col19\" class=\"data row6 col19\" >128</td>\n",
              "      <td id=\"T_6befa_row6_col20\" class=\"data row6 col20\" >0</td>\n",
              "      <td id=\"T_6befa_row6_col21\" class=\"data row6 col21\" >0</td>\n",
              "      <td id=\"T_6befa_row6_col22\" class=\"data row6 col22\" >0</td>\n",
              "      <td id=\"T_6befa_row6_col23\" class=\"data row6 col23\" >0</td>\n",
              "      <td id=\"T_6befa_row6_col24\" class=\"data row6 col24\" >0</td>\n",
              "      <td id=\"T_6befa_row6_col25\" class=\"data row6 col25\" >0</td>\n",
              "      <td id=\"T_6befa_row6_col26\" class=\"data row6 col26\" >0</td>\n",
              "      <td id=\"T_6befa_row6_col27\" class=\"data row6 col27\" >0</td>\n",
              "    </tr>\n",
              "    <tr>\n",
              "      <th id=\"T_6befa_level0_row7\" class=\"row_heading level0 row7\" >7</th>\n",
              "      <td id=\"T_6befa_row7_col0\" class=\"data row7 col0\" >0</td>\n",
              "      <td id=\"T_6befa_row7_col1\" class=\"data row7 col1\" >0</td>\n",
              "      <td id=\"T_6befa_row7_col2\" class=\"data row7 col2\" >0</td>\n",
              "      <td id=\"T_6befa_row7_col3\" class=\"data row7 col3\" >0</td>\n",
              "      <td id=\"T_6befa_row7_col4\" class=\"data row7 col4\" >0</td>\n",
              "      <td id=\"T_6befa_row7_col5\" class=\"data row7 col5\" >64</td>\n",
              "      <td id=\"T_6befa_row7_col6\" class=\"data row7 col6\" >255</td>\n",
              "      <td id=\"T_6befa_row7_col7\" class=\"data row7 col7\" >255</td>\n",
              "      <td id=\"T_6befa_row7_col8\" class=\"data row7 col8\" >255</td>\n",
              "      <td id=\"T_6befa_row7_col9\" class=\"data row7 col9\" >255</td>\n",
              "      <td id=\"T_6befa_row7_col10\" class=\"data row7 col10\" >255</td>\n",
              "      <td id=\"T_6befa_row7_col11\" class=\"data row7 col11\" >255</td>\n",
              "      <td id=\"T_6befa_row7_col12\" class=\"data row7 col12\" >255</td>\n",
              "      <td id=\"T_6befa_row7_col13\" class=\"data row7 col13\" >255</td>\n",
              "      <td id=\"T_6befa_row7_col14\" class=\"data row7 col14\" >255</td>\n",
              "      <td id=\"T_6befa_row7_col15\" class=\"data row7 col15\" >255</td>\n",
              "      <td id=\"T_6befa_row7_col16\" class=\"data row7 col16\" >255</td>\n",
              "      <td id=\"T_6befa_row7_col17\" class=\"data row7 col17\" >255</td>\n",
              "      <td id=\"T_6befa_row7_col18\" class=\"data row7 col18\" >255</td>\n",
              "      <td id=\"T_6befa_row7_col19\" class=\"data row7 col19\" >255</td>\n",
              "      <td id=\"T_6befa_row7_col20\" class=\"data row7 col20\" >255</td>\n",
              "      <td id=\"T_6befa_row7_col21\" class=\"data row7 col21\" >128</td>\n",
              "      <td id=\"T_6befa_row7_col22\" class=\"data row7 col22\" >64</td>\n",
              "      <td id=\"T_6befa_row7_col23\" class=\"data row7 col23\" >0</td>\n",
              "      <td id=\"T_6befa_row7_col24\" class=\"data row7 col24\" >0</td>\n",
              "      <td id=\"T_6befa_row7_col25\" class=\"data row7 col25\" >0</td>\n",
              "      <td id=\"T_6befa_row7_col26\" class=\"data row7 col26\" >0</td>\n",
              "      <td id=\"T_6befa_row7_col27\" class=\"data row7 col27\" >0</td>\n",
              "    </tr>\n",
              "    <tr>\n",
              "      <th id=\"T_6befa_level0_row8\" class=\"row_heading level0 row8\" >8</th>\n",
              "      <td id=\"T_6befa_row8_col0\" class=\"data row8 col0\" >0</td>\n",
              "      <td id=\"T_6befa_row8_col1\" class=\"data row8 col1\" >0</td>\n",
              "      <td id=\"T_6befa_row8_col2\" class=\"data row8 col2\" >0</td>\n",
              "      <td id=\"T_6befa_row8_col3\" class=\"data row8 col3\" >0</td>\n",
              "      <td id=\"T_6befa_row8_col4\" class=\"data row8 col4\" >0</td>\n",
              "      <td id=\"T_6befa_row8_col5\" class=\"data row8 col5\" >0</td>\n",
              "      <td id=\"T_6befa_row8_col6\" class=\"data row8 col6\" >255</td>\n",
              "      <td id=\"T_6befa_row8_col7\" class=\"data row8 col7\" >255</td>\n",
              "      <td id=\"T_6befa_row8_col8\" class=\"data row8 col8\" >255</td>\n",
              "      <td id=\"T_6befa_row8_col9\" class=\"data row8 col9\" >255</td>\n",
              "      <td id=\"T_6befa_row8_col10\" class=\"data row8 col10\" >255</td>\n",
              "      <td id=\"T_6befa_row8_col11\" class=\"data row8 col11\" >255</td>\n",
              "      <td id=\"T_6befa_row8_col12\" class=\"data row8 col12\" >255</td>\n",
              "      <td id=\"T_6befa_row8_col13\" class=\"data row8 col13\" >255</td>\n",
              "      <td id=\"T_6befa_row8_col14\" class=\"data row8 col14\" >255</td>\n",
              "      <td id=\"T_6befa_row8_col15\" class=\"data row8 col15\" >255</td>\n",
              "      <td id=\"T_6befa_row8_col16\" class=\"data row8 col16\" >255</td>\n",
              "      <td id=\"T_6befa_row8_col17\" class=\"data row8 col17\" >255</td>\n",
              "      <td id=\"T_6befa_row8_col18\" class=\"data row8 col18\" >255</td>\n",
              "      <td id=\"T_6befa_row8_col19\" class=\"data row8 col19\" >255</td>\n",
              "      <td id=\"T_6befa_row8_col20\" class=\"data row8 col20\" >255</td>\n",
              "      <td id=\"T_6befa_row8_col21\" class=\"data row8 col21\" >255</td>\n",
              "      <td id=\"T_6befa_row8_col22\" class=\"data row8 col22\" >191</td>\n",
              "      <td id=\"T_6befa_row8_col23\" class=\"data row8 col23\" >0</td>\n",
              "      <td id=\"T_6befa_row8_col24\" class=\"data row8 col24\" >0</td>\n",
              "      <td id=\"T_6befa_row8_col25\" class=\"data row8 col25\" >0</td>\n",
              "      <td id=\"T_6befa_row8_col26\" class=\"data row8 col26\" >0</td>\n",
              "      <td id=\"T_6befa_row8_col27\" class=\"data row8 col27\" >0</td>\n",
              "    </tr>\n",
              "    <tr>\n",
              "      <th id=\"T_6befa_level0_row9\" class=\"row_heading level0 row9\" >9</th>\n",
              "      <td id=\"T_6befa_row9_col0\" class=\"data row9 col0\" >0</td>\n",
              "      <td id=\"T_6befa_row9_col1\" class=\"data row9 col1\" >0</td>\n",
              "      <td id=\"T_6befa_row9_col2\" class=\"data row9 col2\" >0</td>\n",
              "      <td id=\"T_6befa_row9_col3\" class=\"data row9 col3\" >0</td>\n",
              "      <td id=\"T_6befa_row9_col4\" class=\"data row9 col4\" >0</td>\n",
              "      <td id=\"T_6befa_row9_col5\" class=\"data row9 col5\" >0</td>\n",
              "      <td id=\"T_6befa_row9_col6\" class=\"data row9 col6\" >128</td>\n",
              "      <td id=\"T_6befa_row9_col7\" class=\"data row9 col7\" >191</td>\n",
              "      <td id=\"T_6befa_row9_col8\" class=\"data row9 col8\" >255</td>\n",
              "      <td id=\"T_6befa_row9_col9\" class=\"data row9 col9\" >255</td>\n",
              "      <td id=\"T_6befa_row9_col10\" class=\"data row9 col10\" >255</td>\n",
              "      <td id=\"T_6befa_row9_col11\" class=\"data row9 col11\" >191</td>\n",
              "      <td id=\"T_6befa_row9_col12\" class=\"data row9 col12\" >128</td>\n",
              "      <td id=\"T_6befa_row9_col13\" class=\"data row9 col13\" >128</td>\n",
              "      <td id=\"T_6befa_row9_col14\" class=\"data row9 col14\" >128</td>\n",
              "      <td id=\"T_6befa_row9_col15\" class=\"data row9 col15\" >128</td>\n",
              "      <td id=\"T_6befa_row9_col16\" class=\"data row9 col16\" >128</td>\n",
              "      <td id=\"T_6befa_row9_col17\" class=\"data row9 col17\" >191</td>\n",
              "      <td id=\"T_6befa_row9_col18\" class=\"data row9 col18\" >255</td>\n",
              "      <td id=\"T_6befa_row9_col19\" class=\"data row9 col19\" >255</td>\n",
              "      <td id=\"T_6befa_row9_col20\" class=\"data row9 col20\" >255</td>\n",
              "      <td id=\"T_6befa_row9_col21\" class=\"data row9 col21\" >255</td>\n",
              "      <td id=\"T_6befa_row9_col22\" class=\"data row9 col22\" >191</td>\n",
              "      <td id=\"T_6befa_row9_col23\" class=\"data row9 col23\" >0</td>\n",
              "      <td id=\"T_6befa_row9_col24\" class=\"data row9 col24\" >0</td>\n",
              "      <td id=\"T_6befa_row9_col25\" class=\"data row9 col25\" >0</td>\n",
              "      <td id=\"T_6befa_row9_col26\" class=\"data row9 col26\" >0</td>\n",
              "      <td id=\"T_6befa_row9_col27\" class=\"data row9 col27\" >0</td>\n",
              "    </tr>\n",
              "    <tr>\n",
              "      <th id=\"T_6befa_level0_row10\" class=\"row_heading level0 row10\" >10</th>\n",
              "      <td id=\"T_6befa_row10_col0\" class=\"data row10 col0\" >0</td>\n",
              "      <td id=\"T_6befa_row10_col1\" class=\"data row10 col1\" >0</td>\n",
              "      <td id=\"T_6befa_row10_col2\" class=\"data row10 col2\" >0</td>\n",
              "      <td id=\"T_6befa_row10_col3\" class=\"data row10 col3\" >0</td>\n",
              "      <td id=\"T_6befa_row10_col4\" class=\"data row10 col4\" >0</td>\n",
              "      <td id=\"T_6befa_row10_col5\" class=\"data row10 col5\" >0</td>\n",
              "      <td id=\"T_6befa_row10_col6\" class=\"data row10 col6\" >0</td>\n",
              "      <td id=\"T_6befa_row10_col7\" class=\"data row10 col7\" >0</td>\n",
              "      <td id=\"T_6befa_row10_col8\" class=\"data row10 col8\" >0</td>\n",
              "      <td id=\"T_6befa_row10_col9\" class=\"data row10 col9\" >0</td>\n",
              "      <td id=\"T_6befa_row10_col10\" class=\"data row10 col10\" >0</td>\n",
              "      <td id=\"T_6befa_row10_col11\" class=\"data row10 col11\" >0</td>\n",
              "      <td id=\"T_6befa_row10_col12\" class=\"data row10 col12\" >0</td>\n",
              "      <td id=\"T_6befa_row10_col13\" class=\"data row10 col13\" >0</td>\n",
              "      <td id=\"T_6befa_row10_col14\" class=\"data row10 col14\" >0</td>\n",
              "      <td id=\"T_6befa_row10_col15\" class=\"data row10 col15\" >0</td>\n",
              "      <td id=\"T_6befa_row10_col16\" class=\"data row10 col16\" >0</td>\n",
              "      <td id=\"T_6befa_row10_col17\" class=\"data row10 col17\" >191</td>\n",
              "      <td id=\"T_6befa_row10_col18\" class=\"data row10 col18\" >255</td>\n",
              "      <td id=\"T_6befa_row10_col19\" class=\"data row10 col19\" >255</td>\n",
              "      <td id=\"T_6befa_row10_col20\" class=\"data row10 col20\" >255</td>\n",
              "      <td id=\"T_6befa_row10_col21\" class=\"data row10 col21\" >255</td>\n",
              "      <td id=\"T_6befa_row10_col22\" class=\"data row10 col22\" >64</td>\n",
              "      <td id=\"T_6befa_row10_col23\" class=\"data row10 col23\" >0</td>\n",
              "      <td id=\"T_6befa_row10_col24\" class=\"data row10 col24\" >0</td>\n",
              "      <td id=\"T_6befa_row10_col25\" class=\"data row10 col25\" >0</td>\n",
              "      <td id=\"T_6befa_row10_col26\" class=\"data row10 col26\" >0</td>\n",
              "      <td id=\"T_6befa_row10_col27\" class=\"data row10 col27\" >0</td>\n",
              "    </tr>\n",
              "    <tr>\n",
              "      <th id=\"T_6befa_level0_row11\" class=\"row_heading level0 row11\" >11</th>\n",
              "      <td id=\"T_6befa_row11_col0\" class=\"data row11 col0\" >0</td>\n",
              "      <td id=\"T_6befa_row11_col1\" class=\"data row11 col1\" >0</td>\n",
              "      <td id=\"T_6befa_row11_col2\" class=\"data row11 col2\" >0</td>\n",
              "      <td id=\"T_6befa_row11_col3\" class=\"data row11 col3\" >0</td>\n",
              "      <td id=\"T_6befa_row11_col4\" class=\"data row11 col4\" >0</td>\n",
              "      <td id=\"T_6befa_row11_col5\" class=\"data row11 col5\" >0</td>\n",
              "      <td id=\"T_6befa_row11_col6\" class=\"data row11 col6\" >0</td>\n",
              "      <td id=\"T_6befa_row11_col7\" class=\"data row11 col7\" >0</td>\n",
              "      <td id=\"T_6befa_row11_col8\" class=\"data row11 col8\" >0</td>\n",
              "      <td id=\"T_6befa_row11_col9\" class=\"data row11 col9\" >0</td>\n",
              "      <td id=\"T_6befa_row11_col10\" class=\"data row11 col10\" >0</td>\n",
              "      <td id=\"T_6befa_row11_col11\" class=\"data row11 col11\" >0</td>\n",
              "      <td id=\"T_6befa_row11_col12\" class=\"data row11 col12\" >0</td>\n",
              "      <td id=\"T_6befa_row11_col13\" class=\"data row11 col13\" >0</td>\n",
              "      <td id=\"T_6befa_row11_col14\" class=\"data row11 col14\" >64</td>\n",
              "      <td id=\"T_6befa_row11_col15\" class=\"data row11 col15\" >128</td>\n",
              "      <td id=\"T_6befa_row11_col16\" class=\"data row11 col16\" >191</td>\n",
              "      <td id=\"T_6befa_row11_col17\" class=\"data row11 col17\" >255</td>\n",
              "      <td id=\"T_6befa_row11_col18\" class=\"data row11 col18\" >255</td>\n",
              "      <td id=\"T_6befa_row11_col19\" class=\"data row11 col19\" >255</td>\n",
              "      <td id=\"T_6befa_row11_col20\" class=\"data row11 col20\" >191</td>\n",
              "      <td id=\"T_6befa_row11_col21\" class=\"data row11 col21\" >64</td>\n",
              "      <td id=\"T_6befa_row11_col22\" class=\"data row11 col22\" >0</td>\n",
              "      <td id=\"T_6befa_row11_col23\" class=\"data row11 col23\" >0</td>\n",
              "      <td id=\"T_6befa_row11_col24\" class=\"data row11 col24\" >0</td>\n",
              "      <td id=\"T_6befa_row11_col25\" class=\"data row11 col25\" >0</td>\n",
              "      <td id=\"T_6befa_row11_col26\" class=\"data row11 col26\" >0</td>\n",
              "      <td id=\"T_6befa_row11_col27\" class=\"data row11 col27\" >0</td>\n",
              "    </tr>\n",
              "    <tr>\n",
              "      <th id=\"T_6befa_level0_row12\" class=\"row_heading level0 row12\" >12</th>\n",
              "      <td id=\"T_6befa_row12_col0\" class=\"data row12 col0\" >0</td>\n",
              "      <td id=\"T_6befa_row12_col1\" class=\"data row12 col1\" >0</td>\n",
              "      <td id=\"T_6befa_row12_col2\" class=\"data row12 col2\" >0</td>\n",
              "      <td id=\"T_6befa_row12_col3\" class=\"data row12 col3\" >0</td>\n",
              "      <td id=\"T_6befa_row12_col4\" class=\"data row12 col4\" >0</td>\n",
              "      <td id=\"T_6befa_row12_col5\" class=\"data row12 col5\" >0</td>\n",
              "      <td id=\"T_6befa_row12_col6\" class=\"data row12 col6\" >0</td>\n",
              "      <td id=\"T_6befa_row12_col7\" class=\"data row12 col7\" >0</td>\n",
              "      <td id=\"T_6befa_row12_col8\" class=\"data row12 col8\" >0</td>\n",
              "      <td id=\"T_6befa_row12_col9\" class=\"data row12 col9\" >0</td>\n",
              "      <td id=\"T_6befa_row12_col10\" class=\"data row12 col10\" >0</td>\n",
              "      <td id=\"T_6befa_row12_col11\" class=\"data row12 col11\" >0</td>\n",
              "      <td id=\"T_6befa_row12_col12\" class=\"data row12 col12\" >0</td>\n",
              "      <td id=\"T_6befa_row12_col13\" class=\"data row12 col13\" >128</td>\n",
              "      <td id=\"T_6befa_row12_col14\" class=\"data row12 col14\" >255</td>\n",
              "      <td id=\"T_6befa_row12_col15\" class=\"data row12 col15\" >255</td>\n",
              "      <td id=\"T_6befa_row12_col16\" class=\"data row12 col16\" >255</td>\n",
              "      <td id=\"T_6befa_row12_col17\" class=\"data row12 col17\" >255</td>\n",
              "      <td id=\"T_6befa_row12_col18\" class=\"data row12 col18\" >255</td>\n",
              "      <td id=\"T_6befa_row12_col19\" class=\"data row12 col19\" >128</td>\n",
              "      <td id=\"T_6befa_row12_col20\" class=\"data row12 col20\" >0</td>\n",
              "      <td id=\"T_6befa_row12_col21\" class=\"data row12 col21\" >0</td>\n",
              "      <td id=\"T_6befa_row12_col22\" class=\"data row12 col22\" >0</td>\n",
              "      <td id=\"T_6befa_row12_col23\" class=\"data row12 col23\" >0</td>\n",
              "      <td id=\"T_6befa_row12_col24\" class=\"data row12 col24\" >0</td>\n",
              "      <td id=\"T_6befa_row12_col25\" class=\"data row12 col25\" >0</td>\n",
              "      <td id=\"T_6befa_row12_col26\" class=\"data row12 col26\" >0</td>\n",
              "      <td id=\"T_6befa_row12_col27\" class=\"data row12 col27\" >0</td>\n",
              "    </tr>\n",
              "    <tr>\n",
              "      <th id=\"T_6befa_level0_row13\" class=\"row_heading level0 row13\" >13</th>\n",
              "      <td id=\"T_6befa_row13_col0\" class=\"data row13 col0\" >0</td>\n",
              "      <td id=\"T_6befa_row13_col1\" class=\"data row13 col1\" >0</td>\n",
              "      <td id=\"T_6befa_row13_col2\" class=\"data row13 col2\" >0</td>\n",
              "      <td id=\"T_6befa_row13_col3\" class=\"data row13 col3\" >0</td>\n",
              "      <td id=\"T_6befa_row13_col4\" class=\"data row13 col4\" >0</td>\n",
              "      <td id=\"T_6befa_row13_col5\" class=\"data row13 col5\" >0</td>\n",
              "      <td id=\"T_6befa_row13_col6\" class=\"data row13 col6\" >0</td>\n",
              "      <td id=\"T_6befa_row13_col7\" class=\"data row13 col7\" >0</td>\n",
              "      <td id=\"T_6befa_row13_col8\" class=\"data row13 col8\" >0</td>\n",
              "      <td id=\"T_6befa_row13_col9\" class=\"data row13 col9\" >0</td>\n",
              "      <td id=\"T_6befa_row13_col10\" class=\"data row13 col10\" >64</td>\n",
              "      <td id=\"T_6befa_row13_col11\" class=\"data row13 col11\" >128</td>\n",
              "      <td id=\"T_6befa_row13_col12\" class=\"data row13 col12\" >255</td>\n",
              "      <td id=\"T_6befa_row13_col13\" class=\"data row13 col13\" >255</td>\n",
              "      <td id=\"T_6befa_row13_col14\" class=\"data row13 col14\" >255</td>\n",
              "      <td id=\"T_6befa_row13_col15\" class=\"data row13 col15\" >255</td>\n",
              "      <td id=\"T_6befa_row13_col16\" class=\"data row13 col16\" >255</td>\n",
              "      <td id=\"T_6befa_row13_col17\" class=\"data row13 col17\" >255</td>\n",
              "      <td id=\"T_6befa_row13_col18\" class=\"data row13 col18\" >255</td>\n",
              "      <td id=\"T_6befa_row13_col19\" class=\"data row13 col19\" >0</td>\n",
              "      <td id=\"T_6befa_row13_col20\" class=\"data row13 col20\" >0</td>\n",
              "      <td id=\"T_6befa_row13_col21\" class=\"data row13 col21\" >0</td>\n",
              "      <td id=\"T_6befa_row13_col22\" class=\"data row13 col22\" >0</td>\n",
              "      <td id=\"T_6befa_row13_col23\" class=\"data row13 col23\" >0</td>\n",
              "      <td id=\"T_6befa_row13_col24\" class=\"data row13 col24\" >0</td>\n",
              "      <td id=\"T_6befa_row13_col25\" class=\"data row13 col25\" >0</td>\n",
              "      <td id=\"T_6befa_row13_col26\" class=\"data row13 col26\" >0</td>\n",
              "      <td id=\"T_6befa_row13_col27\" class=\"data row13 col27\" >0</td>\n",
              "    </tr>\n",
              "    <tr>\n",
              "      <th id=\"T_6befa_level0_row14\" class=\"row_heading level0 row14\" >14</th>\n",
              "      <td id=\"T_6befa_row14_col0\" class=\"data row14 col0\" >0</td>\n",
              "      <td id=\"T_6befa_row14_col1\" class=\"data row14 col1\" >0</td>\n",
              "      <td id=\"T_6befa_row14_col2\" class=\"data row14 col2\" >0</td>\n",
              "      <td id=\"T_6befa_row14_col3\" class=\"data row14 col3\" >0</td>\n",
              "      <td id=\"T_6befa_row14_col4\" class=\"data row14 col4\" >0</td>\n",
              "      <td id=\"T_6befa_row14_col5\" class=\"data row14 col5\" >0</td>\n",
              "      <td id=\"T_6befa_row14_col6\" class=\"data row14 col6\" >0</td>\n",
              "      <td id=\"T_6befa_row14_col7\" class=\"data row14 col7\" >191</td>\n",
              "      <td id=\"T_6befa_row14_col8\" class=\"data row14 col8\" >255</td>\n",
              "      <td id=\"T_6befa_row14_col9\" class=\"data row14 col9\" >255</td>\n",
              "      <td id=\"T_6befa_row14_col10\" class=\"data row14 col10\" >255</td>\n",
              "      <td id=\"T_6befa_row14_col11\" class=\"data row14 col11\" >255</td>\n",
              "      <td id=\"T_6befa_row14_col12\" class=\"data row14 col12\" >255</td>\n",
              "      <td id=\"T_6befa_row14_col13\" class=\"data row14 col13\" >255</td>\n",
              "      <td id=\"T_6befa_row14_col14\" class=\"data row14 col14\" >255</td>\n",
              "      <td id=\"T_6befa_row14_col15\" class=\"data row14 col15\" >255</td>\n",
              "      <td id=\"T_6befa_row14_col16\" class=\"data row14 col16\" >255</td>\n",
              "      <td id=\"T_6befa_row14_col17\" class=\"data row14 col17\" >255</td>\n",
              "      <td id=\"T_6befa_row14_col18\" class=\"data row14 col18\" >255</td>\n",
              "      <td id=\"T_6befa_row14_col19\" class=\"data row14 col19\" >255</td>\n",
              "      <td id=\"T_6befa_row14_col20\" class=\"data row14 col20\" >191</td>\n",
              "      <td id=\"T_6befa_row14_col21\" class=\"data row14 col21\" >0</td>\n",
              "      <td id=\"T_6befa_row14_col22\" class=\"data row14 col22\" >0</td>\n",
              "      <td id=\"T_6befa_row14_col23\" class=\"data row14 col23\" >0</td>\n",
              "      <td id=\"T_6befa_row14_col24\" class=\"data row14 col24\" >0</td>\n",
              "      <td id=\"T_6befa_row14_col25\" class=\"data row14 col25\" >0</td>\n",
              "      <td id=\"T_6befa_row14_col26\" class=\"data row14 col26\" >0</td>\n",
              "      <td id=\"T_6befa_row14_col27\" class=\"data row14 col27\" >0</td>\n",
              "    </tr>\n",
              "    <tr>\n",
              "      <th id=\"T_6befa_level0_row15\" class=\"row_heading level0 row15\" >15</th>\n",
              "      <td id=\"T_6befa_row15_col0\" class=\"data row15 col0\" >0</td>\n",
              "      <td id=\"T_6befa_row15_col1\" class=\"data row15 col1\" >0</td>\n",
              "      <td id=\"T_6befa_row15_col2\" class=\"data row15 col2\" >0</td>\n",
              "      <td id=\"T_6befa_row15_col3\" class=\"data row15 col3\" >0</td>\n",
              "      <td id=\"T_6befa_row15_col4\" class=\"data row15 col4\" >0</td>\n",
              "      <td id=\"T_6befa_row15_col5\" class=\"data row15 col5\" >0</td>\n",
              "      <td id=\"T_6befa_row15_col6\" class=\"data row15 col6\" >0</td>\n",
              "      <td id=\"T_6befa_row15_col7\" class=\"data row15 col7\" >191</td>\n",
              "      <td id=\"T_6befa_row15_col8\" class=\"data row15 col8\" >255</td>\n",
              "      <td id=\"T_6befa_row15_col9\" class=\"data row15 col9\" >255</td>\n",
              "      <td id=\"T_6befa_row15_col10\" class=\"data row15 col10\" >255</td>\n",
              "      <td id=\"T_6befa_row15_col11\" class=\"data row15 col11\" >255</td>\n",
              "      <td id=\"T_6befa_row15_col12\" class=\"data row15 col12\" >255</td>\n",
              "      <td id=\"T_6befa_row15_col13\" class=\"data row15 col13\" >255</td>\n",
              "      <td id=\"T_6befa_row15_col14\" class=\"data row15 col14\" >255</td>\n",
              "      <td id=\"T_6befa_row15_col15\" class=\"data row15 col15\" >255</td>\n",
              "      <td id=\"T_6befa_row15_col16\" class=\"data row15 col16\" >255</td>\n",
              "      <td id=\"T_6befa_row15_col17\" class=\"data row15 col17\" >255</td>\n",
              "      <td id=\"T_6befa_row15_col18\" class=\"data row15 col18\" >255</td>\n",
              "      <td id=\"T_6befa_row15_col19\" class=\"data row15 col19\" >255</td>\n",
              "      <td id=\"T_6befa_row15_col20\" class=\"data row15 col20\" >255</td>\n",
              "      <td id=\"T_6befa_row15_col21\" class=\"data row15 col21\" >255</td>\n",
              "      <td id=\"T_6befa_row15_col22\" class=\"data row15 col22\" >64</td>\n",
              "      <td id=\"T_6befa_row15_col23\" class=\"data row15 col23\" >0</td>\n",
              "      <td id=\"T_6befa_row15_col24\" class=\"data row15 col24\" >0</td>\n",
              "      <td id=\"T_6befa_row15_col25\" class=\"data row15 col25\" >0</td>\n",
              "      <td id=\"T_6befa_row15_col26\" class=\"data row15 col26\" >0</td>\n",
              "      <td id=\"T_6befa_row15_col27\" class=\"data row15 col27\" >0</td>\n",
              "    </tr>\n",
              "    <tr>\n",
              "      <th id=\"T_6befa_level0_row16\" class=\"row_heading level0 row16\" >16</th>\n",
              "      <td id=\"T_6befa_row16_col0\" class=\"data row16 col0\" >0</td>\n",
              "      <td id=\"T_6befa_row16_col1\" class=\"data row16 col1\" >0</td>\n",
              "      <td id=\"T_6befa_row16_col2\" class=\"data row16 col2\" >0</td>\n",
              "      <td id=\"T_6befa_row16_col3\" class=\"data row16 col3\" >0</td>\n",
              "      <td id=\"T_6befa_row16_col4\" class=\"data row16 col4\" >0</td>\n",
              "      <td id=\"T_6befa_row16_col5\" class=\"data row16 col5\" >0</td>\n",
              "      <td id=\"T_6befa_row16_col6\" class=\"data row16 col6\" >0</td>\n",
              "      <td id=\"T_6befa_row16_col7\" class=\"data row16 col7\" >128</td>\n",
              "      <td id=\"T_6befa_row16_col8\" class=\"data row16 col8\" >255</td>\n",
              "      <td id=\"T_6befa_row16_col9\" class=\"data row16 col9\" >255</td>\n",
              "      <td id=\"T_6befa_row16_col10\" class=\"data row16 col10\" >255</td>\n",
              "      <td id=\"T_6befa_row16_col11\" class=\"data row16 col11\" >255</td>\n",
              "      <td id=\"T_6befa_row16_col12\" class=\"data row16 col12\" >128</td>\n",
              "      <td id=\"T_6befa_row16_col13\" class=\"data row16 col13\" >128</td>\n",
              "      <td id=\"T_6befa_row16_col14\" class=\"data row16 col14\" >128</td>\n",
              "      <td id=\"T_6befa_row16_col15\" class=\"data row16 col15\" >64</td>\n",
              "      <td id=\"T_6befa_row16_col16\" class=\"data row16 col16\" >0</td>\n",
              "      <td id=\"T_6befa_row16_col17\" class=\"data row16 col17\" >128</td>\n",
              "      <td id=\"T_6befa_row16_col18\" class=\"data row16 col18\" >128</td>\n",
              "      <td id=\"T_6befa_row16_col19\" class=\"data row16 col19\" >255</td>\n",
              "      <td id=\"T_6befa_row16_col20\" class=\"data row16 col20\" >255</td>\n",
              "      <td id=\"T_6befa_row16_col21\" class=\"data row16 col21\" >255</td>\n",
              "      <td id=\"T_6befa_row16_col22\" class=\"data row16 col22\" >255</td>\n",
              "      <td id=\"T_6befa_row16_col23\" class=\"data row16 col23\" >128</td>\n",
              "      <td id=\"T_6befa_row16_col24\" class=\"data row16 col24\" >0</td>\n",
              "      <td id=\"T_6befa_row16_col25\" class=\"data row16 col25\" >0</td>\n",
              "      <td id=\"T_6befa_row16_col26\" class=\"data row16 col26\" >0</td>\n",
              "      <td id=\"T_6befa_row16_col27\" class=\"data row16 col27\" >0</td>\n",
              "    </tr>\n",
              "    <tr>\n",
              "      <th id=\"T_6befa_level0_row17\" class=\"row_heading level0 row17\" >17</th>\n",
              "      <td id=\"T_6befa_row17_col0\" class=\"data row17 col0\" >0</td>\n",
              "      <td id=\"T_6befa_row17_col1\" class=\"data row17 col1\" >0</td>\n",
              "      <td id=\"T_6befa_row17_col2\" class=\"data row17 col2\" >0</td>\n",
              "      <td id=\"T_6befa_row17_col3\" class=\"data row17 col3\" >0</td>\n",
              "      <td id=\"T_6befa_row17_col4\" class=\"data row17 col4\" >0</td>\n",
              "      <td id=\"T_6befa_row17_col5\" class=\"data row17 col5\" >0</td>\n",
              "      <td id=\"T_6befa_row17_col6\" class=\"data row17 col6\" >0</td>\n",
              "      <td id=\"T_6befa_row17_col7\" class=\"data row17 col7\" >0</td>\n",
              "      <td id=\"T_6befa_row17_col8\" class=\"data row17 col8\" >128</td>\n",
              "      <td id=\"T_6befa_row17_col9\" class=\"data row17 col9\" >64</td>\n",
              "      <td id=\"T_6befa_row17_col10\" class=\"data row17 col10\" >0</td>\n",
              "      <td id=\"T_6befa_row17_col11\" class=\"data row17 col11\" >0</td>\n",
              "      <td id=\"T_6befa_row17_col12\" class=\"data row17 col12\" >0</td>\n",
              "      <td id=\"T_6befa_row17_col13\" class=\"data row17 col13\" >0</td>\n",
              "      <td id=\"T_6befa_row17_col14\" class=\"data row17 col14\" >0</td>\n",
              "      <td id=\"T_6befa_row17_col15\" class=\"data row17 col15\" >0</td>\n",
              "      <td id=\"T_6befa_row17_col16\" class=\"data row17 col16\" >0</td>\n",
              "      <td id=\"T_6befa_row17_col17\" class=\"data row17 col17\" >0</td>\n",
              "      <td id=\"T_6befa_row17_col18\" class=\"data row17 col18\" >0</td>\n",
              "      <td id=\"T_6befa_row17_col19\" class=\"data row17 col19\" >64</td>\n",
              "      <td id=\"T_6befa_row17_col20\" class=\"data row17 col20\" >255</td>\n",
              "      <td id=\"T_6befa_row17_col21\" class=\"data row17 col21\" >255</td>\n",
              "      <td id=\"T_6befa_row17_col22\" class=\"data row17 col22\" >255</td>\n",
              "      <td id=\"T_6befa_row17_col23\" class=\"data row17 col23\" >255</td>\n",
              "      <td id=\"T_6befa_row17_col24\" class=\"data row17 col24\" >0</td>\n",
              "      <td id=\"T_6befa_row17_col25\" class=\"data row17 col25\" >0</td>\n",
              "      <td id=\"T_6befa_row17_col26\" class=\"data row17 col26\" >0</td>\n",
              "      <td id=\"T_6befa_row17_col27\" class=\"data row17 col27\" >0</td>\n",
              "    </tr>\n",
              "    <tr>\n",
              "      <th id=\"T_6befa_level0_row18\" class=\"row_heading level0 row18\" >18</th>\n",
              "      <td id=\"T_6befa_row18_col0\" class=\"data row18 col0\" >0</td>\n",
              "      <td id=\"T_6befa_row18_col1\" class=\"data row18 col1\" >0</td>\n",
              "      <td id=\"T_6befa_row18_col2\" class=\"data row18 col2\" >0</td>\n",
              "      <td id=\"T_6befa_row18_col3\" class=\"data row18 col3\" >0</td>\n",
              "      <td id=\"T_6befa_row18_col4\" class=\"data row18 col4\" >0</td>\n",
              "      <td id=\"T_6befa_row18_col5\" class=\"data row18 col5\" >0</td>\n",
              "      <td id=\"T_6befa_row18_col6\" class=\"data row18 col6\" >0</td>\n",
              "      <td id=\"T_6befa_row18_col7\" class=\"data row18 col7\" >0</td>\n",
              "      <td id=\"T_6befa_row18_col8\" class=\"data row18 col8\" >0</td>\n",
              "      <td id=\"T_6befa_row18_col9\" class=\"data row18 col9\" >0</td>\n",
              "      <td id=\"T_6befa_row18_col10\" class=\"data row18 col10\" >0</td>\n",
              "      <td id=\"T_6befa_row18_col11\" class=\"data row18 col11\" >0</td>\n",
              "      <td id=\"T_6befa_row18_col12\" class=\"data row18 col12\" >0</td>\n",
              "      <td id=\"T_6befa_row18_col13\" class=\"data row18 col13\" >0</td>\n",
              "      <td id=\"T_6befa_row18_col14\" class=\"data row18 col14\" >0</td>\n",
              "      <td id=\"T_6befa_row18_col15\" class=\"data row18 col15\" >0</td>\n",
              "      <td id=\"T_6befa_row18_col16\" class=\"data row18 col16\" >0</td>\n",
              "      <td id=\"T_6befa_row18_col17\" class=\"data row18 col17\" >0</td>\n",
              "      <td id=\"T_6befa_row18_col18\" class=\"data row18 col18\" >0</td>\n",
              "      <td id=\"T_6befa_row18_col19\" class=\"data row18 col19\" >64</td>\n",
              "      <td id=\"T_6befa_row18_col20\" class=\"data row18 col20\" >255</td>\n",
              "      <td id=\"T_6befa_row18_col21\" class=\"data row18 col21\" >255</td>\n",
              "      <td id=\"T_6befa_row18_col22\" class=\"data row18 col22\" >255</td>\n",
              "      <td id=\"T_6befa_row18_col23\" class=\"data row18 col23\" >191</td>\n",
              "      <td id=\"T_6befa_row18_col24\" class=\"data row18 col24\" >0</td>\n",
              "      <td id=\"T_6befa_row18_col25\" class=\"data row18 col25\" >0</td>\n",
              "      <td id=\"T_6befa_row18_col26\" class=\"data row18 col26\" >0</td>\n",
              "      <td id=\"T_6befa_row18_col27\" class=\"data row18 col27\" >0</td>\n",
              "    </tr>\n",
              "    <tr>\n",
              "      <th id=\"T_6befa_level0_row19\" class=\"row_heading level0 row19\" >19</th>\n",
              "      <td id=\"T_6befa_row19_col0\" class=\"data row19 col0\" >0</td>\n",
              "      <td id=\"T_6befa_row19_col1\" class=\"data row19 col1\" >0</td>\n",
              "      <td id=\"T_6befa_row19_col2\" class=\"data row19 col2\" >0</td>\n",
              "      <td id=\"T_6befa_row19_col3\" class=\"data row19 col3\" >0</td>\n",
              "      <td id=\"T_6befa_row19_col4\" class=\"data row19 col4\" >0</td>\n",
              "      <td id=\"T_6befa_row19_col5\" class=\"data row19 col5\" >0</td>\n",
              "      <td id=\"T_6befa_row19_col6\" class=\"data row19 col6\" >0</td>\n",
              "      <td id=\"T_6befa_row19_col7\" class=\"data row19 col7\" >0</td>\n",
              "      <td id=\"T_6befa_row19_col8\" class=\"data row19 col8\" >0</td>\n",
              "      <td id=\"T_6befa_row19_col9\" class=\"data row19 col9\" >0</td>\n",
              "      <td id=\"T_6befa_row19_col10\" class=\"data row19 col10\" >0</td>\n",
              "      <td id=\"T_6befa_row19_col11\" class=\"data row19 col11\" >0</td>\n",
              "      <td id=\"T_6befa_row19_col12\" class=\"data row19 col12\" >0</td>\n",
              "      <td id=\"T_6befa_row19_col13\" class=\"data row19 col13\" >0</td>\n",
              "      <td id=\"T_6befa_row19_col14\" class=\"data row19 col14\" >0</td>\n",
              "      <td id=\"T_6befa_row19_col15\" class=\"data row19 col15\" >0</td>\n",
              "      <td id=\"T_6befa_row19_col16\" class=\"data row19 col16\" >0</td>\n",
              "      <td id=\"T_6befa_row19_col17\" class=\"data row19 col17\" >64</td>\n",
              "      <td id=\"T_6befa_row19_col18\" class=\"data row19 col18\" >191</td>\n",
              "      <td id=\"T_6befa_row19_col19\" class=\"data row19 col19\" >255</td>\n",
              "      <td id=\"T_6befa_row19_col20\" class=\"data row19 col20\" >255</td>\n",
              "      <td id=\"T_6befa_row19_col21\" class=\"data row19 col21\" >255</td>\n",
              "      <td id=\"T_6befa_row19_col22\" class=\"data row19 col22\" >255</td>\n",
              "      <td id=\"T_6befa_row19_col23\" class=\"data row19 col23\" >64</td>\n",
              "      <td id=\"T_6befa_row19_col24\" class=\"data row19 col24\" >0</td>\n",
              "      <td id=\"T_6befa_row19_col25\" class=\"data row19 col25\" >0</td>\n",
              "      <td id=\"T_6befa_row19_col26\" class=\"data row19 col26\" >0</td>\n",
              "      <td id=\"T_6befa_row19_col27\" class=\"data row19 col27\" >0</td>\n",
              "    </tr>\n",
              "    <tr>\n",
              "      <th id=\"T_6befa_level0_row20\" class=\"row_heading level0 row20\" >20</th>\n",
              "      <td id=\"T_6befa_row20_col0\" class=\"data row20 col0\" >0</td>\n",
              "      <td id=\"T_6befa_row20_col1\" class=\"data row20 col1\" >0</td>\n",
              "      <td id=\"T_6befa_row20_col2\" class=\"data row20 col2\" >0</td>\n",
              "      <td id=\"T_6befa_row20_col3\" class=\"data row20 col3\" >0</td>\n",
              "      <td id=\"T_6befa_row20_col4\" class=\"data row20 col4\" >64</td>\n",
              "      <td id=\"T_6befa_row20_col5\" class=\"data row20 col5\" >128</td>\n",
              "      <td id=\"T_6befa_row20_col6\" class=\"data row20 col6\" >128</td>\n",
              "      <td id=\"T_6befa_row20_col7\" class=\"data row20 col7\" >128</td>\n",
              "      <td id=\"T_6befa_row20_col8\" class=\"data row20 col8\" >64</td>\n",
              "      <td id=\"T_6befa_row20_col9\" class=\"data row20 col9\" >0</td>\n",
              "      <td id=\"T_6befa_row20_col10\" class=\"data row20 col10\" >0</td>\n",
              "      <td id=\"T_6befa_row20_col11\" class=\"data row20 col11\" >0</td>\n",
              "      <td id=\"T_6befa_row20_col12\" class=\"data row20 col12\" >0</td>\n",
              "      <td id=\"T_6befa_row20_col13\" class=\"data row20 col13\" >0</td>\n",
              "      <td id=\"T_6befa_row20_col14\" class=\"data row20 col14\" >0</td>\n",
              "      <td id=\"T_6befa_row20_col15\" class=\"data row20 col15\" >64</td>\n",
              "      <td id=\"T_6befa_row20_col16\" class=\"data row20 col16\" >191</td>\n",
              "      <td id=\"T_6befa_row20_col17\" class=\"data row20 col17\" >255</td>\n",
              "      <td id=\"T_6befa_row20_col18\" class=\"data row20 col18\" >255</td>\n",
              "      <td id=\"T_6befa_row20_col19\" class=\"data row20 col19\" >255</td>\n",
              "      <td id=\"T_6befa_row20_col20\" class=\"data row20 col20\" >255</td>\n",
              "      <td id=\"T_6befa_row20_col21\" class=\"data row20 col21\" >255</td>\n",
              "      <td id=\"T_6befa_row20_col22\" class=\"data row20 col22\" >0</td>\n",
              "      <td id=\"T_6befa_row20_col23\" class=\"data row20 col23\" >0</td>\n",
              "      <td id=\"T_6befa_row20_col24\" class=\"data row20 col24\" >0</td>\n",
              "      <td id=\"T_6befa_row20_col25\" class=\"data row20 col25\" >0</td>\n",
              "      <td id=\"T_6befa_row20_col26\" class=\"data row20 col26\" >0</td>\n",
              "      <td id=\"T_6befa_row20_col27\" class=\"data row20 col27\" >0</td>\n",
              "    </tr>\n",
              "    <tr>\n",
              "      <th id=\"T_6befa_level0_row21\" class=\"row_heading level0 row21\" >21</th>\n",
              "      <td id=\"T_6befa_row21_col0\" class=\"data row21 col0\" >0</td>\n",
              "      <td id=\"T_6befa_row21_col1\" class=\"data row21 col1\" >0</td>\n",
              "      <td id=\"T_6befa_row21_col2\" class=\"data row21 col2\" >0</td>\n",
              "      <td id=\"T_6befa_row21_col3\" class=\"data row21 col3\" >0</td>\n",
              "      <td id=\"T_6befa_row21_col4\" class=\"data row21 col4\" >255</td>\n",
              "      <td id=\"T_6befa_row21_col5\" class=\"data row21 col5\" >255</td>\n",
              "      <td id=\"T_6befa_row21_col6\" class=\"data row21 col6\" >255</td>\n",
              "      <td id=\"T_6befa_row21_col7\" class=\"data row21 col7\" >255</td>\n",
              "      <td id=\"T_6befa_row21_col8\" class=\"data row21 col8\" >255</td>\n",
              "      <td id=\"T_6befa_row21_col9\" class=\"data row21 col9\" >255</td>\n",
              "      <td id=\"T_6befa_row21_col10\" class=\"data row21 col10\" >255</td>\n",
              "      <td id=\"T_6befa_row21_col11\" class=\"data row21 col11\" >191</td>\n",
              "      <td id=\"T_6befa_row21_col12\" class=\"data row21 col12\" >255</td>\n",
              "      <td id=\"T_6befa_row21_col13\" class=\"data row21 col13\" >255</td>\n",
              "      <td id=\"T_6befa_row21_col14\" class=\"data row21 col14\" >255</td>\n",
              "      <td id=\"T_6befa_row21_col15\" class=\"data row21 col15\" >255</td>\n",
              "      <td id=\"T_6befa_row21_col16\" class=\"data row21 col16\" >255</td>\n",
              "      <td id=\"T_6befa_row21_col17\" class=\"data row21 col17\" >255</td>\n",
              "      <td id=\"T_6befa_row21_col18\" class=\"data row21 col18\" >255</td>\n",
              "      <td id=\"T_6befa_row21_col19\" class=\"data row21 col19\" >255</td>\n",
              "      <td id=\"T_6befa_row21_col20\" class=\"data row21 col20\" >191</td>\n",
              "      <td id=\"T_6befa_row21_col21\" class=\"data row21 col21\" >64</td>\n",
              "      <td id=\"T_6befa_row21_col22\" class=\"data row21 col22\" >0</td>\n",
              "      <td id=\"T_6befa_row21_col23\" class=\"data row21 col23\" >0</td>\n",
              "      <td id=\"T_6befa_row21_col24\" class=\"data row21 col24\" >0</td>\n",
              "      <td id=\"T_6befa_row21_col25\" class=\"data row21 col25\" >0</td>\n",
              "      <td id=\"T_6befa_row21_col26\" class=\"data row21 col26\" >0</td>\n",
              "      <td id=\"T_6befa_row21_col27\" class=\"data row21 col27\" >0</td>\n",
              "    </tr>\n",
              "    <tr>\n",
              "      <th id=\"T_6befa_level0_row22\" class=\"row_heading level0 row22\" >22</th>\n",
              "      <td id=\"T_6befa_row22_col0\" class=\"data row22 col0\" >0</td>\n",
              "      <td id=\"T_6befa_row22_col1\" class=\"data row22 col1\" >0</td>\n",
              "      <td id=\"T_6befa_row22_col2\" class=\"data row22 col2\" >0</td>\n",
              "      <td id=\"T_6befa_row22_col3\" class=\"data row22 col3\" >0</td>\n",
              "      <td id=\"T_6befa_row22_col4\" class=\"data row22 col4\" >255</td>\n",
              "      <td id=\"T_6befa_row22_col5\" class=\"data row22 col5\" >255</td>\n",
              "      <td id=\"T_6befa_row22_col6\" class=\"data row22 col6\" >255</td>\n",
              "      <td id=\"T_6befa_row22_col7\" class=\"data row22 col7\" >255</td>\n",
              "      <td id=\"T_6befa_row22_col8\" class=\"data row22 col8\" >255</td>\n",
              "      <td id=\"T_6befa_row22_col9\" class=\"data row22 col9\" >255</td>\n",
              "      <td id=\"T_6befa_row22_col10\" class=\"data row22 col10\" >255</td>\n",
              "      <td id=\"T_6befa_row22_col11\" class=\"data row22 col11\" >255</td>\n",
              "      <td id=\"T_6befa_row22_col12\" class=\"data row22 col12\" >255</td>\n",
              "      <td id=\"T_6befa_row22_col13\" class=\"data row22 col13\" >255</td>\n",
              "      <td id=\"T_6befa_row22_col14\" class=\"data row22 col14\" >255</td>\n",
              "      <td id=\"T_6befa_row22_col15\" class=\"data row22 col15\" >255</td>\n",
              "      <td id=\"T_6befa_row22_col16\" class=\"data row22 col16\" >255</td>\n",
              "      <td id=\"T_6befa_row22_col17\" class=\"data row22 col17\" >255</td>\n",
              "      <td id=\"T_6befa_row22_col18\" class=\"data row22 col18\" >255</td>\n",
              "      <td id=\"T_6befa_row22_col19\" class=\"data row22 col19\" >64</td>\n",
              "      <td id=\"T_6befa_row22_col20\" class=\"data row22 col20\" >0</td>\n",
              "      <td id=\"T_6befa_row22_col21\" class=\"data row22 col21\" >0</td>\n",
              "      <td id=\"T_6befa_row22_col22\" class=\"data row22 col22\" >0</td>\n",
              "      <td id=\"T_6befa_row22_col23\" class=\"data row22 col23\" >0</td>\n",
              "      <td id=\"T_6befa_row22_col24\" class=\"data row22 col24\" >0</td>\n",
              "      <td id=\"T_6befa_row22_col25\" class=\"data row22 col25\" >0</td>\n",
              "      <td id=\"T_6befa_row22_col26\" class=\"data row22 col26\" >0</td>\n",
              "      <td id=\"T_6befa_row22_col27\" class=\"data row22 col27\" >0</td>\n",
              "    </tr>\n",
              "    <tr>\n",
              "      <th id=\"T_6befa_level0_row23\" class=\"row_heading level0 row23\" >23</th>\n",
              "      <td id=\"T_6befa_row23_col0\" class=\"data row23 col0\" >0</td>\n",
              "      <td id=\"T_6befa_row23_col1\" class=\"data row23 col1\" >0</td>\n",
              "      <td id=\"T_6befa_row23_col2\" class=\"data row23 col2\" >0</td>\n",
              "      <td id=\"T_6befa_row23_col3\" class=\"data row23 col3\" >0</td>\n",
              "      <td id=\"T_6befa_row23_col4\" class=\"data row23 col4\" >64</td>\n",
              "      <td id=\"T_6befa_row23_col5\" class=\"data row23 col5\" >128</td>\n",
              "      <td id=\"T_6befa_row23_col6\" class=\"data row23 col6\" >255</td>\n",
              "      <td id=\"T_6befa_row23_col7\" class=\"data row23 col7\" >255</td>\n",
              "      <td id=\"T_6befa_row23_col8\" class=\"data row23 col8\" >255</td>\n",
              "      <td id=\"T_6befa_row23_col9\" class=\"data row23 col9\" >255</td>\n",
              "      <td id=\"T_6befa_row23_col10\" class=\"data row23 col10\" >255</td>\n",
              "      <td id=\"T_6befa_row23_col11\" class=\"data row23 col11\" >255</td>\n",
              "      <td id=\"T_6befa_row23_col12\" class=\"data row23 col12\" >255</td>\n",
              "      <td id=\"T_6befa_row23_col13\" class=\"data row23 col13\" >255</td>\n",
              "      <td id=\"T_6befa_row23_col14\" class=\"data row23 col14\" >255</td>\n",
              "      <td id=\"T_6befa_row23_col15\" class=\"data row23 col15\" >255</td>\n",
              "      <td id=\"T_6befa_row23_col16\" class=\"data row23 col16\" >191</td>\n",
              "      <td id=\"T_6befa_row23_col17\" class=\"data row23 col17\" >64</td>\n",
              "      <td id=\"T_6befa_row23_col18\" class=\"data row23 col18\" >0</td>\n",
              "      <td id=\"T_6befa_row23_col19\" class=\"data row23 col19\" >0</td>\n",
              "      <td id=\"T_6befa_row23_col20\" class=\"data row23 col20\" >0</td>\n",
              "      <td id=\"T_6befa_row23_col21\" class=\"data row23 col21\" >0</td>\n",
              "      <td id=\"T_6befa_row23_col22\" class=\"data row23 col22\" >0</td>\n",
              "      <td id=\"T_6befa_row23_col23\" class=\"data row23 col23\" >0</td>\n",
              "      <td id=\"T_6befa_row23_col24\" class=\"data row23 col24\" >0</td>\n",
              "      <td id=\"T_6befa_row23_col25\" class=\"data row23 col25\" >0</td>\n",
              "      <td id=\"T_6befa_row23_col26\" class=\"data row23 col26\" >0</td>\n",
              "      <td id=\"T_6befa_row23_col27\" class=\"data row23 col27\" >0</td>\n",
              "    </tr>\n",
              "    <tr>\n",
              "      <th id=\"T_6befa_level0_row24\" class=\"row_heading level0 row24\" >24</th>\n",
              "      <td id=\"T_6befa_row24_col0\" class=\"data row24 col0\" >0</td>\n",
              "      <td id=\"T_6befa_row24_col1\" class=\"data row24 col1\" >0</td>\n",
              "      <td id=\"T_6befa_row24_col2\" class=\"data row24 col2\" >0</td>\n",
              "      <td id=\"T_6befa_row24_col3\" class=\"data row24 col3\" >0</td>\n",
              "      <td id=\"T_6befa_row24_col4\" class=\"data row24 col4\" >0</td>\n",
              "      <td id=\"T_6befa_row24_col5\" class=\"data row24 col5\" >0</td>\n",
              "      <td id=\"T_6befa_row24_col6\" class=\"data row24 col6\" >0</td>\n",
              "      <td id=\"T_6befa_row24_col7\" class=\"data row24 col7\" >0</td>\n",
              "      <td id=\"T_6befa_row24_col8\" class=\"data row24 col8\" >0</td>\n",
              "      <td id=\"T_6befa_row24_col9\" class=\"data row24 col9\" >0</td>\n",
              "      <td id=\"T_6befa_row24_col10\" class=\"data row24 col10\" >128</td>\n",
              "      <td id=\"T_6befa_row24_col11\" class=\"data row24 col11\" >64</td>\n",
              "      <td id=\"T_6befa_row24_col12\" class=\"data row24 col12\" >0</td>\n",
              "      <td id=\"T_6befa_row24_col13\" class=\"data row24 col13\" >0</td>\n",
              "      <td id=\"T_6befa_row24_col14\" class=\"data row24 col14\" >0</td>\n",
              "      <td id=\"T_6befa_row24_col15\" class=\"data row24 col15\" >0</td>\n",
              "      <td id=\"T_6befa_row24_col16\" class=\"data row24 col16\" >0</td>\n",
              "      <td id=\"T_6befa_row24_col17\" class=\"data row24 col17\" >0</td>\n",
              "      <td id=\"T_6befa_row24_col18\" class=\"data row24 col18\" >0</td>\n",
              "      <td id=\"T_6befa_row24_col19\" class=\"data row24 col19\" >0</td>\n",
              "      <td id=\"T_6befa_row24_col20\" class=\"data row24 col20\" >0</td>\n",
              "      <td id=\"T_6befa_row24_col21\" class=\"data row24 col21\" >0</td>\n",
              "      <td id=\"T_6befa_row24_col22\" class=\"data row24 col22\" >0</td>\n",
              "      <td id=\"T_6befa_row24_col23\" class=\"data row24 col23\" >0</td>\n",
              "      <td id=\"T_6befa_row24_col24\" class=\"data row24 col24\" >0</td>\n",
              "      <td id=\"T_6befa_row24_col25\" class=\"data row24 col25\" >0</td>\n",
              "      <td id=\"T_6befa_row24_col26\" class=\"data row24 col26\" >0</td>\n",
              "      <td id=\"T_6befa_row24_col27\" class=\"data row24 col27\" >0</td>\n",
              "    </tr>\n",
              "    <tr>\n",
              "      <th id=\"T_6befa_level0_row25\" class=\"row_heading level0 row25\" >25</th>\n",
              "      <td id=\"T_6befa_row25_col0\" class=\"data row25 col0\" >0</td>\n",
              "      <td id=\"T_6befa_row25_col1\" class=\"data row25 col1\" >0</td>\n",
              "      <td id=\"T_6befa_row25_col2\" class=\"data row25 col2\" >0</td>\n",
              "      <td id=\"T_6befa_row25_col3\" class=\"data row25 col3\" >0</td>\n",
              "      <td id=\"T_6befa_row25_col4\" class=\"data row25 col4\" >0</td>\n",
              "      <td id=\"T_6befa_row25_col5\" class=\"data row25 col5\" >0</td>\n",
              "      <td id=\"T_6befa_row25_col6\" class=\"data row25 col6\" >0</td>\n",
              "      <td id=\"T_6befa_row25_col7\" class=\"data row25 col7\" >0</td>\n",
              "      <td id=\"T_6befa_row25_col8\" class=\"data row25 col8\" >0</td>\n",
              "      <td id=\"T_6befa_row25_col9\" class=\"data row25 col9\" >0</td>\n",
              "      <td id=\"T_6befa_row25_col10\" class=\"data row25 col10\" >0</td>\n",
              "      <td id=\"T_6befa_row25_col11\" class=\"data row25 col11\" >0</td>\n",
              "      <td id=\"T_6befa_row25_col12\" class=\"data row25 col12\" >0</td>\n",
              "      <td id=\"T_6befa_row25_col13\" class=\"data row25 col13\" >0</td>\n",
              "      <td id=\"T_6befa_row25_col14\" class=\"data row25 col14\" >0</td>\n",
              "      <td id=\"T_6befa_row25_col15\" class=\"data row25 col15\" >0</td>\n",
              "      <td id=\"T_6befa_row25_col16\" class=\"data row25 col16\" >0</td>\n",
              "      <td id=\"T_6befa_row25_col17\" class=\"data row25 col17\" >0</td>\n",
              "      <td id=\"T_6befa_row25_col18\" class=\"data row25 col18\" >0</td>\n",
              "      <td id=\"T_6befa_row25_col19\" class=\"data row25 col19\" >0</td>\n",
              "      <td id=\"T_6befa_row25_col20\" class=\"data row25 col20\" >0</td>\n",
              "      <td id=\"T_6befa_row25_col21\" class=\"data row25 col21\" >0</td>\n",
              "      <td id=\"T_6befa_row25_col22\" class=\"data row25 col22\" >0</td>\n",
              "      <td id=\"T_6befa_row25_col23\" class=\"data row25 col23\" >0</td>\n",
              "      <td id=\"T_6befa_row25_col24\" class=\"data row25 col24\" >0</td>\n",
              "      <td id=\"T_6befa_row25_col25\" class=\"data row25 col25\" >0</td>\n",
              "      <td id=\"T_6befa_row25_col26\" class=\"data row25 col26\" >0</td>\n",
              "      <td id=\"T_6befa_row25_col27\" class=\"data row25 col27\" >0</td>\n",
              "    </tr>\n",
              "    <tr>\n",
              "      <th id=\"T_6befa_level0_row26\" class=\"row_heading level0 row26\" >26</th>\n",
              "      <td id=\"T_6befa_row26_col0\" class=\"data row26 col0\" >0</td>\n",
              "      <td id=\"T_6befa_row26_col1\" class=\"data row26 col1\" >0</td>\n",
              "      <td id=\"T_6befa_row26_col2\" class=\"data row26 col2\" >0</td>\n",
              "      <td id=\"T_6befa_row26_col3\" class=\"data row26 col3\" >0</td>\n",
              "      <td id=\"T_6befa_row26_col4\" class=\"data row26 col4\" >0</td>\n",
              "      <td id=\"T_6befa_row26_col5\" class=\"data row26 col5\" >0</td>\n",
              "      <td id=\"T_6befa_row26_col6\" class=\"data row26 col6\" >0</td>\n",
              "      <td id=\"T_6befa_row26_col7\" class=\"data row26 col7\" >0</td>\n",
              "      <td id=\"T_6befa_row26_col8\" class=\"data row26 col8\" >0</td>\n",
              "      <td id=\"T_6befa_row26_col9\" class=\"data row26 col9\" >0</td>\n",
              "      <td id=\"T_6befa_row26_col10\" class=\"data row26 col10\" >0</td>\n",
              "      <td id=\"T_6befa_row26_col11\" class=\"data row26 col11\" >0</td>\n",
              "      <td id=\"T_6befa_row26_col12\" class=\"data row26 col12\" >0</td>\n",
              "      <td id=\"T_6befa_row26_col13\" class=\"data row26 col13\" >0</td>\n",
              "      <td id=\"T_6befa_row26_col14\" class=\"data row26 col14\" >0</td>\n",
              "      <td id=\"T_6befa_row26_col15\" class=\"data row26 col15\" >0</td>\n",
              "      <td id=\"T_6befa_row26_col16\" class=\"data row26 col16\" >0</td>\n",
              "      <td id=\"T_6befa_row26_col17\" class=\"data row26 col17\" >0</td>\n",
              "      <td id=\"T_6befa_row26_col18\" class=\"data row26 col18\" >0</td>\n",
              "      <td id=\"T_6befa_row26_col19\" class=\"data row26 col19\" >0</td>\n",
              "      <td id=\"T_6befa_row26_col20\" class=\"data row26 col20\" >0</td>\n",
              "      <td id=\"T_6befa_row26_col21\" class=\"data row26 col21\" >0</td>\n",
              "      <td id=\"T_6befa_row26_col22\" class=\"data row26 col22\" >0</td>\n",
              "      <td id=\"T_6befa_row26_col23\" class=\"data row26 col23\" >0</td>\n",
              "      <td id=\"T_6befa_row26_col24\" class=\"data row26 col24\" >0</td>\n",
              "      <td id=\"T_6befa_row26_col25\" class=\"data row26 col25\" >0</td>\n",
              "      <td id=\"T_6befa_row26_col26\" class=\"data row26 col26\" >0</td>\n",
              "      <td id=\"T_6befa_row26_col27\" class=\"data row26 col27\" >0</td>\n",
              "    </tr>\n",
              "    <tr>\n",
              "      <th id=\"T_6befa_level0_row27\" class=\"row_heading level0 row27\" >27</th>\n",
              "      <td id=\"T_6befa_row27_col0\" class=\"data row27 col0\" >0</td>\n",
              "      <td id=\"T_6befa_row27_col1\" class=\"data row27 col1\" >0</td>\n",
              "      <td id=\"T_6befa_row27_col2\" class=\"data row27 col2\" >0</td>\n",
              "      <td id=\"T_6befa_row27_col3\" class=\"data row27 col3\" >0</td>\n",
              "      <td id=\"T_6befa_row27_col4\" class=\"data row27 col4\" >0</td>\n",
              "      <td id=\"T_6befa_row27_col5\" class=\"data row27 col5\" >0</td>\n",
              "      <td id=\"T_6befa_row27_col6\" class=\"data row27 col6\" >0</td>\n",
              "      <td id=\"T_6befa_row27_col7\" class=\"data row27 col7\" >0</td>\n",
              "      <td id=\"T_6befa_row27_col8\" class=\"data row27 col8\" >0</td>\n",
              "      <td id=\"T_6befa_row27_col9\" class=\"data row27 col9\" >0</td>\n",
              "      <td id=\"T_6befa_row27_col10\" class=\"data row27 col10\" >0</td>\n",
              "      <td id=\"T_6befa_row27_col11\" class=\"data row27 col11\" >0</td>\n",
              "      <td id=\"T_6befa_row27_col12\" class=\"data row27 col12\" >0</td>\n",
              "      <td id=\"T_6befa_row27_col13\" class=\"data row27 col13\" >0</td>\n",
              "      <td id=\"T_6befa_row27_col14\" class=\"data row27 col14\" >0</td>\n",
              "      <td id=\"T_6befa_row27_col15\" class=\"data row27 col15\" >0</td>\n",
              "      <td id=\"T_6befa_row27_col16\" class=\"data row27 col16\" >0</td>\n",
              "      <td id=\"T_6befa_row27_col17\" class=\"data row27 col17\" >0</td>\n",
              "      <td id=\"T_6befa_row27_col18\" class=\"data row27 col18\" >0</td>\n",
              "      <td id=\"T_6befa_row27_col19\" class=\"data row27 col19\" >0</td>\n",
              "      <td id=\"T_6befa_row27_col20\" class=\"data row27 col20\" >0</td>\n",
              "      <td id=\"T_6befa_row27_col21\" class=\"data row27 col21\" >0</td>\n",
              "      <td id=\"T_6befa_row27_col22\" class=\"data row27 col22\" >0</td>\n",
              "      <td id=\"T_6befa_row27_col23\" class=\"data row27 col23\" >0</td>\n",
              "      <td id=\"T_6befa_row27_col24\" class=\"data row27 col24\" >0</td>\n",
              "      <td id=\"T_6befa_row27_col25\" class=\"data row27 col25\" >0</td>\n",
              "      <td id=\"T_6befa_row27_col26\" class=\"data row27 col26\" >0</td>\n",
              "      <td id=\"T_6befa_row27_col27\" class=\"data row27 col27\" >0</td>\n",
              "    </tr>\n",
              "  </tbody>\n",
              "</table>\n"
            ],
            "text/plain": [
              "<pandas.io.formats.style.Styler at 0x1cc7fa51550>"
            ]
          },
          "execution_count": 19,
          "metadata": {},
          "output_type": "execute_result"
        }
      ],
      "source": [
        "#hide_output\n",
        "im3_t = tensor(im3)\n",
        "df = pd.DataFrame(im3_t)\n",
        "df.style.set_properties(**{'font-size':'6pt'}).background_gradient('Greys')"
      ]
    },
    {
      "cell_type": "markdown",
      "metadata": {
        "id": "PuCfFihkr-Op"
      },
      "source": [
        "<img width=\"453\" id=\"output_pd_pixels\" src=\"https://github.com/fastai/fastbook/blob/master/images/att_00058.png?raw=1\">"
      ]
    },
    {
      "cell_type": "markdown",
      "metadata": {
        "id": "t95pGcCZr-Op"
      },
      "source": [
        "You can see that the background white pixels are stored as the number 0, black is the number 255, and shades of gray are between the two. The entire image contains 28 pixels across and 28 pixels down, for a total of 784 pixels. (This is much smaller than an image that you would get from a phone camera, which has millions of pixels, but is a convenient size for our initial learning and experiments. We will build up to bigger, full-color images soon.)\n",
        "\n",
        "So, now you've seen what an image looks like to a computer, let's recall our goal: create a model that can recognize 3s and 7s. How might you go about getting a computer to do that?\n",
        "\n",
        "> Warning: Stop and Think!: Before you read on, take a moment to think about how a computer might be able to recognize these two different digits. What kinds of features might it be able to look at? How might it be able to identify these features? How could it combine them together? Learning works best when you try to solve problems yourself, rather than just reading somebody else's answers; so step away from this book for a few minutes, grab a piece of paper and pen, and jot some ideas down…"
      ]
    },
    {
      "cell_type": "markdown",
      "metadata": {
        "id": "QwzGc5Sur-Op"
      },
      "source": [
        "## First Try: Pixel Similarity"
      ]
    },
    {
      "cell_type": "markdown",
      "metadata": {
        "id": "ApR7R6Ber-Oq"
      },
      "source": [
        "So, here is a first idea: how about we find the average pixel value for every pixel of the 3s, then do the same for the 7s. This will give us two group averages, defining what we might call the \"ideal\" 3 and 7. Then, to classify an image as one digit or the other, we see which of these two ideal digits the image is most similar to. This certainly seems like it should be better than nothing, so it will make a good baseline."
      ]
    },
    {
      "cell_type": "markdown",
      "metadata": {
        "id": "hdBEAMLdr-Oq"
      },
      "source": [
        "> jargon: Baseline: A simple model which you are confident should perform reasonably well. It should be very simple to implement, and very easy to test, so that you can then test each of your improved ideas, and make sure they are always better than your baseline. Without starting with a sensible baseline, it is very difficult to know whether your super-fancy models are actually any good. One good approach to creating a baseline is doing what we have done here: think of a simple, easy-to-implement model. Another good approach is to search around to find other people that have solved similar problems to yours, and download and run their code on your dataset. Ideally, try both of these!"
      ]
    },
    {
      "cell_type": "markdown",
      "metadata": {
        "id": "RwhQQTTRr-Oq"
      },
      "source": [
        "Step one for our simple model is to get the average of pixel values for each of our two groups. In the process of doing this, we will learn a lot of neat Python numeric programming tricks!\n",
        "\n",
        "Let's create a tensor containing all of our 3s stacked together. We already know how to create a tensor containing a single image. To create a tensor containing all the images in a directory, we will first use a Python list comprehension to create a plain list of the single image tensors.\n",
        "\n",
        "We will use Jupyter to do some little checks of our work along the way—in this case, making sure that the number of returned items seems reasonable:"
      ]
    },
    {
      "cell_type": "code",
      "execution_count": 20,
      "metadata": {
        "id": "VeceXC9hr-Oq",
        "outputId": "7d32a124-da6f-4c2b-c4cf-a72cc8c00821"
      },
      "outputs": [
        {
          "data": {
            "text/plain": [
              "(6131, 6265)"
            ]
          },
          "execution_count": 20,
          "metadata": {},
          "output_type": "execute_result"
        }
      ],
      "source": [
        "seven_tensors = [tensor(Image.open(o)) for o in sevens]\n",
        "three_tensors = [tensor(Image.open(o)) for o in threes]\n",
        "len(three_tensors),len(seven_tensors)"
      ]
    },
    {
      "cell_type": "markdown",
      "metadata": {
        "id": "Br4kvUKIr-Oq"
      },
      "source": [
        "> note: List Comprehensions: List and dictionary comprehensions are a wonderful feature of Python. Many Python programmers use them every day, including the authors of this book—they are part of \"idiomatic Python.\" But programmers coming from other languages may have never seen them before. There are a lot of great tutorials just a web search away, so we won't spend a long time discussing them now. Here is a quick explanation and example to get you started. A list comprehension looks like this: `new_list = [f(o) for o in a_list if o>0]`. This will return every element of `a_list` that is greater than 0, after passing it to the function `f`. There are three parts here: the collection you are iterating over (`a_list`), an optional filter (`if o>0`), and something to do to each element (`f(o)`). It's not only shorter to write but way faster than the alternative ways of creating the same list with a loop."
      ]
    },
    {
      "cell_type": "markdown",
      "metadata": {
        "id": "zYxgOiumr-Oq"
      },
      "source": [
        "We'll also check that one of the images looks okay. Since we now have tensors (which Jupyter by default will print as values), rather than PIL images (which Jupyter by default will display as images), we need to use fastai's `show_image` function to display it:"
      ]
    },
    {
      "cell_type": "code",
      "execution_count": null,
      "metadata": {
        "id": "pyLh_sp_r-Oq",
        "outputId": "12dd9c42-dd41-466a-bd5f-c661c6e0f2ac"
      },
      "outputs": [
        {
          "data": {
            "image/png": "[encoded data removed]",
            "text/plain": [
              "<Figure size 72x72 with 1 Axes>"
            ]
          },
          "metadata": {
            "needs_background": "light"
          },
          "output_type": "display_data"
        }
      ],
      "source": [
        "show_image(three_tensors[1]);"
      ]
    },
    {
      "cell_type": "markdown",
      "metadata": {
        "id": "NWIsZEHLr-Or"
      },
      "source": [
        "For every pixel position, we want to compute the average over all the images of the intensity of that pixel. To do this we first combine all the images in this list into a single three-dimensional tensor. The most common way to describe such a tensor is to call it a *rank-3 tensor*. We often need to stack up individual tensors in a collection into a single tensor. Unsurprisingly, PyTorch comes with a function called `stack` that we can use for this purpose.\n",
        "\n",
        "Some operations in PyTorch, such as taking a mean, require us to *cast* our integer types to float types. Since we'll be needing this later, we'll also cast our stacked tensor to `float` now. Casting in PyTorch is as simple as typing the name of the type you wish to cast to, and treating it as a method.\n",
        "\n",
        "Generally when images are floats, the pixel values are expected to be between 0 and 1, so we will also divide by 255 here:"
      ]
    },
    {
      "cell_type": "code",
      "execution_count": 30,
      "metadata": {
        "id": "XJOD7Mlxr-Or",
        "outputId": "a80116a8-0b46-4f1a-9447-0d4c9c90a48e"
      },
      "outputs": [
        {
          "data": {
            "text/plain": [
              "torch.Size([6131, 28, 28])"
            ]
          },
          "execution_count": 30,
          "metadata": {},
          "output_type": "execute_result"
        }
      ],
      "source": [
        "stacked_sevens = torch.stack(seven_tensors).float()/255\n",
        "stacked_threes = torch.stack(three_tensors).float()/255\n",
        "stacked_threes.shape"
      ]
    },
    {
      "cell_type": "markdown",
      "metadata": {
        "id": "HNPBSH1ir-Ou"
      },
      "source": [
        "Perhaps the most important attribute of a tensor is its *shape*. This tells you the length of each axis. In this case, we can see that we have 6,131 images, each of size 28×28 pixels. There is nothing specifically about this tensor that says that the first axis is the number of images, the second is the height, and the third is the width—the semantics of a tensor are entirely up to us, and how we construct it. As far as PyTorch is concerned, it is just a bunch of numbers in memory.\n",
        "\n",
        "The *length* of a tensor's shape is its rank:"
      ]
    },
    {
      "cell_type": "code",
      "execution_count": 29,
      "metadata": {
        "id": "z2Qux0PNr-Ou",
        "outputId": "77f48d93-a9c6-400c-bf1e-e0d60ef641cf"
      },
      "outputs": [
        {
          "data": {
            "text/plain": [
              "3"
            ]
          },
          "execution_count": 29,
          "metadata": {},
          "output_type": "execute_result"
        }
      ],
      "source": [
        "len(stacked_threes.shape)"
      ]
    },
    {
      "cell_type": "markdown",
      "metadata": {
        "id": "jWZdOFJtr-Ov"
      },
      "source": [
        "It is really important for you to commit to memory and practice these bits of tensor jargon: _rank_ is the number of axes or dimensions in a tensor; _shape_ is the size of each axis of a tensor.\n",
        "\n",
        "> A: Watch out because the term \"dimension\" is sometimes used in two ways. Consider that we live in \"three-dimensonal space\" where a physical position can be described by a 3-vector `v`. But according to PyTorch, the attribute `v.ndim` (which sure looks like the \"number of dimensions\" of `v`) equals one, not three! Why? Because `v` is a vector, which is a tensor of rank one, meaning that it has only one _axis_ (even if that axis has a length of three). In other words, sometimes dimension is used for the size of an axis (\"space is three-dimensional\"); other times, it is used for the rank, or the number of axes (\"a matrix has two dimensions\"). When confused, I find it helpful to translate all statements into terms of rank, axis, and length, which are unambiguous terms."
      ]
    },
    {
      "cell_type": "markdown",
      "metadata": {
        "id": "yYlqysuxr-Ov"
      },
      "source": [
        "We can also get a tensor's rank directly with `ndim`:"
      ]
    },
    {
      "cell_type": "code",
      "execution_count": 23,
      "metadata": {
        "id": "GklELWDkr-Ov",
        "outputId": "a93f70de-18cc-4f90-826b-3cbce973b05a"
      },
      "outputs": [
        {
          "data": {
            "text/plain": [
              "3"
            ]
          },
          "execution_count": 23,
          "metadata": {},
          "output_type": "execute_result"
        }
      ],
      "source": [
        "stacked_threes.ndim"
      ]
    },
    {
      "cell_type": "markdown",
      "metadata": {
        "id": "PkQDcy0Fr-Ov"
      },
      "source": [
        "Finally, we can compute what the ideal 3 looks like. We calculate the mean of all the image tensors by taking the mean along dimension 0 of our stacked, rank-3 tensor. This is the dimension that indexes over all the images.\n",
        "\n",
        "In other words, for every pixel position, this will compute the average of that pixel over all images. The result will be one value for every pixel position, or a single image. Here it is:"
      ]
    },
    {
      "cell_type": "code",
      "execution_count": 24,
      "metadata": {
        "id": "5-fH234sr-Ov",
        "outputId": "b123d61c-f259-4eca-d923-3968037d7280"
      },
      "outputs": [
        {
          "data": {
            "image/png": "[encoded data removed]",
            "text/plain": [
              "<Figure size 100x100 with 1 Axes>"
            ]
          },
          "metadata": {},
          "output_type": "display_data"
        }
      ],
      "source": [
        "mean3 = stacked_threes.mean(0)\n",
        "show_image(mean3);"
      ]
    },
    {
      "cell_type": "markdown",
      "metadata": {
        "id": "2Li8c0fAr-Ov"
      },
      "source": [
        "According to this dataset, this is the ideal number 3! (You may not like it, but this is what peak number 3 performance looks like.) You can see how it's very dark where all the images agree it should be dark, but it becomes wispy and blurry where the images disagree.\n",
        "\n",
        "Let's do the same thing for the 7s, but put all the steps together at once to save some time:"
      ]
    },
    {
      "cell_type": "code",
      "execution_count": 31,
      "metadata": {
        "id": "QlmL9IkTr-Ov",
        "outputId": "19871d09-d6cf-4ca9-bf39-04111fae5832"
      },
      "outputs": [
        {
          "data": {
            "image/png": "[encoded data removed]",
            "text/plain": [
              "<Figure size 100x100 with 1 Axes>"
            ]
          },
          "metadata": {},
          "output_type": "display_data"
        }
      ],
      "source": [
        "mean7 = stacked_sevens.mean(0)\n",
        "show_image(mean7);"
      ]
    },
    {
      "cell_type": "markdown",
      "metadata": {
        "id": "1NBz9_xkr-Ov"
      },
      "source": [
        "Let's now pick an arbitrary 3 and measure its *distance* from our \"ideal digits.\"\n",
        "\n",
        "> stop: Stop and Think!: How would you calculate how similar a particular image is to each of our ideal digits? Remember to step away from this book and jot down some ideas before you move on! Research shows that recall and understanding improves dramatically when you are engaged with the learning process by solving problems, experimenting, and trying new ideas yourself\n",
        "\n",
        "Here's a sample 3:"
      ]
    },
    {
      "cell_type": "code",
      "execution_count": 32,
      "metadata": {
        "id": "Acgt1zdQr-Ov",
        "outputId": "5bead4bd-8f35-4d28-f466-742a706274b9"
      },
      "outputs": [
        {
          "data": {
            "image/png": "[encoded data removed]",
            "text/plain": [
              "<Figure size 100x100 with 1 Axes>"
            ]
          },
          "metadata": {},
          "output_type": "display_data"
        }
      ],
      "source": [
        "a_3 = stacked_threes[1]\n",
        "show_image(a_3);"
      ]
    },
    {
      "cell_type": "markdown",
      "metadata": {
        "id": "zt4M4CPir-Ow"
      },
      "source": [
        "How can we determine its distance from our ideal 3? We can't just add up the differences between the pixels of this image and the ideal digit. Some differences will be positive while others will be negative, and these differences will cancel out, resulting in a situation where an image that is too dark in some places and too light in others might be shown as having zero total differences from the ideal. That would be misleading!\n",
        "\n",
        "To avoid this, there are two main ways data scientists measure distance in this context:\n",
        "\n",
        "- Take the mean of the *absolute value* of differences (absolute value is the function that replaces negative values with positive values). This is called the *mean absolute difference* or *L1 norm*\n",
        "- Take the mean of the *square* of differences (which makes everything positive) and then take the *square root* (which undoes the squaring). This is called the *root mean squared error* (RMSE) or *L2 norm*.\n",
        "\n",
        "> important: It's Okay to Have Forgotten Your Math: In this book we generally assume that you have completed high school math, and remember at least some of it... But everybody forgets some things! It all depends on what you happen to have had reason to practice in the meantime. Perhaps you have forgotten what a _square root_ is, or exactly how they work. No problem! Any time you come across a maths concept that is not explained fully in this book, don't just keep moving on; instead, stop and look it up. Make sure you understand the basic idea, how it works, and why we might be using it. One of the best places to refresh your understanding is Khan Academy. For instance, Khan Academy has a great [introduction to square roots](https://www.khanacademy.org/math/algebra/x2f8bb11595b61c86:rational-exponents-radicals/x2f8bb11595b61c86:radicals/v/understanding-square-roots)."
      ]
    },
    {
      "cell_type": "markdown",
      "metadata": {
        "id": "bw4HBVkgr-Ow"
      },
      "source": [
        "Let's try both of these now:"
      ]
    },
    {
      "cell_type": "code",
      "execution_count": 33,
      "metadata": {
        "id": "FfXpuQ-3r-Ow",
        "outputId": "87b80a7f-bf47-4474-ce5c-f1227c3489f7"
      },
      "outputs": [
        {
          "data": {
            "text/plain": [
              "(tensor(0.1114), tensor(0.2021))"
            ]
          },
          "execution_count": 33,
          "metadata": {},
          "output_type": "execute_result"
        }
      ],
      "source": [
        "dist_3_abs = (a_3 - mean3).abs().mean()\n",
        "dist_3_sqr = ((a_3 - mean3)**2).mean().sqrt()\n",
        "dist_3_abs,dist_3_sqr"
      ]
    },
    {
      "cell_type": "code",
      "execution_count": 34,
      "metadata": {
        "id": "is_2fjUar-Ow",
        "outputId": "cce8b77e-fe25-4938-a4fd-b9fd75c5aa8a"
      },
      "outputs": [
        {
          "data": {
            "text/plain": [
              "(tensor(0.1586), tensor(0.3021))"
            ]
          },
          "execution_count": 34,
          "metadata": {},
          "output_type": "execute_result"
        }
      ],
      "source": [
        "dist_7_abs = (a_3 - mean7).abs().mean()\n",
        "dist_7_sqr = ((a_3 - mean7)**2).mean().sqrt()\n",
        "dist_7_abs,dist_7_sqr"
      ]
    },
    {
      "cell_type": "markdown",
      "metadata": {
        "id": "j6hDoN4Yr-Ow"
      },
      "source": [
        "In both cases, the distance between our 3 and the \"ideal\" 3 is less than the distance to the ideal 7. So our simple model will give the right prediction in this case."
      ]
    },
    {
      "cell_type": "markdown",
      "metadata": {
        "id": "XdEnhfIor-Ox"
      },
      "source": [
        "PyTorch already provides both of these as *loss functions*. You'll find these inside `torch.nn.functional`, which the PyTorch team recommends importing as `F` (and is available by default under that name in fastai):"
      ]
    },
    {
      "cell_type": "code",
      "execution_count": 35,
      "metadata": {
        "id": "HXvD0KlAr-Ox",
        "outputId": "14fafdab-eb3e-4d2e-9bd1-81b181ea485b"
      },
      "outputs": [
        {
          "data": {
            "text/plain": [
              "(tensor(0.1586), tensor(0.3021))"
            ]
          },
          "execution_count": 35,
          "metadata": {},
          "output_type": "execute_result"
        }
      ],
      "source": [
        "F.l1_loss(a_3.float(),mean7), F.mse_loss(a_3,mean7).sqrt()"
      ]
    },
    {
      "cell_type": "markdown",
      "metadata": {
        "id": "Cgtbwk9Kr-Ox"
      },
      "source": [
        "Here `mse` stands for *mean squared error*, and `l1` refers to the standard mathematical jargon for *mean absolute value* (in math it's called the *L1 norm*)."
      ]
    },
    {
      "cell_type": "markdown",
      "metadata": {
        "id": "CQD2ie7nr-Ox"
      },
      "source": [
        "> S: Intuitively, the difference between L1 norm and mean squared error (MSE) is that the latter will penalize bigger mistakes more heavily than the former (and be more lenient with small mistakes)."
      ]
    },
    {
      "cell_type": "markdown",
      "metadata": {
        "id": "xcwEbmgAr-Ox"
      },
      "source": [
        "> J: When I first came across this \"L1\" thingie, I looked it up to see what on earth it meant. I found on Google that it is a _vector norm_ using _absolute value_, so looked up _vector norm_ and started reading: _Given a vector space V over a field F of the real or complex numbers, a norm on V is a nonnegative-valued any function p: V → \\[0,+∞) with the following properties: For all a ∈ F and all u, v ∈ V, p(u + v) ≤ p(u) + p(v)..._ Then I stopped reading. \"Ugh, I'll never understand math!\" I thought, for the thousandth time. Since then I've learned that every time these complex mathy bits of jargon come up in practice, it turns out I can replace them with a tiny bit of code! Like, the _L1 loss_ is just equal to `(a-b).abs().mean()`, where `a` and `b` are tensors. I guess mathy folks just think differently than me... I'll make sure in this book that every time some mathy jargon comes up, I'll give you the little bit of code it's equal to as well, and explain in common-sense terms what's going on."
      ]
    },
    {
      "cell_type": "markdown",
      "metadata": {
        "id": "kVxvleyxr-Ox"
      },
      "source": [
        "We just completed various mathematical operations on PyTorch tensors. If you've done some numeric programming in NumPy before, you may recognize these as being similar to NumPy arrays. Let's have a look at those two very important data structures."
      ]
    },
    {
      "cell_type": "markdown",
      "metadata": {
        "id": "NDIOXGz-r-Oy"
      },
      "source": [
        "### NumPy Arrays and PyTorch Tensors"
      ]
    },
    {
      "cell_type": "markdown",
      "metadata": {
        "id": "EkLOwv_pr-Oy"
      },
      "source": [
        "[NumPy](https://numpy.org/) is the most widely used library for scientific and numeric programming in Python. It provides very similar functionality and a very similar API to that provided by PyTorch; however, it does not support using the GPU or calculating gradients, which are both critical for deep learning. Therefore, in this book we will generally use PyTorch tensors instead of NumPy arrays, where possible.\n",
        "\n",
        "(Note that fastai adds some features to NumPy and PyTorch to make them a bit more similar to each other. If any code in this book doesn't work on your computer, it's possible that you forgot to include a line like this at the start of your notebook: `from fastai.vision.all import *`.)\n",
        "\n",
        "But what are arrays and tensors, and why should you care?"
      ]
    },
    {
      "cell_type": "markdown",
      "metadata": {
        "id": "MWNfP6d6r-Oy"
      },
      "source": [
        "Python is slow compared to many languages. Anything fast in Python, NumPy, or PyTorch is likely to be a wrapper for a compiled object written (and optimized) in another language—specifically C. In fact, **NumPy arrays and PyTorch tensors can finish computations many thousands of times faster than using pure Python.**\n",
        "\n",
        "A NumPy array is a multidimensional table of data, with all items of the same type. Since that can be any type at all, they can even be arrays of arrays, with the innermost arrays potentially being different sizes—this is called a \"jagged array.\" By \"multidimensional table\" we mean, for instance, a list (dimension of one), a table or matrix (dimension of two), a \"table of tables\" or \"cube\" (dimension of three), and so forth. If the items are all of some simple type such as integer or float, then NumPy will store them as a compact C data structure in memory. This is where NumPy shines. NumPy has a wide variety of operators and methods that can run computations on these compact structures at the same speed as optimized C, because they are written in optimized C.\n",
        "\n",
        "A PyTorch tensor is nearly the same thing as a NumPy array, but with an additional restriction that unlocks some additional capabilities. It's the same in that it, too, is a multidimensional table of data, with all items of the same type. However, the restriction is that a tensor cannot use just any old type—it has to use a single basic numeric type for all components. For example, a PyTorch tensor cannot be jagged. It is always a regularly shaped multidimensional rectangular structure.\n",
        "\n",
        "The vast majority of methods and operators supported by NumPy on these structures are also supported by PyTorch, but PyTorch tensors have additional capabilities. One major capability is that these structures can live on the GPU, in which case their computation will be optimized for the GPU and can run much faster (given lots of values to work on). In addition, PyTorch can automatically calculate derivatives of these operations, including combinations of operations. As you'll see, it would be impossible to do deep learning in practice without this capability.\n",
        "\n",
        "> S: If you don't know what C is, don't worry as you won't need it at all. In a nutshell, it's a low-level  (low-level means more similar to the language that computers use internally) language that is very fast compared to Python. To take advantage of its speed while programming in Python, try to avoid as much as possible writing loops, and replace them by commands that work directly on arrays or tensors.\n",
        "\n",
        "Perhaps the most important new coding skill for a Python programmer to learn is how to effectively use the array/tensor APIs. We will be showing lots more tricks later in this book, but here's a summary of the key things you need to know for now."
      ]
    },
    {
      "cell_type": "markdown",
      "metadata": {
        "id": "eG5_ZDqar-Oy"
      },
      "source": [
        "To create an array or tensor, pass a list (or list of lists, or list of lists of lists, etc.) to `array()` or `tensor()`:"
      ]
    },
    {
      "cell_type": "code",
      "execution_count": 36,
      "metadata": {
        "id": "Tx-7NMGGr-Oy"
      },
      "outputs": [],
      "source": [
        "data = [[1,2,3],[4,5,6]]\n",
        "arr = array (data)\n",
        "tns = tensor(data)"
      ]
    },
    {
      "cell_type": "code",
      "execution_count": 37,
      "metadata": {
        "id": "llbfwn0Rr-Oy",
        "outputId": "5c10dde8-5dcd-40c0-ae15-eb477982bf5f"
      },
      "outputs": [
        {
          "data": {
            "text/plain": [
              "array([[1, 2, 3],\n",
              "       [4, 5, 6]])"
            ]
          },
          "execution_count": 37,
          "metadata": {},
          "output_type": "execute_result"
        }
      ],
      "source": [
        "arr  # numpy"
      ]
    },
    {
      "cell_type": "code",
      "execution_count": 38,
      "metadata": {
        "id": "QjYKE1sCr-Oy",
        "outputId": "556fbc0b-95f7-4824-a5a5-fbbe3454a875"
      },
      "outputs": [
        {
          "data": {
            "text/plain": [
              "tensor([[1, 2, 3],\n",
              "        [4, 5, 6]])"
            ]
          },
          "execution_count": 38,
          "metadata": {},
          "output_type": "execute_result"
        }
      ],
      "source": [
        "tns  # pytorch"
      ]
    },
    {
      "cell_type": "markdown",
      "metadata": {
        "id": "Urm_2znur-Oz"
      },
      "source": [
        "All the operations that follow are shown on tensors, but the syntax and results for NumPy arrays is identical.\n",
        "\n",
        "You can select a row (note that, like lists in Python, tensors are 0-indexed so 1 refers to the second row/column):"
      ]
    },
    {
      "cell_type": "code",
      "execution_count": 39,
      "metadata": {
        "id": "bmuOxXmPr-Oz",
        "outputId": "4f976c6e-d758-493b-a4da-9ed7cfdc2084"
      },
      "outputs": [
        {
          "data": {
            "text/plain": [
              "tensor([4, 5, 6])"
            ]
          },
          "execution_count": 39,
          "metadata": {},
          "output_type": "execute_result"
        }
      ],
      "source": [
        "tns[1]"
      ]
    },
    {
      "cell_type": "markdown",
      "metadata": {
        "id": "75Ryffkbr-Oz"
      },
      "source": [
        "or a column, by using `:` to indicate *all of the first axis* (we sometimes refer to the dimensions of tensors/arrays as *axes*):"
      ]
    },
    {
      "cell_type": "code",
      "execution_count": 40,
      "metadata": {
        "id": "AIXd7gxfr-Oz",
        "outputId": "815fec21-63d5-4bcd-a60f-99e465cf175f"
      },
      "outputs": [
        {
          "data": {
            "text/plain": [
              "tensor([2, 5])"
            ]
          },
          "execution_count": 40,
          "metadata": {},
          "output_type": "execute_result"
        }
      ],
      "source": [
        "tns[:,1]"
      ]
    },
    {
      "cell_type": "markdown",
      "metadata": {
        "id": "EP6BZLb_r-Oz"
      },
      "source": [
        "You can combine these with Python slice syntax (`[start:end]` with `end` being excluded) to select part of a row or column:"
      ]
    },
    {
      "cell_type": "code",
      "execution_count": 41,
      "metadata": {
        "id": "0SUrlyUKr-Oz",
        "outputId": "02b5709a-5b57-4136-df0e-71e47f922475"
      },
      "outputs": [
        {
          "data": {
            "text/plain": [
              "tensor([5, 6])"
            ]
          },
          "execution_count": 41,
          "metadata": {},
          "output_type": "execute_result"
        }
      ],
      "source": [
        "tns[1,1:3]"
      ]
    },
    {
      "cell_type": "markdown",
      "metadata": {
        "id": "MPqYY0VJr-Oz"
      },
      "source": [
        "And you can use the standard operators such as `+`, `-`, `*`, `/`:"
      ]
    },
    {
      "cell_type": "code",
      "execution_count": 42,
      "metadata": {
        "id": "6NqLT-1Qr-Oz",
        "outputId": "4b1c63fd-d18e-4a67-a04b-5f37284b13b9"
      },
      "outputs": [
        {
          "data": {
            "text/plain": [
              "tensor([[2, 3, 4],\n",
              "        [5, 6, 7]])"
            ]
          },
          "execution_count": 42,
          "metadata": {},
          "output_type": "execute_result"
        }
      ],
      "source": [
        "tns+1"
      ]
    },
    {
      "cell_type": "markdown",
      "metadata": {
        "id": "t2Ze2Lijr-Oz"
      },
      "source": [
        "Tensors have a type:"
      ]
    },
    {
      "cell_type": "code",
      "execution_count": 43,
      "metadata": {
        "id": "vpLHckjzr-O0",
        "outputId": "46fe9dc4-0996-4171-c2ab-5d89e91e0018"
      },
      "outputs": [
        {
          "data": {
            "text/plain": [
              "'torch.LongTensor'"
            ]
          },
          "execution_count": 43,
          "metadata": {},
          "output_type": "execute_result"
        }
      ],
      "source": [
        "tns.type()"
      ]
    },
    {
      "cell_type": "markdown",
      "metadata": {
        "id": "ubookKx4r-O0"
      },
      "source": [
        "And will automatically change type as needed, for example from `int` to `float`:"
      ]
    },
    {
      "cell_type": "code",
      "execution_count": 44,
      "metadata": {
        "id": "l6ycVHKQr-O0",
        "outputId": "e0418581-8f07-42cb-da3e-9778fc222a15"
      },
      "outputs": [
        {
          "data": {
            "text/plain": [
              "tensor([[1.5000, 3.0000, 4.5000],\n",
              "        [6.0000, 7.5000, 9.0000]])"
            ]
          },
          "execution_count": 44,
          "metadata": {},
          "output_type": "execute_result"
        }
      ],
      "source": [
        "tns*1.5"
      ]
    },
    {
      "cell_type": "markdown",
      "metadata": {
        "id": "Y_W45Xy6r-O1"
      },
      "source": [
        "So, is our baseline model any good? To quantify this, we must define a metric."
      ]
    },
    {
      "cell_type": "markdown",
      "metadata": {
        "id": "MFe7Cib_r-O1"
      },
      "source": [
        "## Computing Metrics Using Broadcasting"
      ]
    },
    {
      "cell_type": "markdown",
      "metadata": {
        "id": "hcvUuOjEr-O1"
      },
      "source": [
        "Recall that a metric is a number that is calculated based on the predictions of our model, and the correct labels in our dataset, in order to tell us how good our model is. For instance, we could use either of the functions we saw in the previous section, mean squared error, or mean absolute error, and take the average of them over the whole dataset. However, neither of these are numbers that are very understandable to most people; in practice, we normally use *accuracy* as the metric for classification models.\n",
        "\n",
        "As we've discussed, we want to calculate our metric over a *validation set*. This is so that we don't inadvertently overfit—that is, train a model to work well only on our training data. This is not really a risk with the pixel similarity model we're using here as a first try, since it has no trained components, but we'll use a validation set anyway to follow normal practices and to be ready for our second try later.\n",
        "\n",
        "To get a validation set we need to remove some of the data from training entirely, so it is not seen by the model at all. As it turns out, the creators of the MNIST dataset have already done this for us. Do you remember how there was a whole separate directory called *valid*? That's what this directory is for!\n",
        "\n",
        "So to start with, let's create tensors for our 3s and 7s from that directory. These are the tensors we will use to calculate a metric measuring the quality of our first-try model, which measures distance from an ideal image:"
      ]
    },
    {
      "cell_type": "code",
      "execution_count": 45,
      "metadata": {
        "id": "7RoAQR2Ar-O1",
        "outputId": "cc78df22-de84-451c-9390-a46a0468e061"
      },
      "outputs": [
        {
          "data": {
            "text/plain": [
              "(torch.Size([1010, 28, 28]), torch.Size([1028, 28, 28]))"
            ]
          },
          "execution_count": 45,
          "metadata": {},
          "output_type": "execute_result"
        }
      ],
      "source": [
        "valid_3_tens = torch.stack([tensor(Image.open(o))\n",
        "                            for o in (path/'valid'/'3').ls()])\n",
        "valid_3_tens = valid_3_tens.float()/255\n",
        "valid_7_tens = torch.stack([tensor(Image.open(o))\n",
        "                            for o in (path/'valid'/'7').ls()])\n",
        "valid_7_tens = valid_7_tens.float()/255\n",
        "valid_3_tens.shape,valid_7_tens.shape"
      ]
    },
    {
      "cell_type": "markdown",
      "metadata": {
        "id": "LjitmEeDr-O1"
      },
      "source": [
        "It's good to get in the habit of checking shapes as you go. Here we see two tensors, one representing the 3s validation set of 1,010 images of size 28×28, and one representing the 7s validation set of 1,028 images of size 28×28.\n",
        "\n",
        "We ultimately want to write a function, `is_3`, that will decide if an arbitrary image is a 3 or a 7. It will do this by deciding which of our two \"ideal digits\" this arbitrary image is closer to. For that we need to define a notion of distance—that is, a function that calculates the distance between two images.\n",
        "\n",
        "We can write a simple function that calculates the mean absolute error using an expression very similar to the one we wrote in the last section:"
      ]
    },
    {
      "cell_type": "code",
      "execution_count": 46,
      "metadata": {
        "id": "kJSy8Pb4r-O1",
        "outputId": "99b83a1f-8ecb-4cab-997b-0775c7306deb"
      },
      "outputs": [
        {
          "data": {
            "text/plain": [
              "tensor(0.1114)"
            ]
          },
          "execution_count": 46,
          "metadata": {},
          "output_type": "execute_result"
        }
      ],
      "source": [
        "def mnist_distance(a,b): return (a-b).abs().mean((-1,-2))\n",
        "mnist_distance(a_3, mean3)"
      ]
    },
    {
      "cell_type": "markdown",
      "metadata": {
        "id": "x7CFLnNkr-O1"
      },
      "source": [
        "This is the same value we previously calculated for the distance between these two images, the ideal 3 `mean3` and the arbitrary sample 3 `a_3`, which are both single-image tensors with a shape of `[28,28]`.\n",
        "\n",
        "But in order to calculate a metric for overall accuracy, we will need to calculate the distance to the ideal 3 for _every_ image in the validation set. How do we do that calculation? We could write a loop over all of the single-image tensors that are stacked within our validation set tensor, `valid_3_tens`, which has a shape of `[1010,28,28]` representing 1,010 images. But there is a better way.\n",
        "\n",
        "Something very interesting happens when we take this exact same distance function, designed for comparing two single images, but pass in as an argument `valid_3_tens`, the tensor that represents the 3s validation set:"
      ]
    },
    {
      "cell_type": "code",
      "execution_count": 48,
      "metadata": {
        "id": "oPxs9pdur-O1",
        "outputId": "99ff6ed8-f23a-41b2-e8bd-823a7637ab37"
      },
      "outputs": [
        {
          "data": {
            "text/plain": [
              "(tensor([0.1280, 0.1623, 0.1242,  ..., 0.1508, 0.1263, 0.1260]),\n",
              " torch.Size([1010]))"
            ]
          },
          "execution_count": 48,
          "metadata": {},
          "output_type": "execute_result"
        }
      ],
      "source": [
        "valid_3_dist = mnist_distance(valid_3_tens, mean3)\n",
        "valid_3_dist, valid_3_dist.shape"
      ]
    },
    {
      "cell_type": "markdown",
      "metadata": {
        "id": "_X9YdjA9r-O2"
      },
      "source": [
        "Instead of complaining about shapes not matching, it returned the distance for every single image as a vector (i.e., a rank-1 tensor) of length 1,010 (the number of 3s in our validation set). How did that happen?\n",
        "\n",
        "Take another look at our function `mnist_distance`, and you'll see we have there the subtraction `(a-b)`. The magic trick is that PyTorch, when it tries to perform a simple subtraction operation between two tensors of different ranks, will use *broadcasting*. That is, it will automatically expand the tensor with the smaller rank to have the same size as the one with the larger rank. Broadcasting is an important capability that makes tensor code much easier to write.\n",
        "\n",
        "After broadcasting so the two argument tensors have the same rank, PyTorch applies its usual logic for two tensors of the same rank: it performs the operation on each corresponding element of the two tensors, and returns the tensor result. For instance:"
      ]
    },
    {
      "cell_type": "code",
      "execution_count": 49,
      "metadata": {
        "id": "lo_MKHU5r-O2",
        "outputId": "0ee918fe-8236-4146-9039-41882d53ec61"
      },
      "outputs": [
        {
          "data": {
            "text/plain": [
              "tensor([2, 3, 4])"
            ]
          },
          "execution_count": 49,
          "metadata": {},
          "output_type": "execute_result"
        }
      ],
      "source": [
        "tensor([1,2,3]) + tensor(1)"
      ]
    },
    {
      "cell_type": "markdown",
      "metadata": {
        "id": "aOeCJoYUr-O2"
      },
      "source": [
        "So in this case, PyTorch treats `mean3`, a rank-2 tensor representing a single image, as if it were 1,010 copies of the same image, and then subtracts each of those copies from each 3 in our validation set. What shape would you expect this tensor to have? Try to figure it out yourself before you look at the answer below:"
      ]
    },
    {
      "cell_type": "code",
      "execution_count": null,
      "metadata": {
        "id": "467O0iu9r-O2",
        "outputId": "9f2e2f12-7e6b-4fa1-ae3f-282ab550dfa0"
      },
      "outputs": [
        {
          "data": {
            "text/plain": [
              "torch.Size([1010, 28, 28])"
            ]
          },
          "execution_count": null,
          "metadata": {},
          "output_type": "execute_result"
        }
      ],
      "source": [
        "(valid_3_tens-mean3).shape"
      ]
    },
    {
      "cell_type": "markdown",
      "metadata": {
        "id": "9V9W3KSHr-O2"
      },
      "source": [
        "We are calculating the difference between our \"ideal 3\" and each of the 1,010 3s in the validation set, for each of 28×28 images, resulting in the shape `[1010,28,28]`.\n",
        "\n",
        "There are a couple of important points about how broadcasting is implemented, which make it valuable not just for expressivity but also for performance:\n",
        "\n",
        "- PyTorch doesn't *actually* copy `mean3` 1,010 times. It *pretends* it were a tensor of that shape, but doesn't actually allocate any additional memory\n",
        "- It does the whole calculation in C (or, if you're using a GPU, in CUDA, the equivalent of C on the GPU), tens of thousands of times faster than pure Python (up to millions of times faster on a GPU!).\n",
        "\n",
        "This is true of all broadcasting and elementwise operations and functions done in PyTorch. *It's the most important technique for you to know to create efficient PyTorch code.*\n",
        "\n",
        "Next in `mnist_distance` we see `abs`. You might be able to guess now what this does when applied to a tensor. It applies the method to each individual element in the tensor, and returns a tensor of the results (that is, it applies the method \"elementwise\"). So in this case, we'll get back 1,010 matrices of absolute values.\n",
        "\n",
        "Finally, our function calls `mean((-1,-2))`. The tuple `(-1,-2)` represents a range of axes. In Python, `-1` refers to the last element, and `-2` refers to the second-to-last. So in this case, this tells PyTorch that we want to take the mean ranging over the values indexed by the last two axes of the tensor. The last two axes are the horizontal and vertical dimensions of an image. After taking the mean over the last two axes, we are left with just the first tensor axis, which indexes over our images, which is why our final size was `(1010)`. In other words, for every image, we averaged the intensity of all the pixels in that image.\n",
        "\n",
        "We'll be learning lots more about broadcasting throughout this book, especially in <<chapter_foundations>>, and will be practicing it regularly too.\n",
        "\n",
        "We can use `mnist_distance` to figure out whether an image is a 3 or not by using the following logic: if the distance between the digit in question and the ideal 3 is less than the distance to the ideal 7, then it's a 3. This function will automatically do broadcasting and be applied elementwise, just like all PyTorch functions and operators:"
      ]
    },
    {
      "cell_type": "code",
      "execution_count": 50,
      "metadata": {
        "id": "vHeic9QOr-O2"
      },
      "outputs": [],
      "source": [
        "def is_3(x): return mnist_distance(x,mean3) < mnist_distance(x,mean7)"
      ]
    },
    {
      "cell_type": "markdown",
      "metadata": {
        "id": "SCvf_HwHr-O2"
      },
      "source": [
        "Let's test it on our example case:"
      ]
    },
    {
      "cell_type": "code",
      "execution_count": 51,
      "metadata": {
        "id": "pt2di8qhr-O2",
        "outputId": "0e4b6f5c-02d2-40c4-e3ad-4173927882c4"
      },
      "outputs": [
        {
          "data": {
            "text/plain": [
              "(tensor(True), tensor(1.))"
            ]
          },
          "execution_count": 51,
          "metadata": {},
          "output_type": "execute_result"
        }
      ],
      "source": [
        "is_3(a_3), is_3(a_3).float()"
      ]
    },
    {
      "cell_type": "markdown",
      "metadata": {
        "id": "7UCFbxLPr-O2"
      },
      "source": [
        "Note that when we convert the Boolean response to a float, we get `1.0` for `True` and `0.0` for `False`. Thanks to broadcasting, we can also test it on the full validation set of 3s:"
      ]
    },
    {
      "cell_type": "code",
      "execution_count": 52,
      "metadata": {
        "id": "JNOTa3qFr-O3",
        "outputId": "92e4ab61-a290-47f6-f731-898a63c8eaa9"
      },
      "outputs": [
        {
          "data": {
            "text/plain": [
              "tensor([ True,  True,  True,  ..., False,  True,  True])"
            ]
          },
          "execution_count": 52,
          "metadata": {},
          "output_type": "execute_result"
        }
      ],
      "source": [
        "is_3(valid_3_tens)"
      ]
    },
    {
      "cell_type": "markdown",
      "metadata": {
        "id": "oikwjnjwr-O3"
      },
      "source": [
        "Now we can calculate the accuracy for each of the 3s and 7s by taking the average of that function for all 3s and its inverse for all 7s:"
      ]
    },
    {
      "cell_type": "code",
      "execution_count": 53,
      "metadata": {
        "id": "uEHG1pzHr-O3",
        "outputId": "fd5ef45b-a42e-4d07-992e-d4515138559e"
      },
      "outputs": [
        {
          "data": {
            "text/plain": [
              "(tensor(0.9168), tensor(0.9854), tensor(0.9511))"
            ]
          },
          "execution_count": 53,
          "metadata": {},
          "output_type": "execute_result"
        }
      ],
      "source": [
        "accuracy_3s =      is_3(valid_3_tens).float() .mean()\n",
        "accuracy_7s = (1 - is_3(valid_7_tens).float()).mean()\n",
        "\n",
        "accuracy_3s,accuracy_7s,(accuracy_3s+accuracy_7s)/2"
      ]
    },
    {
      "cell_type": "markdown",
      "metadata": {
        "id": "nxvmESK5r-O3"
      },
      "source": [
        "This looks like a pretty good start! We're getting over 90% accuracy on both 3s and 7s, and we've seen how to define a metric conveniently using broadcasting.\n",
        "\n",
        "But let's be honest: 3s and 7s are very different-looking digits. And we're only classifying 2 out of the 10 possible digits so far. So we're going to need to do better!\n",
        "\n",
        "To do better, perhaps it is time to try a system that does some real learning—that is, that can automatically modify itself to improve its performance. In other words, it's time to talk about the training process, and SGD."
      ]
    },
    {
      "cell_type": "markdown",
      "metadata": {
        "id": "N_vm_oQbr-O3"
      },
      "source": [
        "## Stochastic Gradient Descent (SGD)"
      ]
    },
    {
      "cell_type": "markdown",
      "metadata": {
        "id": "NJJnvlJSr-O3"
      },
      "source": [
        "Do you remember the way that Arthur Samuel described machine learning, which we quoted in <<chapter_intro>>?\n",
        "\n",
        "> : Suppose we arrange for some automatic means of testing the effectiveness of any current weight assignment in terms of actual performance and provide a mechanism for altering the weight assignment so as to maximize the performance. We need not go into the details of such a procedure to see that it could be made entirely automatic and to see that a machine so programmed would \"learn\" from its experience.\n",
        "\n",
        "As we discussed, this is the key to allowing us to have a model that can get better and better—that can learn. But our pixel similarity approach does not really do this. We do not have any kind of weight assignment, or any way of improving based on testing the effectiveness of a weight assignment. In other words, we can't really improve our pixel similarity approach by modifying a set of parameters. In order to take advantage of the power of deep learning, we will first have to represent our task in the way that Arthur Samuel described it.\n",
        "\n",
        "Instead of trying to find the similarity between an image and an \"ideal image,\" we could instead look at each individual pixel and come up with a set of weights for each one, such that the highest weights are associated with those pixels most likely to be black for a particular category. For instance, pixels toward the bottom right are not very likely to be activated for a 7, so they should have a low weight for a 7, but they are likely to be activated for an 8, so they should have a high weight for an 8. This can be represented as a function and set of weight values for each possible category—for instance the probability of being the number 8:\n",
        "\n",
        "```\n",
        "def pr_eight(x,w): return (x*w).sum()\n",
        "```"
      ]
    },
    {
      "cell_type": "markdown",
      "metadata": {
        "id": "drsZi-Hlr-O3"
      },
      "source": [
        "Here we are assuming that `x` is the image, represented as a vector—in other words, with all of the rows stacked up end to end into a single long line. And we are assuming that the weights are a vector `w`. If we have this function, then we just need some way to update the weights to make them a little bit better. With such an approach, we can repeat that step a number of times, making the weights better and better, until they are as good as we can make them.\n",
        "\n",
        "We want to find the specific values for the vector `w` that causes the result of our function to be high for those images that are actually 8s, and low for those images that are not. Searching for the best vector `w` is a way to search for the best function for recognising 8s. (Because we are not yet using a deep neural network, we are limited by what our function can actually do—we are going to fix that constraint later in this chapter.)\n",
        "\n",
        "To be more specific, here are the steps that we are going to require, to turn this function into a machine learning classifier:\n",
        "\n",
        "1. *Initialize* the weights.\n",
        "1. For each image, use these weights to *predict* whether it appears to be a 3 or a 7.\n",
        "1. Based on these predictions, calculate how good the model is (its *loss*).\n",
        "1. Calculate the *gradient*, which measures for each weight, how changing that weight would change the loss\n",
        "1. *Step* (that is, change) all the weights based on that calculation.\n",
        "1. Go back to the step 2, and *repeat* the process.\n",
        "1. Iterate until you decide to *stop* the training process (for instance, because the model is good enough or you don't want to wait any longer)."
      ]
    },
    {
      "cell_type": "markdown",
      "metadata": {
        "id": "jCBIm90gr-O3"
      },
      "source": [
        "These seven steps, illustrated in <<gradient_descent>>, are the key to the training of all deep learning models. That deep learning turns out to rely entirely on these steps is extremely surprising and counterintuitive. It's amazing that this process can solve such complex problems. But, as you'll see, it really does!"
      ]
    },
    {
      "cell_type": "code",
      "execution_count": null,
      "metadata": {
        "hide_input": true,
        "id": "wueVIsIFr-O3",
        "outputId": "71b808ee-ba01-4524-80d9-70895ac41bb4"
      },
      "outputs": [
        {
          "data": {
            "image/svg+xml": [
              "<?xml version=\"1.0\" encoding=\"UTF-8\" standalone=\"no\"?>\n",
              "<!DOCTYPE svg PUBLIC \"-//W3C//DTD SVG 1.1//EN\"\n",
              " \"http://www.w3.org/Graphics/SVG/1.1/DTD/svg11.dtd\">\n",
              "<!-- Generated by graphviz version 2.40.1 (20161225.0304)\n",
              " -->\n",
              "<!-- Title: G Pages: 1 -->\n",
              "<svg width=\"591pt\" height=\"78pt\"\n",
              " viewBox=\"0.00 0.00 591.49 78.00\" xmlns=\"http://www.w3.org/2000/svg\" xmlns:xlink=\"http://www.w3.org/1999/xlink\">\n",
              "<g id=\"graph0\" class=\"graph\" transform=\"scale(1 1) rotate(0) translate(4 74)\">\n",
              "<title>G</title>\n",
              "<polygon fill=\"#ffffff\" stroke=\"transparent\" points=\"-4,4 -4,-74 587.4867,-74 587.4867,4 -4,4\"/>\n",
              "<!-- init -->\n",
              "<g id=\"node1\" class=\"node\">\n",
              "<title>init</title>\n",
              "<ellipse fill=\"none\" stroke=\"#000000\" cx=\"27\" cy=\"-18\" rx=\"27\" ry=\"18\"/>\n",
              "<text text-anchor=\"middle\" x=\"27\" y=\"-14.3\" font-family=\"Times,serif\" font-size=\"14.00\" fill=\"#000000\">init</text>\n",
              "</g>\n",
              "<!-- predict -->\n",
              "<g id=\"node2\" class=\"node\">\n",
              "<title>predict</title>\n",
              "<ellipse fill=\"none\" stroke=\"#000000\" cx=\"126.0969\" cy=\"-18\" rx=\"35.194\" ry=\"18\"/>\n",
              "<text text-anchor=\"middle\" x=\"126.0969\" y=\"-14.3\" font-family=\"Times,serif\" font-size=\"14.00\" fill=\"#000000\">predict</text>\n",
              "</g>\n",
              "<!-- init&#45;&gt;predict -->\n",
              "<g id=\"edge1\" class=\"edge\">\n",
              "<title>init&#45;&gt;predict</title>\n",
              "<path fill=\"none\" stroke=\"#000000\" d=\"M54.0787,-18C62.3227,-18 71.6196,-18 80.7269,-18\"/>\n",
              "<polygon fill=\"#000000\" stroke=\"#000000\" points=\"80.8626,-21.5001 90.8626,-18 80.8625,-14.5001 80.8626,-21.5001\"/>\n",
              "</g>\n",
              "<!-- loss -->\n",
              "<g id=\"node3\" class=\"node\">\n",
              "<title>loss</title>\n",
              "<ellipse fill=\"none\" stroke=\"#000000\" cx=\"225.1938\" cy=\"-52\" rx=\"27\" ry=\"18\"/>\n",
              "<text text-anchor=\"middle\" x=\"225.1938\" y=\"-48.3\" font-family=\"Times,serif\" font-size=\"14.00\" fill=\"#000000\">loss</text>\n",
              "</g>\n",
              "<!-- predict&#45;&gt;loss -->\n",
              "<g id=\"edge2\" class=\"edge\">\n",
              "<title>predict&#45;&gt;loss</title>\n",
              "<path fill=\"none\" stroke=\"#000000\" d=\"M155.2932,-28.0172C166.6224,-31.9043 179.6698,-36.3808 191.4018,-40.406\"/>\n",
              "<polygon fill=\"#000000\" stroke=\"#000000\" points=\"190.2859,-43.7234 200.8806,-43.6582 192.5577,-37.1023 190.2859,-43.7234\"/>\n",
              "</g>\n",
              "<!-- gradient -->\n",
              "<g id=\"node4\" class=\"node\">\n",
              "<title>gradient</title>\n",
              "<ellipse fill=\"none\" stroke=\"#000000\" cx=\"361.8403\" cy=\"-52\" rx=\"39.7935\" ry=\"18\"/>\n",
              "<text text-anchor=\"middle\" x=\"361.8403\" y=\"-48.3\" font-family=\"Times,serif\" font-size=\"14.00\" fill=\"#000000\">gradient</text>\n",
              "</g>\n",
              "<!-- loss&#45;&gt;gradient -->\n",
              "<g id=\"edge3\" class=\"edge\">\n",
              "<title>loss&#45;&gt;gradient</title>\n",
              "<path fill=\"none\" stroke=\"#000000\" d=\"M252.5178,-52C269.4967,-52 291.836,-52 311.8929,-52\"/>\n",
              "<polygon fill=\"#000000\" stroke=\"#000000\" points=\"312.1329,-55.5001 322.1329,-52 312.1328,-48.5001 312.1329,-55.5001\"/>\n",
              "</g>\n",
              "<!-- step -->\n",
              "<g id=\"node5\" class=\"node\">\n",
              "<title>step</title>\n",
              "<ellipse fill=\"none\" stroke=\"#000000\" cx=\"465.4867\" cy=\"-18\" rx=\"27\" ry=\"18\"/>\n",
              "<text text-anchor=\"middle\" x=\"465.4867\" y=\"-14.3\" font-family=\"Times,serif\" font-size=\"14.00\" fill=\"#000000\">step</text>\n",
              "</g>\n",
              "<!-- gradient&#45;&gt;step -->\n",
              "<g id=\"edge4\" class=\"edge\">\n",
              "<title>gradient&#45;&gt;step</title>\n",
              "<path fill=\"none\" stroke=\"#000000\" d=\"M394.0665,-41.4286C405.9515,-37.5298 419.4492,-33.1021 431.4862,-29.1535\"/>\n",
              "<polygon fill=\"#000000\" stroke=\"#000000\" points=\"432.7754,-32.4142 441.1862,-25.9715 430.5935,-25.7629 432.7754,-32.4142\"/>\n",
              "</g>\n",
              "<!-- step&#45;&gt;predict -->\n",
              "<g id=\"edge6\" class=\"edge\">\n",
              "<title>step&#45;&gt;predict</title>\n",
              "<path fill=\"none\" stroke=\"#000000\" d=\"M438.4132,-18C380.3272,-18 243.2155,-18 171.5401,-18\"/>\n",
              "<polygon fill=\"#000000\" stroke=\"#000000\" points=\"171.4571,-14.5001 161.4571,-18 171.4571,-21.5001 171.4571,-14.5001\"/>\n",
              "<text text-anchor=\"middle\" x=\"287.1938\" y=\"-21.8\" font-family=\"Times,serif\" font-size=\"14.00\" fill=\"#000000\">repeat</text>\n",
              "</g>\n",
              "<!-- stop -->\n",
              "<g id=\"node6\" class=\"node\">\n",
              "<title>stop</title>\n",
              "<ellipse fill=\"none\" stroke=\"#000000\" cx=\"556.4867\" cy=\"-18\" rx=\"27\" ry=\"18\"/>\n",
              "<text text-anchor=\"middle\" x=\"556.4867\" y=\"-14.3\" font-family=\"Times,serif\" font-size=\"14.00\" fill=\"#000000\">stop</text>\n",
              "</g>\n",
              "<!-- step&#45;&gt;stop -->\n",
              "<g id=\"edge5\" class=\"edge\">\n",
              "<title>step&#45;&gt;stop</title>\n",
              "<path fill=\"none\" stroke=\"#000000\" d=\"M492.7897,-18C501.068,-18 510.3085,-18 519.1272,-18\"/>\n",
              "<polygon fill=\"#000000\" stroke=\"#000000\" points=\"519.203,-21.5001 529.203,-18 519.203,-14.5001 519.203,-21.5001\"/>\n",
              "</g>\n",
              "</g>\n",
              "</svg>\n"
            ],
            "text/plain": [
              "<graphviz.files.Source at 0x7f10d475e550>"
            ]
          },
          "execution_count": null,
          "metadata": {},
          "output_type": "execute_result"
        }
      ],
      "source": [
        "#id gradient_descent\n",
        "#caption The gradient descent process\n",
        "#alt Graph showing the steps for Gradient Descent\n",
        "gv('''\n",
        "init->predict->loss->gradient->step->stop\n",
        "step->predict[label=repeat]\n",
        "''')"
      ]
    },
    {
      "cell_type": "markdown",
      "metadata": {
        "id": "Sfca_Ju3r-O4"
      },
      "source": [
        "There are many different ways to do each of these seven steps, and we will be learning about them throughout the rest of this book. These are the details that make a big difference for deep learning practitioners, but it turns out that the general approach to each one generally follows some basic principles. Here are a few guidelines:\n",
        "\n",
        "- Initialize:: We initialize the parameters to random values. This may sound surprising. There are certainly other choices we could make, such as initializing them to the percentage of times that pixel is activated for that category—but since we already know that we have a routine to improve these weights, it turns out that just starting with random weights works perfectly well.\n",
        "- Loss:: This is what Samuel referred to when he spoke of *testing the effectiveness of any current weight assignment in terms of actual performance*. We need some function that will return a number that is small if the performance of the model is good (the standard approach is to treat a small loss as good, and a large loss as bad, although this is just a convention).\n",
        "- Step:: A simple way to figure out whether a weight should be increased a bit, or decreased a bit, would be just to try it: increase the weight by a small amount, and see if the loss goes up or down. Once you find the correct direction, you could then change that amount by a bit more, and a bit less, until you find an amount that works well. However, this is slow! As we will see, the magic of calculus allows us to directly figure out in which direction, and by roughly how much, to change each weight, without having to try all these small changes. The way to do this is by calculating *gradients*. This is just a performance optimization, we would get exactly the same results by using the slower manual process as well.\n",
        "- Stop:: Once we've decided how many epochs to train the model for (a few suggestions for this were given in the earlier list), we apply that decision. This is where that decision is applied. For our digit classifier, we would keep training until the accuracy of the model started getting worse, or we ran out of time."
      ]
    },
    {
      "cell_type": "markdown",
      "metadata": {
        "id": "RPKqOEkur-O4"
      },
      "source": [
        "Before applying these steps to our image classification problem, let's illustrate what they look like in a simpler case. First we will define a very simple function, the quadratic—let's pretend that this is our loss function, and `x` is a weight parameter of the function:"
      ]
    },
    {
      "cell_type": "code",
      "execution_count": 54,
      "metadata": {
        "id": "u6BXApkrr-O4"
      },
      "outputs": [],
      "source": [
        "def f(x): return x**2"
      ]
    },
    {
      "cell_type": "markdown",
      "metadata": {
        "id": "EDkXb7WIr-O4"
      },
      "source": [
        "Here is a graph of that function:"
      ]
    },
    {
      "cell_type": "code",
      "execution_count": 55,
      "metadata": {
        "id": "QOj82nKvr-O4",
        "outputId": "b5dab951-e5f0-40f8-b9ac-24946dcfd174"
      },
      "outputs": [
        {
          "data": {
            "image/png": "[encoded data removed]",
            "text/plain": [
              "<Figure size 600x400 with 1 Axes>"
            ]
          },
          "metadata": {},
          "output_type": "display_data"
        }
      ],
      "source": [
        "plot_function(f, 'x', 'x**2')"
      ]
    },
    {
      "cell_type": "markdown",
      "metadata": {
        "id": "ElZf6bD4r-O4"
      },
      "source": [
        "The sequence of steps we described earlier starts by picking some random value for a parameter, and calculating the value of the loss:"
      ]
    },
    {
      "cell_type": "code",
      "execution_count": 56,
      "metadata": {
        "id": "Nr1MDyEWr-O4",
        "outputId": "1535d37d-18f4-4a0c-ede8-92f44871b944"
      },
      "outputs": [
        {
          "data": {
            "image/png": "[encoded data removed]",
            "text/plain": [
              "<Figure size 600x400 with 1 Axes>"
            ]
          },
          "metadata": {},
          "output_type": "display_data"
        }
      ],
      "source": [
        "plot_function(f, 'x', 'x**2')\n",
        "plt.scatter(-1.5, f(-1.5), color='red');"
      ]
    },
    {
      "cell_type": "markdown",
      "metadata": {
        "id": "Mdqd5NUqr-O4"
      },
      "source": [
        "Now we look to see what would happen if we increased or decreased our parameter by a little bit—the *adjustment*. This is simply the slope at a particular point:"
      ]
    },
    {
      "cell_type": "markdown",
      "metadata": {
        "id": "t6fW6DtPr-O4"
      },
      "source": [
        "<img alt=\"A graph showing the squared function with the slope at one point\" width=\"400\" src=\"https://github.com/fastai/fastbook/blob/master/images/grad_illustration.svg?raw=1\"/>"
      ]
    },
    {
      "cell_type": "markdown",
      "metadata": {
        "id": "pX7nhKX3r-O5"
      },
      "source": [
        "We can change our weight by a little in the direction of the slope, calculate our loss and adjustment again, and repeat this a few times. Eventually, we will get to the lowest point on our curve:"
      ]
    },
    {
      "cell_type": "markdown",
      "metadata": {
        "id": "A73DtnO7r-O5"
      },
      "source": [
        "<img alt=\"An illustration of gradient descent\" width=\"400\" src=\"https://github.com/fastai/fastbook/blob/master/images/chapter2_perfect.svg?raw=1\"/>"
      ]
    },
    {
      "cell_type": "markdown",
      "metadata": {
        "id": "wjwD-Z0Xr-O5"
      },
      "source": [
        "This basic idea goes all the way back to Isaac Newton, who pointed out that we can optimize arbitrary functions in this way. Regardless of how complicated our functions become, this basic approach of gradient descent will not significantly change. The only minor changes we will see later in this book are some handy ways we can make it faster, by finding better steps."
      ]
    },
    {
      "cell_type": "markdown",
      "metadata": {
        "id": "s4HFryFxr-O5"
      },
      "source": [
        "### Calculating Gradients"
      ]
    },
    {
      "cell_type": "markdown",
      "metadata": {
        "id": "Wio_stW-r-O5"
      },
      "source": [
        "The one magic step is the bit where we calculate the gradients. As we mentioned, we use calculus as a performance optimization; it allows us to more quickly calculate whether our loss will go up or down when we adjust our parameters up or down. In other words, the gradients will tell us how much we have to change each weight to make our model better.\n",
        "\n",
        "You may remember from your high school calculus class that the *derivative* of a function tells you how much a change in its parameters will change its result. If not, don't worry, lots of us forget calculus once high school is behind us! But you will have to have some intuitive understanding of what a derivative is before you continue, so if this is all very fuzzy in your head, head over to Khan Academy and complete the [lessons on basic derivatives](https://www.khanacademy.org/math/differential-calculus/dc-diff-intro). You won't have to know how to calculate them yourselves, you just have to know what a derivative is.\n",
        "\n",
        "The key point about a derivative is this: for any function, such as the quadratic function we saw in the previous section, we can calculate its derivative. The derivative is another function. It calculates the change, rather than the value. For instance, the derivative of the quadratic function at the value 3 tells us how rapidly the function changes at the value 3. More specifically, you may recall that gradient is defined as *rise/run*, that is, the change in the value of the function, divided by the change in the value of the parameter. When we know how our function will change, then we know what we need to do to make it smaller. This is the key to machine learning: having a way to change the parameters of a function to make it smaller. Calculus provides us with a computational shortcut, the derivative, which lets us directly calculate the gradients of our functions."
      ]
    },
    {
      "cell_type": "markdown",
      "metadata": {
        "id": "wZZfNXw_r-O5"
      },
      "source": [
        "One important thing to be aware of is that our function has lots of weights that we need to adjust, so when we calculate the derivative we won't get back one number, but lots of them—a gradient for every weight. But there is nothing mathematically tricky here; you can calculate the derivative with respect to one weight, and treat all the other ones as constant, then repeat that for each other weight. This is how all of the gradients are calculated, for every weight.\n",
        "\n",
        "We mentioned just now that you won't have to calculate any gradients yourself. How can that be? Amazingly enough, PyTorch is able to automatically compute the derivative of nearly any function! What's more, it does it very fast. Most of the time, it will be at least as fast as any derivative function that you can create by hand. Let's see an example.\n",
        "\n",
        "First, let's pick a tensor value which we want gradients at:"
      ]
    },
    {
      "cell_type": "code",
      "execution_count": 57,
      "metadata": {
        "id": "BRnIPdvqr-O5"
      },
      "outputs": [],
      "source": [
        "xt = tensor(3.).requires_grad_()"
      ]
    },
    {
      "cell_type": "markdown",
      "metadata": {
        "id": "k9euSCJJr-O5"
      },
      "source": [
        "Notice the special method `requires_grad_`? That's the magical incantation we use to tell PyTorch that we want to calculate gradients with respect to that variable at that value. It is essentially tagging the variable, so PyTorch will remember to keep track of how to compute gradients of the other, direct calculations on it that you will ask for.\n",
        "\n",
        "> a: This API might throw you off if you're coming from math or physics. In those contexts the \"gradient\" of a function is just another function (i.e., its derivative), so you might expect gradient-related APIs to give you a new function. But in deep learning, \"gradients\" usually means the _value_ of a function's derivative at a particular argument value. The PyTorch API also puts the focus on the argument, not the function you're actually computing the gradients of. It may feel backwards at first, but it's just a different perspective.\n",
        "\n",
        "Now we calculate our function with that value. Notice how PyTorch prints not just the value calculated, but also a note that it has a gradient function it'll be using to calculate our gradients when needed:"
      ]
    },
    {
      "cell_type": "code",
      "execution_count": 58,
      "metadata": {
        "id": "Od3tEavKr-O6",
        "outputId": "43f3f584-3532-432d-9a96-d617c41d4fb8"
      },
      "outputs": [
        {
          "data": {
            "text/plain": [
              "tensor(9., grad_fn=<PowBackward0>)"
            ]
          },
          "execution_count": 58,
          "metadata": {},
          "output_type": "execute_result"
        }
      ],
      "source": [
        "yt = f(xt)\n",
        "yt"
      ]
    },
    {
      "cell_type": "markdown",
      "metadata": {
        "id": "GqOEHMhLr-O6"
      },
      "source": [
        "Finally, we tell PyTorch to calculate the gradients for us:"
      ]
    },
    {
      "cell_type": "code",
      "execution_count": 59,
      "metadata": {
        "id": "aCtkFd0qr-O6"
      },
      "outputs": [],
      "source": [
        "yt.backward()"
      ]
    },
    {
      "cell_type": "markdown",
      "metadata": {
        "id": "9VZVeBE2r-O6"
      },
      "source": [
        "The \"backward\" here refers to *backpropagation*, which is the name given to the process of calculating the derivative of each layer. We'll see how this is done exactly in chapter <<chapter_foundations>>, when we calculate the gradients of a deep neural net from scratch. This is called the \"backward pass\" of the network, as opposed to the \"forward pass,\" which is where the activations are calculated. Life would probably be easier if `backward` was just called `calculate_grad`, but deep learning folks really do like to add jargon everywhere they can!"
      ]
    },
    {
      "cell_type": "markdown",
      "metadata": {
        "id": "ELqTLlBFr-O6"
      },
      "source": [
        "We can now view the gradients by checking the `grad` attribute of our tensor:"
      ]
    },
    {
      "cell_type": "code",
      "execution_count": 60,
      "metadata": {
        "id": "CBZ6CtM_r-O6",
        "outputId": "87771613-6904-4867-f771-bd1969779edd"
      },
      "outputs": [
        {
          "data": {
            "text/plain": [
              "tensor(6.)"
            ]
          },
          "execution_count": 60,
          "metadata": {},
          "output_type": "execute_result"
        }
      ],
      "source": [
        "xt.grad"
      ]
    },
    {
      "cell_type": "markdown",
      "metadata": {
        "id": "0sqGfhphr-O7"
      },
      "source": [
        "If you remember your high school calculus rules, the derivative of `x**2` is `2*x`, and we have `x=3`, so the gradients should be `2*3=6`, which is what PyTorch calculated for us!\n",
        "\n",
        "Now we'll repeat the preceding steps, but with a vector argument for our function:"
      ]
    },
    {
      "cell_type": "code",
      "execution_count": 61,
      "metadata": {
        "id": "4oPIwBLVr-O7",
        "outputId": "ac72c4fd-2d37-420c-e150-8d590153f34f"
      },
      "outputs": [
        {
          "data": {
            "text/plain": [
              "tensor([ 3.,  4., 10.], requires_grad=True)"
            ]
          },
          "execution_count": 61,
          "metadata": {},
          "output_type": "execute_result"
        }
      ],
      "source": [
        "xt = tensor([3.,4.,10.]).requires_grad_()\n",
        "xt"
      ]
    },
    {
      "cell_type": "markdown",
      "metadata": {
        "id": "JJYnAx7Jr-O7"
      },
      "source": [
        "And we'll add `sum` to our function so it can take a vector (i.e., a rank-1 tensor), and return a scalar (i.e., a rank-0 tensor):"
      ]
    },
    {
      "cell_type": "code",
      "execution_count": 62,
      "metadata": {
        "id": "ygXU2-JNr-O7",
        "outputId": "a743532c-8413-4f5f-f963-3e1a74b00139"
      },
      "outputs": [
        {
          "data": {
            "text/plain": [
              "tensor(125., grad_fn=<SumBackward0>)"
            ]
          },
          "execution_count": 62,
          "metadata": {},
          "output_type": "execute_result"
        }
      ],
      "source": [
        "def f(x): return (x**2).sum()\n",
        "\n",
        "yt = f(xt)\n",
        "yt"
      ]
    },
    {
      "cell_type": "markdown",
      "metadata": {
        "id": "5vY0eFb9r-O7"
      },
      "source": [
        "Our gradients are `2*xt`, as we'd expect!"
      ]
    },
    {
      "cell_type": "code",
      "execution_count": null,
      "metadata": {
        "id": "x4Y-bNxEr-O7",
        "outputId": "e4181118-ba71-443b-bf94-2b66dd3ab517"
      },
      "outputs": [
        {
          "data": {
            "text/plain": [
              "tensor([ 6.,  8., 20.])"
            ]
          },
          "execution_count": null,
          "metadata": {},
          "output_type": "execute_result"
        }
      ],
      "source": [
        "yt.backward()\n",
        "xt.grad"
      ]
    },
    {
      "cell_type": "markdown",
      "metadata": {
        "id": "GStS_TP0r-O7"
      },
      "source": [
        "The gradients only tell us the slope of our function, they don't actually tell us exactly how far to adjust the parameters. But it gives us some idea of how far; if the slope is very large, then that may suggest that we have more adjustments to do, whereas if the slope is very small, that may suggest that we are close to the optimal value."
      ]
    },
    {
      "cell_type": "markdown",
      "metadata": {
        "id": "3plE_t94r-O7"
      },
      "source": [
        "### Stepping With a Learning Rate"
      ]
    },
    {
      "cell_type": "markdown",
      "metadata": {
        "id": "FHg2NXnWr-O7"
      },
      "source": [
        "Deciding how to change our parameters based on the values of the gradients is an important part of the deep learning process. Nearly all approaches start with the basic idea of multiplying the gradient by some small number, called the *learning rate* (LR). The learning rate is often a number between 0.001 and 0.1, although it could be anything. Often, people select a learning rate just by trying a few, and finding which results in the best model after training (we'll show you a better approach later in this book, called the *learning rate finder*). Once you've picked a learning rate, you can adjust your parameters using this simple function:\n",
        "\n",
        "```\n",
        "w -= gradient(w) * lr\n",
        "```\n",
        "\n",
        "This is known as *stepping* your parameters, using an *optimizer step*. Notice how we _subtract_ the `gradient * lr` from the parameter to update it.  This allows us to adjust the parameter in the direction of the slope by increasing the parameter when the slope is negative and decreasing the parameter when the slope is positive.  We want to adjust our parameters in the direction of the slope because our goal in deep learning is to _minimize_ the loss.\n",
        "\n",
        "If you pick a learning rate that's too low, it can mean having to do a lot of steps. <<descent_small>> illustrates that."
      ]
    },
    {
      "cell_type": "markdown",
      "metadata": {
        "id": "OiFW7Zmnr-O7"
      },
      "source": [
        "<img alt=\"An illustration of gradient descent with a LR too low\" width=\"400\" caption=\"Gradient descent with low LR\" src=\"https://github.com/fastai/fastbook/blob/master/images/chapter2_small.svg?raw=1\" id=\"descent_small\"/>"
      ]
    },
    {
      "cell_type": "markdown",
      "metadata": {
        "id": "sRsEJVw7r-O8"
      },
      "source": [
        "But picking a learning rate that's too high is even worse—it can actually result in the loss getting *worse*, as we see in <<descent_div>>!"
      ]
    },
    {
      "cell_type": "markdown",
      "metadata": {
        "id": "sLhPXCxVr-O8"
      },
      "source": [
        "<img alt=\"An illustration of gradient descent with a LR too high\" width=\"400\" caption=\"Gradient descent with high LR\" src=\"https://github.com/fastai/fastbook/blob/master/images/chapter2_div.svg?raw=1\" id=\"descent_div\"/>"
      ]
    },
    {
      "cell_type": "markdown",
      "metadata": {
        "id": "HPqM7j7Ir-O8"
      },
      "source": [
        "If the learning rate is too high, it may also \"bounce\" around, rather than actually diverging; <<descent_bouncy>> shows how this has the result of taking many steps to train successfully."
      ]
    },
    {
      "cell_type": "markdown",
      "metadata": {
        "id": "eMZgAe1rr-O8"
      },
      "source": [
        "<img alt=\"An illustation of gradient descent with a bouncy LR\" width=\"400\" caption=\"Gradient descent with bouncy LR\" src=\"https://github.com/fastai/fastbook/blob/master/images/chapter2_bouncy.svg?raw=1\" id=\"descent_bouncy\"/>"
      ]
    },
    {
      "cell_type": "markdown",
      "metadata": {
        "id": "JYiMDdeVr-O8"
      },
      "source": [
        "Now let's apply all of this in an end-to-end example."
      ]
    },
    {
      "cell_type": "markdown",
      "metadata": {
        "id": "qpQmEL7jr-O8"
      },
      "source": [
        "### An End-to-End SGD Example"
      ]
    },
    {
      "cell_type": "markdown",
      "metadata": {
        "id": "iSnRgFFMr-O8"
      },
      "source": [
        "We've seen how to use gradients to find a minimum. Now it's time to look at an SGD example and see how finding a minimum can be used to train a model to fit data better.\n",
        "\n",
        "Let's start with a simple, synthetic, example model. Imagine you were measuring the speed of a roller coaster as it went over the top of a hump. It would start fast, and then get slower as it went up the hill; it would be slowest at the top, and it would then speed up again as it went downhill. You want to build a model of how the speed changes over time. If you were measuring the speed manually every second for 20 seconds, it might look something like this:"
      ]
    },
    {
      "cell_type": "code",
      "execution_count": 63,
      "metadata": {
        "id": "aI4S0jdxr-O8",
        "outputId": "adf11d52-0082-4d9a-eb0d-a91196468dab"
      },
      "outputs": [
        {
          "data": {
            "text/plain": [
              "tensor([ 0.,  1.,  2.,  3.,  4.,  5.,  6.,  7.,  8.,  9., 10., 11., 12., 13., 14., 15., 16., 17., 18., 19.])"
            ]
          },
          "execution_count": 63,
          "metadata": {},
          "output_type": "execute_result"
        }
      ],
      "source": [
        "time = torch.arange(0,20).float(); time"
      ]
    },
    {
      "cell_type": "code",
      "execution_count": 64,
      "metadata": {
        "id": "NLhk6KYBr-O8",
        "outputId": "22bf0510-25cc-43a5-e826-f512183e2f4a"
      },
      "outputs": [
        {
          "data": {
            "image/png": "[encoded data removed]",
            "text/plain": [
              "<Figure size 640x480 with 1 Axes>"
            ]
          },
          "metadata": {},
          "output_type": "display_data"
        }
      ],
      "source": [
        "speed = torch.randn(20)*3 + 0.75*(time-9.5)**2 + 1\n",
        "plt.scatter(time,speed);"
      ]
    },
    {
      "cell_type": "markdown",
      "metadata": {
        "id": "69n0v05Mr-O9"
      },
      "source": [
        "We've added a bit of random noise, since measuring things manually isn't precise. This means it's not that easy to answer the question: what was the roller coaster's speed? Using SGD we can try to find a function that matches our observations. We can't consider every possible function, so let's use a guess that it will be quadratic; i.e., a function of the form `a*(time**2)+(b*time)+c`.\n",
        "\n",
        "We want to distinguish clearly between the function's input (the time when we are measuring the coaster's speed) and its parameters (the values that define *which* quadratic we're trying). So, let's collect the parameters in one argument and thus separate the input, `t`, and the parameters, `params`, in the function's signature:"
      ]
    },
    {
      "cell_type": "code",
      "execution_count": 65,
      "metadata": {
        "id": "jhOgxyKTr-O9"
      },
      "outputs": [],
      "source": [
        "def f(t, params):\n",
        "    a,b,c = params\n",
        "    return a*(t**2) + (b*t) + c"
      ]
    },
    {
      "cell_type": "markdown",
      "metadata": {
        "id": "qW8DQb1Tr-O9"
      },
      "source": [
        "In other words, we've restricted the problem of finding the best imaginable function that fits the data, to finding the best *quadratic* function. This greatly simplifies the problem, since every quadratic function is fully defined by the three parameters `a`, `b`, and `c`. Thus, to find the best quadratic function, we only need to find the best values for `a`, `b`, and `c`.\n",
        "\n",
        "If we can solve this problem for the three parameters of a quadratic function, we'll be able to apply the same approach for other, more complex functions with more parameters—such as a neural net. Let's find the parameters for `f` first, and then we'll come back and do the same thing for the MNIST dataset with a neural net.\n",
        "\n",
        "We need to define first what we mean by \"best.\" We define this precisely by choosing a *loss function*, which will return a value based on a prediction and a target, where lower values of the function correspond to \"better\" predictions. It is important for loss functions to return _lower_ values when predictions are more accurate, as the SGD procedure we defined earlier will try to _minimize_ this loss. For continuous data, it's common to use *mean squared error*:"
      ]
    },
    {
      "cell_type": "code",
      "execution_count": 66,
      "metadata": {
        "id": "yOEkW8j6r-O9"
      },
      "outputs": [],
      "source": [
        "def mse(preds, targets): return ((preds-targets)**2).mean()"
      ]
    },
    {
      "cell_type": "markdown",
      "metadata": {
        "id": "H0fl2-p6r-O9"
      },
      "source": [
        "Now, let's work through our 7 step process."
      ]
    },
    {
      "cell_type": "markdown",
      "metadata": {
        "id": "CiAYp1-Xr-O9"
      },
      "source": [
        "#### Step 1: Initialize the parameters"
      ]
    },
    {
      "cell_type": "markdown",
      "metadata": {
        "id": "q55nYJxwr-O-"
      },
      "source": [
        "First, we initialize the parameters to random values, and tell PyTorch that we want to track their gradients, using `requires_grad_`:"
      ]
    },
    {
      "cell_type": "code",
      "execution_count": 67,
      "metadata": {
        "id": "RS4-IOa_r-O-"
      },
      "outputs": [],
      "source": [
        "params = torch.randn(3).requires_grad_()"
      ]
    },
    {
      "cell_type": "code",
      "execution_count": 68,
      "metadata": {
        "id": "_VeihbEvr-O-"
      },
      "outputs": [],
      "source": [
        "#hide\n",
        "orig_params = params.clone()"
      ]
    },
    {
      "cell_type": "markdown",
      "metadata": {
        "id": "aZ0pPNd4r-O-"
      },
      "source": [
        "#### Step 2: Calculate the predictions"
      ]
    },
    {
      "cell_type": "markdown",
      "metadata": {
        "id": "gsLhBs2Mr-O-"
      },
      "source": [
        "Next, we calculate the predictions:"
      ]
    },
    {
      "cell_type": "code",
      "execution_count": 69,
      "metadata": {
        "id": "-RKS31Eur-O-"
      },
      "outputs": [],
      "source": [
        "preds = f(time, params)"
      ]
    },
    {
      "cell_type": "markdown",
      "metadata": {
        "id": "gj-mV0fAr-O-"
      },
      "source": [
        "Let's create a little function to see how close our predictions are to our targets, and take a look:"
      ]
    },
    {
      "cell_type": "code",
      "execution_count": 70,
      "metadata": {
        "id": "FAaPvVQgr-O-"
      },
      "outputs": [],
      "source": [
        "def show_preds(preds, ax=None):\n",
        "    if ax is None: ax=plt.subplots()[1]\n",
        "    ax.scatter(time, speed)\n",
        "    ax.scatter(time, to_np(preds), color='red')\n",
        "    ax.set_ylim(-300,100)"
      ]
    },
    {
      "cell_type": "code",
      "execution_count": 71,
      "metadata": {
        "id": "VLU7vWvtr-O-",
        "outputId": "da94bd87-ee69-47b6-b01a-f0531721689b"
      },
      "outputs": [
        {
          "data": {
            "image/png": "[encoded data removed]",
            "text/plain": [
              "<Figure size 640x480 with 1 Axes>"
            ]
          },
          "metadata": {},
          "output_type": "display_data"
        }
      ],
      "source": [
        "show_preds(preds)"
      ]
    },
    {
      "cell_type": "markdown",
      "metadata": {
        "id": "XDrJcqnDr-O_"
      },
      "source": [
        "This doesn't look very close—our random parameters suggest that the roller coaster will end up going backwards, since we have negative speeds!"
      ]
    },
    {
      "cell_type": "markdown",
      "metadata": {
        "id": "ljedh3I6r-O_"
      },
      "source": [
        "#### Step 3: Calculate the loss"
      ]
    },
    {
      "cell_type": "markdown",
      "metadata": {
        "id": "IORzPvGdr-O_"
      },
      "source": [
        "We calculate the loss as follows:"
      ]
    },
    {
      "cell_type": "code",
      "execution_count": 72,
      "metadata": {
        "id": "5h36CiSvr-O_",
        "outputId": "a51e1f77-4af5-457f-dd30-8bb97558d143"
      },
      "outputs": [
        {
          "data": {
            "text/plain": [
              "tensor(25823.8086, grad_fn=<MeanBackward0>)"
            ]
          },
          "execution_count": 72,
          "metadata": {},
          "output_type": "execute_result"
        }
      ],
      "source": [
        "loss = mse(preds, speed)\n",
        "loss"
      ]
    },
    {
      "cell_type": "markdown",
      "metadata": {
        "id": "fF61nA6er-O_"
      },
      "source": [
        "Our goal is now to improve this. To do that, we'll need to know the gradients."
      ]
    },
    {
      "cell_type": "markdown",
      "metadata": {
        "id": "omgqUWfPr-O_"
      },
      "source": [
        "#### Step 4: Calculate the gradients"
      ]
    },
    {
      "cell_type": "markdown",
      "metadata": {
        "id": "AHKUZQN9r-O_"
      },
      "source": [
        "The next step is to calculate the gradients. In other words, calculate an approximation of how the parameters need to change:"
      ]
    },
    {
      "cell_type": "code",
      "execution_count": 73,
      "metadata": {
        "id": "ywgHSwmHr-PA",
        "outputId": "dc6dc4e8-3405-4eee-be9c-8ed92058d048"
      },
      "outputs": [
        {
          "data": {
            "text/plain": [
              "tensor([-53195.8633,  -3419.7148,   -253.8908])"
            ]
          },
          "execution_count": 73,
          "metadata": {},
          "output_type": "execute_result"
        }
      ],
      "source": [
        "loss.backward()\n",
        "params.grad"
      ]
    },
    {
      "cell_type": "code",
      "execution_count": 74,
      "metadata": {
        "id": "0liNj0Alr-PA",
        "outputId": "fc0d6fa3-e3d3-4a87-9bdc-c55a61e93283"
      },
      "outputs": [
        {
          "data": {
            "text/plain": [
              "tensor([-0.5320, -0.0342, -0.0025])"
            ]
          },
          "execution_count": 74,
          "metadata": {},
          "output_type": "execute_result"
        }
      ],
      "source": [
        "params.grad * 1e-5"
      ]
    },
    {
      "cell_type": "markdown",
      "metadata": {
        "id": "aL4-RjdSr-PA"
      },
      "source": [
        "We can use these gradients to improve our parameters. We'll need to pick a learning rate (we'll discuss how to do that in practice in the next chapter; for now we'll just use 1e-5, or 0.00001):"
      ]
    },
    {
      "cell_type": "code",
      "execution_count": 75,
      "metadata": {
        "id": "0jA_QjZkr-PB",
        "outputId": "8dc15eb3-8461-4f59-c3fd-9cfdb28495cb"
      },
      "outputs": [
        {
          "data": {
            "text/plain": [
              "tensor([-0.7658, -0.7506,  1.3525], requires_grad=True)"
            ]
          },
          "execution_count": 75,
          "metadata": {},
          "output_type": "execute_result"
        }
      ],
      "source": [
        "params"
      ]
    },
    {
      "cell_type": "markdown",
      "metadata": {
        "id": "F47sGkrzr-PB"
      },
      "source": [
        "#### Step 5: Step the weights."
      ]
    },
    {
      "cell_type": "markdown",
      "metadata": {
        "id": "PMTyg3IZr-PB"
      },
      "source": [
        "Now we need to update the parameters based on the gradients we just calculated:"
      ]
    },
    {
      "cell_type": "code",
      "execution_count": 98,
      "metadata": {
        "id": "SzH8SZwyr-PB"
      },
      "outputs": [
        {
          "ename": "AttributeError",
          "evalue": "'NoneType' object has no attribute 'data'",
          "output_type": "error",
          "traceback": [
            "\u001b[1;31m---------------------------------------------------------------------------\u001b[0m",
            "\u001b[1;31mAttributeError\u001b[0m                            Traceback (most recent call last)",
            "Cell \u001b[1;32mIn[98], line 2\u001b[0m\n\u001b[0;32m      1\u001b[0m lr \u001b[38;5;241m=\u001b[39m \u001b[38;5;241m1e-1\u001b[39m\n\u001b[1;32m----> 2\u001b[0m params\u001b[38;5;241m.\u001b[39mdata \u001b[38;5;241m-\u001b[39m\u001b[38;5;241m=\u001b[39m lr \u001b[38;5;241m*\u001b[39m params\u001b[38;5;241m.\u001b[39mgrad\u001b[38;5;241m.\u001b[39mdata\n\u001b[0;32m      3\u001b[0m params\u001b[38;5;241m.\u001b[39mgrad \u001b[38;5;241m=\u001b[39m \u001b[38;5;28;01mNone\u001b[39;00m\n",
            "\u001b[1;31mAttributeError\u001b[0m: 'NoneType' object has no attribute 'data'"
          ]
        }
      ],
      "source": [
        "lr = 1e-1\n",
        "params.data -= lr * params.grad.data\n",
        "params.grad = None"
      ]
    },
    {
      "cell_type": "markdown",
      "metadata": {
        "id": "e6itvg3pr-PB"
      },
      "source": [
        "> a: Understanding this bit depends on remembering recent history. To calculate the gradients we call `backward` on the `loss`. But this `loss` was itself calculated by `mse`, which in turn took `preds` as an input, which was calculated using `f` taking as an input `params`, which was the object on which we originally called `requires_grad_`—which is the original call that now allows us to call `backward` on `loss`. This chain of function calls represents the mathematical composition of functions, which enables PyTorch to use calculus's chain rule under the hood to calculate these gradients."
      ]
    },
    {
      "cell_type": "markdown",
      "metadata": {
        "id": "jrkJ7obur-PE"
      },
      "source": [
        "Let's see if the loss has improved:"
      ]
    },
    {
      "cell_type": "code",
      "execution_count": 77,
      "metadata": {
        "id": "HjlWrMx1r-PE",
        "outputId": "7a26a165-d0df-496a-aa9b-093b67bbfed5"
      },
      "outputs": [
        {
          "data": {
            "text/plain": [
              "tensor(5435.5356, grad_fn=<MeanBackward0>)"
            ]
          },
          "execution_count": 77,
          "metadata": {},
          "output_type": "execute_result"
        }
      ],
      "source": [
        "preds = f(time,params)\n",
        "mse(preds, speed)"
      ]
    },
    {
      "cell_type": "markdown",
      "metadata": {
        "id": "CMDbumkYr-PE"
      },
      "source": [
        "And take a look at the plot:"
      ]
    },
    {
      "cell_type": "code",
      "execution_count": 78,
      "metadata": {
        "id": "SKCzOH3br-PE",
        "outputId": "cf227ddd-32cf-41c2-f099-fc95849d160a"
      },
      "outputs": [
        {
          "data": {
            "image/png": "[encoded data removed]",
            "text/plain": [
              "<Figure size 640x480 with 1 Axes>"
            ]
          },
          "metadata": {},
          "output_type": "display_data"
        }
      ],
      "source": [
        "show_preds(preds)"
      ]
    },
    {
      "cell_type": "markdown",
      "metadata": {
        "id": "MTjSrsBMr-PE"
      },
      "source": [
        "We need to repeat this a few times, so we'll create a function to apply one step:"
      ]
    },
    {
      "cell_type": "code",
      "execution_count": 95,
      "metadata": {
        "id": "3RmUFsoer-PE"
      },
      "outputs": [],
      "source": [
        "def apply_step(params, prn=True):\n",
        "    preds = f(time, params)\n",
        "    loss = mse(preds, speed)\n",
        "    loss.backward()\n",
        "    params.data -= lr * params.grad.data\n",
        "    params.grad = None\n",
        "    if prn: print(loss.item())\n",
        "    return preds"
      ]
    },
    {
      "cell_type": "markdown",
      "metadata": {
        "id": "t59Lfrtgr-PE"
      },
      "source": [
        "#### Step 6: Repeat the process"
      ]
    },
    {
      "cell_type": "markdown",
      "metadata": {
        "id": "pLvDrzFnr-PE"
      },
      "source": [
        "Now we iterate. By looping and performing many improvements, we hope to reach a good result:"
      ]
    },
    {
      "cell_type": "code",
      "execution_count": 96,
      "metadata": {
        "id": "sIVounZhr-PF",
        "outputId": "b584e50b-acb2-457e-cc20-47e12d202075"
      },
      "outputs": [
        {
          "name": "stdout",
          "output_type": "stream",
          "text": [
            "672.077880859375\n",
            "672.0738525390625\n",
            "672.0697631835938\n",
            "672.0657348632812\n",
            "672.0616455078125\n",
            "672.0576782226562\n",
            "672.053466796875\n",
            "672.0493774414062\n",
            "672.045166015625\n",
            "672.0411376953125\n",
            "672.037109375\n",
            "672.0330200195312\n",
            "672.0289306640625\n",
            "672.0247802734375\n",
            "672.020751953125\n",
            "672.0166625976562\n",
            "672.0125732421875\n",
            "672.0084838867188\n",
            "672.00439453125\n",
            "672.0003662109375\n",
            "671.9962768554688\n",
            "671.9921875\n",
            "671.9881591796875\n",
            "671.9840087890625\n",
            "671.9799194335938\n",
            "671.975830078125\n",
            "671.9716796875\n",
            "671.9677124023438\n",
            "671.963623046875\n",
            "671.9595336914062\n",
            "671.9554443359375\n",
            "671.951416015625\n",
            "671.9473876953125\n",
            "671.9431762695312\n",
            "671.9390869140625\n",
            "671.93505859375\n",
            "671.930908203125\n",
            "671.9268798828125\n",
            "671.9227294921875\n",
            "671.918701171875\n",
            "671.9146728515625\n",
            "671.9105224609375\n",
            "671.9065551757812\n",
            "671.9024658203125\n",
            "671.8983154296875\n",
            "671.894287109375\n",
            "671.8901977539062\n",
            "671.8861083984375\n",
            "671.8819580078125\n",
            "671.8779907226562\n",
            "671.8739013671875\n",
            "671.869873046875\n",
            "671.86572265625\n",
            "671.8616943359375\n",
            "671.8575439453125\n",
            "671.8534545898438\n",
            "671.8494873046875\n",
            "671.8453369140625\n",
            "671.8412475585938\n",
            "671.8372192382812\n",
            "671.8331298828125\n",
            "671.8290405273438\n",
            "671.8250122070312\n",
            "671.8209228515625\n",
            "671.8168334960938\n",
            "671.812744140625\n",
            "671.8087158203125\n",
            "671.8045654296875\n",
            "671.8004760742188\n",
            "671.7965087890625\n",
            "671.7923583984375\n",
            "671.788330078125\n",
            "671.7843017578125\n",
            "671.7802124023438\n",
            "671.7760620117188\n",
            "671.7720947265625\n",
            "671.7679443359375\n",
            "671.7638549804688\n",
            "671.7597045898438\n",
            "671.7557373046875\n",
            "671.7515869140625\n",
            "671.7476806640625\n",
            "671.7435913085938\n",
            "671.739501953125\n",
            "671.7354736328125\n",
            "671.7313232421875\n",
            "671.7273559570312\n",
            "671.7232666015625\n",
            "671.71923828125\n",
            "671.715087890625\n",
            "671.7109985351562\n",
            "671.7069091796875\n",
            "671.7028198242188\n",
            "671.6988525390625\n",
            "671.6947631835938\n",
            "671.690673828125\n",
            "671.6866455078125\n",
            "671.6824951171875\n",
            "671.6784057617188\n",
            "671.6744384765625\n",
            "671.67041015625\n",
            "671.6663818359375\n",
            "671.6622314453125\n",
            "671.658203125\n",
            "671.6541137695312\n",
            "671.6500244140625\n",
            "671.6459350585938\n",
            "671.641845703125\n",
            "671.6378173828125\n",
            "671.6337890625\n",
            "671.6298217773438\n",
            "671.6256713867188\n",
            "671.62158203125\n",
            "671.6176147460938\n",
            "671.6134033203125\n",
            "671.609375\n",
            "671.6054077148438\n",
            "671.601318359375\n",
            "671.5972900390625\n",
            "671.5932006835938\n",
            "671.589111328125\n",
            "671.5850219726562\n",
            "671.5809936523438\n",
            "671.5769653320312\n",
            "671.5728759765625\n",
            "671.56884765625\n",
            "671.5648193359375\n",
            "671.5606689453125\n",
            "671.5565795898438\n",
            "671.5526123046875\n",
            "671.5484619140625\n",
            "671.5445556640625\n",
            "671.5404052734375\n",
            "671.5362548828125\n",
            "671.5323486328125\n",
            "671.5281982421875\n",
            "671.5241088867188\n",
            "671.5201416015625\n",
            "671.5160522460938\n",
            "671.5119018554688\n",
            "671.5079345703125\n",
            "671.5038452148438\n",
            "671.4998779296875\n",
            "671.4957275390625\n",
            "671.4917602539062\n",
            "671.4877319335938\n",
            "671.4835815429688\n",
            "671.4794921875\n",
            "671.4755249023438\n",
            "671.471435546875\n",
            "671.4674072265625\n",
            "671.46337890625\n",
            "671.4593505859375\n",
            "671.4552001953125\n",
            "671.451171875\n",
            "671.4471435546875\n",
            "671.4430541992188\n",
            "671.4390869140625\n",
            "671.4349365234375\n",
            "671.430908203125\n",
            "671.4268798828125\n",
            "671.4227905273438\n",
            "671.4188232421875\n",
            "671.4146728515625\n",
            "671.4107666015625\n",
            "671.4066772460938\n",
            "671.4025268554688\n",
            "671.3984375\n",
            "671.3944091796875\n",
            "671.3904418945312\n",
            "671.3863525390625\n",
            "671.3823852539062\n",
            "671.3782958984375\n",
            "671.3743286132812\n",
            "671.3701782226562\n",
            "671.3661499023438\n",
            "671.3619995117188\n",
            "671.3580322265625\n",
            "671.3541259765625\n",
            "671.3499755859375\n",
            "671.3458862304688\n",
            "671.3419189453125\n",
            "671.3378295898438\n",
            "671.3336181640625\n",
            "671.3297119140625\n",
            "671.3256225585938\n",
            "671.3216552734375\n",
            "671.317626953125\n",
            "671.3135375976562\n",
            "671.3095092773438\n",
            "671.305419921875\n",
            "671.3013916015625\n",
            "671.2972412109375\n",
            "671.2933349609375\n",
            "671.289306640625\n",
            "671.2852172851562\n",
            "671.2811279296875\n",
            "671.277099609375\n",
            "671.2730102539062\n",
            "671.2691650390625\n",
            "671.2649536132812\n",
            "671.2609252929688\n",
            "671.2568359375\n",
            "671.2529296875\n",
            "671.2488403320312\n",
            "671.244873046875\n",
            "671.2407836914062\n",
            "671.2367553710938\n",
            "671.232666015625\n",
            "671.2286376953125\n",
            "671.2246704101562\n",
            "671.2205810546875\n",
            "671.216552734375\n",
            "671.2125244140625\n",
            "671.2083740234375\n",
            "671.2044067382812\n",
            "671.2003173828125\n",
            "671.1962890625\n",
            "671.1922607421875\n",
            "671.188232421875\n",
            "671.1842651367188\n",
            "671.18017578125\n",
            "671.1760864257812\n",
            "671.1720581054688\n",
            "671.16796875\n",
            "671.1640625\n",
            "671.159912109375\n",
            "671.156005859375\n",
            "671.1517944335938\n",
            "671.1478271484375\n",
            "671.143798828125\n",
            "671.1397705078125\n",
            "671.1358032226562\n",
            "671.1317138671875\n",
            "671.127685546875\n",
            "671.1236572265625\n",
            "671.1195068359375\n",
            "671.1156005859375\n",
            "671.1116333007812\n",
            "671.1075439453125\n",
            "671.1033935546875\n",
            "671.0994262695312\n",
            "671.0953979492188\n",
            "671.0913696289062\n",
            "671.08740234375\n",
            "671.0833129882812\n",
            "671.0792236328125\n",
            "671.0751342773438\n",
            "671.0711669921875\n",
            "671.0671997070312\n",
            "671.063232421875\n",
            "671.0592041015625\n",
            "671.0550537109375\n",
            "671.0510864257812\n",
            "671.0469970703125\n",
            "671.04296875\n",
            "671.0389404296875\n",
            "671.034912109375\n",
            "671.0308837890625\n",
            "671.0269775390625\n",
            "671.0228271484375\n",
            "671.018798828125\n",
            "671.0147705078125\n",
            "671.0108032226562\n",
            "671.0067138671875\n",
            "671.0028076171875\n",
            "670.9987182617188\n",
            "670.9945678710938\n",
            "670.9906005859375\n",
            "670.9865112304688\n",
            "670.9825439453125\n",
            "670.9784545898438\n",
            "670.9745483398438\n",
            "670.970458984375\n",
            "670.9663696289062\n",
            "670.9623413085938\n",
            "670.9583740234375\n",
            "670.954345703125\n",
            "670.9503173828125\n",
            "670.9463500976562\n",
            "670.9422607421875\n",
            "670.9383544921875\n",
            "670.9342651367188\n",
            "670.9302978515625\n",
            "670.9261474609375\n",
            "670.9220581054688\n",
            "670.9180908203125\n",
            "670.9141235351562\n",
            "670.9100952148438\n",
            "670.9060668945312\n",
            "670.9021606445312\n",
            "670.89794921875\n",
            "670.8939208984375\n",
            "670.8900146484375\n",
            "670.8858642578125\n",
            "670.8818969726562\n",
            "670.8778686523438\n",
            "670.8739624023438\n",
            "670.8699340820312\n",
            "670.8658447265625\n",
            "670.86181640625\n",
            "670.8577880859375\n",
            "670.8536987304688\n",
            "670.8497314453125\n",
            "670.845703125\n",
            "670.8416748046875\n",
            "670.8377685546875\n",
            "670.8336181640625\n",
            "670.82958984375\n",
            "670.8256225585938\n",
            "670.8216552734375\n",
            "670.8175048828125\n",
            "670.8135986328125\n",
            "670.8095703125\n",
            "670.8055419921875\n",
            "670.8015747070312\n",
            "670.7974853515625\n",
            "670.79345703125\n",
            "670.7894287109375\n",
            "670.7855224609375\n",
            "670.7813720703125\n",
            "670.7774047851562\n",
            "670.7733154296875\n",
            "670.7693481445312\n",
            "670.765380859375\n",
            "670.7614135742188\n",
            "670.7573852539062\n",
            "670.7532958984375\n",
            "670.7492065429688\n",
            "670.7453002929688\n",
            "670.7412109375\n",
            "670.7371826171875\n",
            "670.7332763671875\n",
            "670.7291870117188\n",
            "670.7252807617188\n",
            "670.72119140625\n",
            "670.7171630859375\n",
            "670.7130737304688\n",
            "670.7091064453125\n",
            "670.705078125\n",
            "670.7011108398438\n",
            "670.6970825195312\n",
            "670.6930541992188\n",
            "670.6890258789062\n",
            "670.6851196289062\n",
            "670.6810913085938\n",
            "670.6771240234375\n",
            "670.6729736328125\n",
            "670.6690063476562\n",
            "670.6649780273438\n",
            "670.6610717773438\n",
            "670.656982421875\n",
            "670.6530151367188\n",
            "670.64892578125\n",
            "670.6448974609375\n",
            "670.640869140625\n",
            "670.6369018554688\n",
            "670.6328125\n",
            "670.6289672851562\n",
            "670.6248779296875\n",
            "670.620849609375\n",
            "670.6168212890625\n",
            "670.6128540039062\n",
            "670.60888671875\n",
            "670.6048583984375\n",
            "670.600830078125\n",
            "670.5968017578125\n",
            "670.5928955078125\n",
            "670.5888061523438\n",
            "670.5848388671875\n",
            "670.5807495117188\n",
            "670.5767822265625\n",
            "670.57275390625\n",
            "670.56884765625\n",
            "670.5648193359375\n",
            "670.5608520507812\n",
            "670.5567626953125\n",
            "670.5528564453125\n",
            "670.5487060546875\n",
            "670.5447998046875\n",
            "670.5406494140625\n",
            "670.5367431640625\n",
            "670.5327758789062\n",
            "670.5287475585938\n",
            "670.5247192382812\n",
            "670.5208129882812\n",
            "670.5167236328125\n",
            "670.5127563476562\n",
            "670.5086669921875\n",
            "670.5046997070312\n",
            "670.500732421875\n",
            "670.4967041015625\n",
            "670.49267578125\n",
            "670.4887084960938\n",
            "670.4847412109375\n",
            "670.4806518554688\n",
            "670.4766845703125\n",
            "670.4727172851562\n",
            "670.4686889648438\n",
            "670.4647216796875\n",
            "670.4607543945312\n",
            "670.4566650390625\n",
            "670.45263671875\n",
            "670.44873046875\n",
            "670.4447631835938\n",
            "670.4407348632812\n",
            "670.4367065429688\n",
            "670.4327392578125\n",
            "670.4287719726562\n",
            "670.4246826171875\n",
            "670.420654296875\n",
            "670.4166870117188\n",
            "670.4127807617188\n",
            "670.40869140625\n",
            "670.4046630859375\n",
            "670.400634765625\n",
            "670.396728515625\n",
            "670.3927001953125\n",
            "670.388671875\n",
            "670.3847045898438\n",
            "670.3807373046875\n",
            "670.3767700195312\n",
            "670.3726806640625\n",
            "670.3687744140625\n",
            "670.36474609375\n",
            "670.3607788085938\n",
            "670.3567504882812\n",
            "670.3527221679688\n",
            "670.3486938476562\n",
            "670.3447265625\n",
            "670.3406982421875\n",
            "670.3367309570312\n",
            "670.3326416015625\n",
            "670.3287963867188\n",
            "670.3247680664062\n",
            "670.3207397460938\n",
            "670.3167724609375\n",
            "670.312744140625\n",
            "670.308837890625\n",
            "670.3047485351562\n",
            "670.30078125\n",
            "670.2968139648438\n",
            "670.2928466796875\n",
            "670.288818359375\n",
            "670.2847900390625\n",
            "670.2808227539062\n",
            "670.2769165039062\n",
            "670.2728271484375\n",
            "670.2688598632812\n",
            "670.264892578125\n",
            "670.2608642578125\n",
            "670.2568969726562\n",
            "670.2529296875\n",
            "670.2489624023438\n",
            "670.2449340820312\n",
            "670.2409057617188\n",
            "670.2368774414062\n",
            "670.23291015625\n",
            "670.22900390625\n",
            "670.2249755859375\n",
            "670.2210693359375\n",
            "670.2169799804688\n",
            "670.2130737304688\n",
            "670.2090454101562\n",
            "670.2050170898438\n",
            "670.2009887695312\n",
            "670.1970825195312\n",
            "670.1930541992188\n",
            "670.1890258789062\n",
            "670.1851806640625\n",
            "670.1810302734375\n",
            "670.1771240234375\n",
            "670.173095703125\n",
            "670.1692504882812\n",
            "670.1652221679688\n",
            "670.1611938476562\n",
            "670.1572265625\n",
            "670.1531982421875\n",
            "670.1492919921875\n",
            "670.1451416015625\n",
            "670.1412353515625\n",
            "670.1372680664062\n",
            "670.1332397460938\n",
            "670.1292724609375\n",
            "670.1253662109375\n",
            "670.1213989257812\n",
            "670.1173095703125\n",
            "670.1134033203125\n",
            "670.109375\n",
            "670.1053466796875\n",
            "670.1014404296875\n",
            "670.0973510742188\n",
            "670.0935668945312\n",
            "670.0894775390625\n",
            "670.0853881835938\n",
            "670.08154296875\n",
            "670.0775146484375\n",
            "670.0736083984375\n",
            "670.069580078125\n",
            "670.065673828125\n",
            "670.0615844726562\n",
            "670.0575561523438\n",
            "670.0535888671875\n",
            "670.0496826171875\n",
            "670.0457153320312\n",
            "670.041748046875\n",
            "670.0377197265625\n",
            "670.0338134765625\n",
            "670.0298461914062\n",
            "670.0258178710938\n",
            "670.0217895507812\n",
            "670.017822265625\n",
            "670.0137939453125\n",
            "670.0098876953125\n",
            "670.0059204101562\n",
            "670.0018920898438\n",
            "669.9979248046875\n",
            "669.9939575195312\n",
            "669.9899291992188\n",
            "669.9859619140625\n",
            "669.9819946289062\n",
            "669.9780883789062\n",
            "669.97412109375\n",
            "669.9701538085938\n",
            "669.9661865234375\n",
            "669.962158203125\n",
            "669.9581909179688\n",
            "669.9542236328125\n",
            "669.9503173828125\n",
            "669.9462890625\n",
            "669.9422607421875\n",
            "669.938232421875\n",
            "669.9343872070312\n",
            "669.9303588867188\n",
            "669.92626953125\n",
            "669.9224243164062\n",
            "669.91845703125\n",
            "669.9144287109375\n",
            "669.9104614257812\n",
            "669.906494140625\n",
            "669.9025268554688\n",
            "669.8986206054688\n",
            "669.8945922851562\n",
            "669.890625\n",
            "669.88671875\n",
            "669.8826293945312\n",
            "669.8787841796875\n",
            "669.8746948242188\n",
            "669.8707275390625\n",
            "669.8666381835938\n",
            "669.86279296875\n",
            "669.85888671875\n",
            "669.8548583984375\n",
            "669.8508911132812\n",
            "669.8468627929688\n",
            "669.8428955078125\n",
            "669.8389892578125\n",
            "669.8350219726562\n",
            "669.8309936523438\n",
            "669.8270263671875\n",
            "669.8231201171875\n",
            "669.8191528320312\n",
            "669.8151245117188\n",
            "669.811279296875\n",
            "669.8072509765625\n",
            "669.80322265625\n",
            "669.79931640625\n",
            "669.7952880859375\n",
            "669.7913818359375\n",
            "669.7874755859375\n",
            "669.7833862304688\n",
            "669.7794189453125\n",
            "669.7755126953125\n",
            "669.771484375\n",
            "669.7676391601562\n",
            "669.7635498046875\n",
            "669.7595825195312\n",
            "669.7557373046875\n",
            "669.7516479492188\n",
            "669.7476806640625\n",
            "669.7438354492188\n",
            "669.7398681640625\n",
            "669.73583984375\n",
            "669.7318115234375\n",
            "669.7279052734375\n",
            "669.7239990234375\n",
            "669.7200317382812\n",
            "669.716064453125\n",
            "669.7120361328125\n",
            "669.7080688476562\n",
            "669.7042236328125\n",
            "669.7001953125\n",
            "669.6961669921875\n",
            "669.6921997070312\n",
            "669.6881713867188\n",
            "669.6842651367188\n",
            "669.6803588867188\n",
            "669.6764526367188\n",
            "669.6724853515625\n",
            "669.66845703125\n",
            "669.6644287109375\n",
            "669.6605224609375\n",
            "669.6566162109375\n",
            "669.6526489257812\n",
            "669.6485595703125\n",
            "669.6447143554688\n",
            "669.6407470703125\n",
            "669.6367797851562\n",
            "669.6326904296875\n",
            "669.6287841796875\n",
            "669.6248779296875\n",
            "669.6209716796875\n",
            "669.6170043945312\n",
            "669.613037109375\n",
            "669.609130859375\n",
            "669.6051025390625\n",
            "669.6011962890625\n",
            "669.59716796875\n",
            "669.5932006835938\n",
            "669.5892333984375\n",
            "669.5853881835938\n",
            "669.5814208984375\n",
            "669.577392578125\n",
            "669.573486328125\n",
            "669.5695190429688\n",
            "669.5655517578125\n",
            "669.5616455078125\n",
            "669.5576171875\n",
            "669.5535888671875\n",
            "669.5496826171875\n",
            "669.5457153320312\n",
            "669.5418090820312\n",
            "669.5379028320312\n",
            "669.5338134765625\n",
            "669.5299072265625\n",
            "669.5260009765625\n",
            "669.5220947265625\n",
            "669.51806640625\n",
            "669.5140380859375\n",
            "669.5101318359375\n",
            "669.5061645507812\n",
            "669.5023193359375\n",
            "669.498291015625\n",
            "669.4942626953125\n",
            "669.4903564453125\n",
            "669.4864501953125\n",
            "669.4824829101562\n",
            "669.4784545898438\n",
            "669.4745483398438\n",
            "669.4705810546875\n",
            "669.4666748046875\n",
            "669.4627685546875\n",
            "669.458740234375\n",
            "669.454833984375\n",
            "669.4508666992188\n",
            "669.4468994140625\n",
            "669.4429931640625\n",
            "669.43896484375\n",
            "669.43505859375\n",
            "669.4310913085938\n",
            "669.4271850585938\n",
            "669.4232177734375\n",
            "669.4193115234375\n",
            "669.415283203125\n",
            "669.411376953125\n",
            "669.4073486328125\n",
            "669.4034423828125\n",
            "669.3995361328125\n",
            "669.3955688476562\n",
            "669.3916015625\n",
            "669.3876342773438\n",
            "669.3838500976562\n",
            "669.3797607421875\n",
            "669.3757934570312\n",
            "669.371826171875\n",
            "669.3679809570312\n",
            "669.3639526367188\n",
            "669.3599853515625\n",
            "669.3561401367188\n",
            "669.3521118164062\n",
            "669.3482666015625\n",
            "669.34423828125\n",
            "669.3402099609375\n",
            "669.3363037109375\n",
            "669.3323974609375\n",
            "669.328369140625\n",
            "669.324462890625\n",
            "669.3206176757812\n",
            "669.316650390625\n",
            "669.3126220703125\n",
            "669.3087158203125\n",
            "669.3047485351562\n",
            "669.30078125\n",
            "669.2969360351562\n",
            "669.29296875\n",
            "669.2889404296875\n",
            "669.2850952148438\n",
            "669.2811889648438\n",
            "669.2771606445312\n",
            "669.2732543945312\n",
            "669.269287109375\n",
            "669.265380859375\n",
            "669.2613525390625\n",
            "669.2575073242188\n",
            "669.2535400390625\n",
            "669.2495727539062\n",
            "669.24560546875\n",
            "669.24169921875\n",
            "669.23779296875\n",
            "669.2337646484375\n",
            "669.22998046875\n",
            "669.2258911132812\n",
            "669.221923828125\n",
            "669.2181396484375\n",
            "669.2142333984375\n",
            "669.2100830078125\n",
            "669.2062377929688\n",
            "669.2022705078125\n",
            "669.1983642578125\n",
            "669.1944580078125\n",
            "669.1904907226562\n",
            "669.1864624023438\n",
            "669.1826171875\n",
            "669.1786499023438\n",
            "669.1746826171875\n",
            "669.1708374023438\n",
            "669.1668701171875\n",
            "669.1629638671875\n",
            "669.1589965820312\n",
            "669.1550903320312\n",
            "669.1510620117188\n",
            "669.147216796875\n",
            "669.1432495117188\n",
            "669.1392822265625\n",
            "669.1353759765625\n",
            "669.1314086914062\n",
            "669.1275024414062\n",
            "669.1235961914062\n",
            "669.11962890625\n",
            "669.1156005859375\n",
            "669.1117553710938\n",
            "669.1078491210938\n",
            "669.1038818359375\n",
            "669.0999755859375\n",
            "669.0960693359375\n",
            "669.0921020507812\n",
            "669.088134765625\n",
            "669.084228515625\n",
            "669.0802001953125\n",
            "669.0762939453125\n",
            "669.0723876953125\n",
            "669.0684814453125\n",
            "669.0645751953125\n",
            "669.0606079101562\n",
            "669.056640625\n",
            "669.0527954101562\n",
            "669.0487670898438\n",
            "669.0448608398438\n",
            "669.0408935546875\n",
            "669.0369873046875\n",
            "669.0330200195312\n",
            "669.0291748046875\n",
            "669.0252075195312\n",
            "669.021240234375\n",
            "669.0173950195312\n",
            "669.013427734375\n",
            "669.009521484375\n",
            "669.0055541992188\n",
            "669.0015869140625\n",
            "668.9977416992188\n",
            "668.9937744140625\n",
            "668.9898681640625\n",
            "668.9859008789062\n",
            "668.9819946289062\n",
            "668.9780883789062\n",
            "668.9740600585938\n",
            "668.97021484375\n",
            "668.96630859375\n",
            "668.9623413085938\n",
            "668.9583740234375\n",
            "668.9544677734375\n",
            "668.9506225585938\n",
            "668.9466552734375\n",
            "668.942626953125\n",
            "668.9388427734375\n",
            "668.9349365234375\n",
            "668.930908203125\n",
            "668.927001953125\n",
            "668.9230346679688\n",
            "668.9190673828125\n",
            "668.915283203125\n",
            "668.9113159179688\n",
            "668.9073486328125\n",
            "668.9034423828125\n",
            "668.8994750976562\n",
            "668.8956298828125\n",
            "668.8917236328125\n",
            "668.8876953125\n",
            "668.8839111328125\n",
            "668.8799438476562\n",
            "668.8759155273438\n",
            "668.8720703125\n",
            "668.8681030273438\n",
            "668.8641967773438\n",
            "668.8602294921875\n",
            "668.8563842773438\n",
            "668.8524780273438\n",
            "668.8484497070312\n",
            "668.8445434570312\n",
            "668.8406982421875\n",
            "668.8367309570312\n",
            "668.832763671875\n",
            "668.8289184570312\n",
            "668.8248901367188\n",
            "668.8211059570312\n",
            "668.8170166015625\n",
            "668.813232421875\n",
            "668.809326171875\n",
            "668.8053588867188\n",
            "668.8013916015625\n",
            "668.7974853515625\n",
            "668.7935791015625\n",
            "668.7897338867188\n",
            "668.7857666015625\n",
            "668.7817993164062\n",
            "668.7779541015625\n",
            "668.7739868164062\n",
            "668.7701416015625\n",
            "668.76611328125\n",
            "668.7622680664062\n",
            "668.7583618164062\n",
            "668.7544555664062\n",
            "668.7504272460938\n",
            "668.74658203125\n",
            "668.74267578125\n",
            "668.73876953125\n",
            "668.7347412109375\n",
            "668.7308349609375\n",
            "668.7269287109375\n",
            "668.7230224609375\n",
            "668.7190551757812\n",
            "668.7152099609375\n",
            "668.7113037109375\n",
            "668.7073974609375\n",
            "668.7034301757812\n",
            "668.6995239257812\n",
            "668.6956787109375\n",
            "668.6917114257812\n",
            "668.6878662109375\n",
            "668.6838989257812\n",
            "668.679931640625\n",
            "668.6760864257812\n",
            "668.6722412109375\n",
            "668.6683349609375\n",
            "668.6642456054688\n",
            "668.6604614257812\n",
            "668.6564331054688\n",
            "668.652587890625\n",
            "668.6486206054688\n",
            "668.6447143554688\n",
            "668.6408081054688\n",
            "668.6369018554688\n",
            "668.6329956054688\n",
            "668.629150390625\n",
            "668.6251831054688\n",
            "668.6212158203125\n",
            "668.6173706054688\n",
            "668.6134643554688\n",
            "668.6094970703125\n",
            "668.6056518554688\n",
            "668.6016845703125\n",
            "668.5977783203125\n",
            "668.5938720703125\n",
            "668.5899658203125\n",
            "668.5860595703125\n",
            "668.5822143554688\n",
            "668.5782470703125\n",
            "668.5743408203125\n",
            "668.5704345703125\n",
            "668.5665283203125\n",
            "668.5626220703125\n",
            "668.5587158203125\n",
            "668.5548095703125\n",
            "668.5509033203125\n",
            "668.5469970703125\n",
            "668.5430908203125\n",
            "668.5391235351562\n",
            "668.5352783203125\n",
            "668.5313110351562\n",
            "668.5274658203125\n",
            "668.5235595703125\n",
            "668.51953125\n",
            "668.5157470703125\n",
            "668.5117797851562\n",
            "668.5078125\n",
            "668.5040283203125\n",
            "668.5001220703125\n",
            "668.4961547851562\n",
            "668.4922485351562\n",
            "668.4883422851562\n",
            "668.484375\n",
            "668.4805908203125\n",
            "668.4766845703125\n",
            "668.47265625\n",
            "668.4688720703125\n",
            "668.46484375\n",
            "668.4609985351562\n",
            "668.4571533203125\n",
            "668.453125\n",
            "668.4492797851562\n",
            "668.4453735351562\n",
            "668.4414672851562\n",
            "668.4376220703125\n",
            "668.4336547851562\n",
            "668.4298095703125\n",
            "668.42578125\n",
            "668.4219970703125\n",
            "668.4180908203125\n",
            "668.4141845703125\n",
            "668.4102172851562\n",
            "668.4063110351562\n",
            "668.4024047851562\n",
            "668.3986206054688\n",
            "668.3946533203125\n",
            "668.3906860351562\n",
            "668.3868408203125\n",
            "668.3829345703125\n",
            "668.3790283203125\n",
            "668.3751220703125\n",
            "668.3712768554688\n",
            "668.3673706054688\n",
            "668.3634033203125\n",
            "668.3595581054688\n",
            "668.3555908203125\n",
            "668.3517456054688\n",
            "668.3477783203125\n",
            "668.3438110351562\n",
            "668.3400268554688\n",
            "668.3360595703125\n",
            "668.3322143554688\n",
            "668.3282470703125\n",
            "668.324462890625\n",
            "668.3204345703125\n",
            "668.3167114257812\n",
            "668.312744140625\n",
            "668.3087768554688\n",
            "668.3049926757812\n",
            "668.3009643554688\n",
            "668.297119140625\n",
            "668.293212890625\n",
            "668.2894287109375\n",
            "668.2854614257812\n",
            "668.2816162109375\n",
            "668.2777099609375\n",
            "668.273681640625\n",
            "668.2698364257812\n",
            "668.2659912109375\n",
            "668.2620849609375\n",
            "668.2581787109375\n",
            "668.2543334960938\n",
            "668.2503662109375\n",
            "668.2464599609375\n",
            "668.2425537109375\n",
            "668.2387084960938\n",
            "668.2348022460938\n",
            "668.2308349609375\n",
            "668.2269897460938\n",
            "668.22314453125\n",
            "668.2191772460938\n",
            "668.2152709960938\n",
            "668.2114868164062\n",
            "668.2075805664062\n",
            "668.2037353515625\n",
            "668.19970703125\n",
            "668.19580078125\n",
            "668.1920166015625\n",
            "668.1880493164062\n",
            "668.1841430664062\n",
            "668.1802978515625\n",
            "668.1763305664062\n",
            "668.1724853515625\n",
            "668.1685791015625\n",
            "668.1646728515625\n",
            "668.1608276367188\n",
            "668.1568603515625\n",
            "668.153076171875\n",
            "668.1490478515625\n",
            "668.145263671875\n",
            "668.1412963867188\n",
            "668.137451171875\n",
            "668.133544921875\n",
            "668.1296997070312\n",
            "668.1257934570312\n",
            "668.1218872070312\n",
            "668.1180419921875\n",
            "668.1141357421875\n",
            "668.1102294921875\n",
            "668.1063232421875\n",
            "668.1024169921875\n",
            "668.0985107421875\n"
          ]
        }
      ],
      "source": [
        "for i in range(1000): apply_step(params)"
      ]
    },
    {
      "cell_type": "code",
      "execution_count": 81,
      "metadata": {
        "id": "FMJHA_DUr-PF"
      },
      "outputs": [],
      "source": [
        "#hide\n",
        "params = orig_params.detach().requires_grad_()"
      ]
    },
    {
      "cell_type": "markdown",
      "metadata": {
        "id": "4D1A8AfJr-PF"
      },
      "source": [
        "The loss is going down, just as we hoped! But looking only at these loss numbers disguises the fact that each iteration represents an entirely different quadratic function being tried, on the way to finding the best possible quadratic function. We can see this process visually if, instead of printing out the loss function, we plot the function at every step. Then we can see how the shape is approaching the best possible quadratic function for our data:"
      ]
    },
    {
      "cell_type": "code",
      "execution_count": 97,
      "metadata": {
        "id": "e4vL0X7dr-PF",
        "outputId": "f258414c-9027-4bf3-d385-2d50c77e8058"
      },
      "outputs": [
        {
          "data": {
            "image/png": "[encoded data removed]",
            "text/plain": [
              "<Figure size 1200x300 with 8 Axes>"
            ]
          },
          "metadata": {},
          "output_type": "display_data"
        }
      ],
      "source": [
        "_,axs = plt.subplots(1,8,figsize=(12,3))\n",
        "for ax in axs: show_preds(apply_step(params, False), ax)\n",
        "plt.tight_layout()"
      ]
    },
    {
      "cell_type": "markdown",
      "metadata": {
        "id": "QKaYTjAFr-PF"
      },
      "source": [
        "#### Step 7: stop"
      ]
    },
    {
      "cell_type": "markdown",
      "metadata": {
        "id": "2vxRsJ40r-PF"
      },
      "source": [
        "We just decided to stop after 10 epochs arbitrarily. In practice, we would watch the training and validation losses and our metrics to decide when to stop, as we've discussed."
      ]
    },
    {
      "cell_type": "markdown",
      "metadata": {
        "id": "l-gYlYbXr-PG"
      },
      "source": [
        "### Summarizing Gradient Descent"
      ]
    },
    {
      "cell_type": "code",
      "execution_count": null,
      "metadata": {
        "hide_input": false,
        "id": "f6nleY3pr-PG",
        "outputId": "3635a6b5-4c27-4f1b-dc86-82b8ad12a34c"
      },
      "outputs": [
        {
          "data": {
            "image/svg+xml": [
              "<?xml version=\"1.0\" encoding=\"UTF-8\" standalone=\"no\"?>\n",
              "<!DOCTYPE svg PUBLIC \"-//W3C//DTD SVG 1.1//EN\"\n",
              " \"http://www.w3.org/Graphics/SVG/1.1/DTD/svg11.dtd\">\n",
              "<!-- Generated by graphviz version 2.40.1 (20161225.0304)\n",
              " -->\n",
              "<!-- Title: G Pages: 1 -->\n",
              "<svg width=\"591pt\" height=\"78pt\"\n",
              " viewBox=\"0.00 0.00 591.49 78.00\" xmlns=\"http://www.w3.org/2000/svg\" xmlns:xlink=\"http://www.w3.org/1999/xlink\">\n",
              "<g id=\"graph0\" class=\"graph\" transform=\"scale(1 1) rotate(0) translate(4 74)\">\n",
              "<title>G</title>\n",
              "<polygon fill=\"#ffffff\" stroke=\"transparent\" points=\"-4,4 -4,-74 587.4867,-74 587.4867,4 -4,4\"/>\n",
              "<!-- init -->\n",
              "<g id=\"node1\" class=\"node\">\n",
              "<title>init</title>\n",
              "<ellipse fill=\"none\" stroke=\"#000000\" cx=\"27\" cy=\"-18\" rx=\"27\" ry=\"18\"/>\n",
              "<text text-anchor=\"middle\" x=\"27\" y=\"-14.3\" font-family=\"Times,serif\" font-size=\"14.00\" fill=\"#000000\">init</text>\n",
              "</g>\n",
              "<!-- predict -->\n",
              "<g id=\"node2\" class=\"node\">\n",
              "<title>predict</title>\n",
              "<ellipse fill=\"none\" stroke=\"#000000\" cx=\"126.0969\" cy=\"-18\" rx=\"35.194\" ry=\"18\"/>\n",
              "<text text-anchor=\"middle\" x=\"126.0969\" y=\"-14.3\" font-family=\"Times,serif\" font-size=\"14.00\" fill=\"#000000\">predict</text>\n",
              "</g>\n",
              "<!-- init&#45;&gt;predict -->\n",
              "<g id=\"edge1\" class=\"edge\">\n",
              "<title>init&#45;&gt;predict</title>\n",
              "<path fill=\"none\" stroke=\"#000000\" d=\"M54.0787,-18C62.3227,-18 71.6196,-18 80.7269,-18\"/>\n",
              "<polygon fill=\"#000000\" stroke=\"#000000\" points=\"80.8626,-21.5001 90.8626,-18 80.8625,-14.5001 80.8626,-21.5001\"/>\n",
              "</g>\n",
              "<!-- loss -->\n",
              "<g id=\"node3\" class=\"node\">\n",
              "<title>loss</title>\n",
              "<ellipse fill=\"none\" stroke=\"#000000\" cx=\"225.1938\" cy=\"-52\" rx=\"27\" ry=\"18\"/>\n",
              "<text text-anchor=\"middle\" x=\"225.1938\" y=\"-48.3\" font-family=\"Times,serif\" font-size=\"14.00\" fill=\"#000000\">loss</text>\n",
              "</g>\n",
              "<!-- predict&#45;&gt;loss -->\n",
              "<g id=\"edge2\" class=\"edge\">\n",
              "<title>predict&#45;&gt;loss</title>\n",
              "<path fill=\"none\" stroke=\"#000000\" d=\"M155.2932,-28.0172C166.6224,-31.9043 179.6698,-36.3808 191.4018,-40.406\"/>\n",
              "<polygon fill=\"#000000\" stroke=\"#000000\" points=\"190.2859,-43.7234 200.8806,-43.6582 192.5577,-37.1023 190.2859,-43.7234\"/>\n",
              "</g>\n",
              "<!-- gradient -->\n",
              "<g id=\"node4\" class=\"node\">\n",
              "<title>gradient</title>\n",
              "<ellipse fill=\"none\" stroke=\"#000000\" cx=\"361.8403\" cy=\"-52\" rx=\"39.7935\" ry=\"18\"/>\n",
              "<text text-anchor=\"middle\" x=\"361.8403\" y=\"-48.3\" font-family=\"Times,serif\" font-size=\"14.00\" fill=\"#000000\">gradient</text>\n",
              "</g>\n",
              "<!-- loss&#45;&gt;gradient -->\n",
              "<g id=\"edge3\" class=\"edge\">\n",
              "<title>loss&#45;&gt;gradient</title>\n",
              "<path fill=\"none\" stroke=\"#000000\" d=\"M252.5178,-52C269.4967,-52 291.836,-52 311.8929,-52\"/>\n",
              "<polygon fill=\"#000000\" stroke=\"#000000\" points=\"312.1329,-55.5001 322.1329,-52 312.1328,-48.5001 312.1329,-55.5001\"/>\n",
              "</g>\n",
              "<!-- step -->\n",
              "<g id=\"node5\" class=\"node\">\n",
              "<title>step</title>\n",
              "<ellipse fill=\"none\" stroke=\"#000000\" cx=\"465.4867\" cy=\"-18\" rx=\"27\" ry=\"18\"/>\n",
              "<text text-anchor=\"middle\" x=\"465.4867\" y=\"-14.3\" font-family=\"Times,serif\" font-size=\"14.00\" fill=\"#000000\">step</text>\n",
              "</g>\n",
              "<!-- gradient&#45;&gt;step -->\n",
              "<g id=\"edge4\" class=\"edge\">\n",
              "<title>gradient&#45;&gt;step</title>\n",
              "<path fill=\"none\" stroke=\"#000000\" d=\"M394.0665,-41.4286C405.9515,-37.5298 419.4492,-33.1021 431.4862,-29.1535\"/>\n",
              "<polygon fill=\"#000000\" stroke=\"#000000\" points=\"432.7754,-32.4142 441.1862,-25.9715 430.5935,-25.7629 432.7754,-32.4142\"/>\n",
              "</g>\n",
              "<!-- step&#45;&gt;predict -->\n",
              "<g id=\"edge6\" class=\"edge\">\n",
              "<title>step&#45;&gt;predict</title>\n",
              "<path fill=\"none\" stroke=\"#000000\" d=\"M438.4132,-18C380.3272,-18 243.2155,-18 171.5401,-18\"/>\n",
              "<polygon fill=\"#000000\" stroke=\"#000000\" points=\"171.4571,-14.5001 161.4571,-18 171.4571,-21.5001 171.4571,-14.5001\"/>\n",
              "<text text-anchor=\"middle\" x=\"287.1938\" y=\"-21.8\" font-family=\"Times,serif\" font-size=\"14.00\" fill=\"#000000\">repeat</text>\n",
              "</g>\n",
              "<!-- stop -->\n",
              "<g id=\"node6\" class=\"node\">\n",
              "<title>stop</title>\n",
              "<ellipse fill=\"none\" stroke=\"#000000\" cx=\"556.4867\" cy=\"-18\" rx=\"27\" ry=\"18\"/>\n",
              "<text text-anchor=\"middle\" x=\"556.4867\" y=\"-14.3\" font-family=\"Times,serif\" font-size=\"14.00\" fill=\"#000000\">stop</text>\n",
              "</g>\n",
              "<!-- step&#45;&gt;stop -->\n",
              "<g id=\"edge5\" class=\"edge\">\n",
              "<title>step&#45;&gt;stop</title>\n",
              "<path fill=\"none\" stroke=\"#000000\" d=\"M492.7897,-18C501.068,-18 510.3085,-18 519.1272,-18\"/>\n",
              "<polygon fill=\"#000000\" stroke=\"#000000\" points=\"519.203,-21.5001 529.203,-18 519.203,-14.5001 519.203,-21.5001\"/>\n",
              "</g>\n",
              "</g>\n",
              "</svg>\n"
            ],
            "text/plain": [
              "<graphviz.files.Source at 0x7f10d352e250>"
            ]
          },
          "execution_count": null,
          "metadata": {},
          "output_type": "execute_result"
        }
      ],
      "source": [
        "#hide_input\n",
        "#id gradient_descent\n",
        "#caption The gradient descent process\n",
        "#alt Graph showing the steps for Gradient Descent\n",
        "gv('''\n",
        "init->predict->loss->gradient->step->stop\n",
        "step->predict[label=repeat]\n",
        "''')"
      ]
    },
    {
      "cell_type": "markdown",
      "metadata": {
        "id": "cLomwMuSr-PG"
      },
      "source": [
        "To summarize, at the beginning, the weights of our model can be random (training *from scratch*) or come from a pretrained model (*transfer learning*). In the first case, the output we will get from our inputs won't have anything to do with what we want, and even in the second case, it's very likely the pretrained model won't be very good at the specific task we are targeting. So the model will need to *learn* better weights.\n",
        "\n",
        "We begin by comparing the outputs the model gives us with our targets (we have labeled data, so we know what result the model should give) using a *loss function*, which returns a number that we want to make as low as possible by improving our weights. To do this, we take a few data items (such as images) from the training set and feed them to our model. We compare the corresponding targets using our loss function, and the score we get tells us how wrong our predictions were. We then change the weights a little bit to make it slightly better.\n",
        "\n",
        "To find how to change the weights to make the loss a bit better, we use calculus to calculate the *gradients*. (Actually, we let PyTorch do it for us!) Let's consider an analogy. Imagine you are lost in the mountains with your car parked at the lowest point. To find your way back to it, you might wander in a random direction, but that probably wouldn't help much. Since you know your vehicle is at the lowest point, you would be better off going downhill. By always taking a step in the direction of the steepest downward slope, you should eventually arrive at your destination. We use the magnitude of the gradient (i.e., the steepness of the slope) to tell us how big a step to take; specifically, we multiply the gradient by a number we choose called the *learning rate* to decide on the step size. We then *iterate* until we have reached the lowest point, which will be our parking lot, then we can *stop*.\n",
        "\n",
        "All of that we just saw can be transposed directly to the MNIST dataset, except for the loss function. Let's now see how we can define a good training objective."
      ]
    },
    {
      "cell_type": "markdown",
      "metadata": {
        "id": "U7sfdOSvr-PG"
      },
      "source": [
        "## The MNIST Loss Function"
      ]
    },
    {
      "cell_type": "markdown",
      "metadata": {
        "id": "MfCfSehGr-PG"
      },
      "source": [
        "We already have our independent variables `x`—these are the images themselves. We'll concatenate them all into a single tensor, and also change them from a list of matrices (a rank-3 tensor) to a list of vectors (a rank-2 tensor). We can do this using `view`, which is a PyTorch method that changes the shape of a tensor without changing its contents. `-1` is a special parameter to `view` that means \"make this axis as big as necessary to fit all the data\":"
      ]
    },
    {
      "cell_type": "code",
      "execution_count": 99,
      "metadata": {
        "id": "oehPrUjHr-PH"
      },
      "outputs": [
        {
          "data": {
            "text/plain": [
              "torch.Size([12396, 784])"
            ]
          },
          "execution_count": 99,
          "metadata": {},
          "output_type": "execute_result"
        }
      ],
      "source": [
        "train_x = torch.cat([stacked_threes, stacked_sevens]).view(-1, 28*28)\n",
        "train_x.shape"
      ]
    },
    {
      "cell_type": "markdown",
      "metadata": {
        "id": "Ms_sgNGQr-PH"
      },
      "source": [
        "We need a label for each image. We'll use `1` for 3s and `0` for 7s:"
      ]
    },
    {
      "cell_type": "code",
      "execution_count": 100,
      "metadata": {
        "id": "J-9xQaGvr-PH",
        "outputId": "3eed2412-0e28-454e-8ae0-fc5dac030b73"
      },
      "outputs": [
        {
          "data": {
            "text/plain": [
              "(torch.Size([12396, 784]), torch.Size([12396, 1]))"
            ]
          },
          "execution_count": 100,
          "metadata": {},
          "output_type": "execute_result"
        }
      ],
      "source": [
        "train_y = tensor([1]*len(threes) + [0]*len(sevens)).unsqueeze(1)\n",
        "train_x.shape,train_y.shape"
      ]
    },
    {
      "cell_type": "markdown",
      "metadata": {
        "id": "VTg2AOPhr-PH"
      },
      "source": [
        "A `Dataset` in PyTorch is required to return a tuple of `(x,y)` when indexed. Python provides a `zip` function which, when combined with `list`, provides a simple way to get this functionality:"
      ]
    },
    {
      "cell_type": "code",
      "execution_count": 101,
      "metadata": {
        "id": "Nxku5ruqr-PH",
        "outputId": "fbc9ecb8-60f7-48c9-d93d-028cc6bd6173"
      },
      "outputs": [
        {
          "data": {
            "text/plain": [
              "(torch.Size([784]), tensor([1]))"
            ]
          },
          "execution_count": 101,
          "metadata": {},
          "output_type": "execute_result"
        }
      ],
      "source": [
        "dset = list(zip(train_x,train_y))\n",
        "x,y = dset[0]\n",
        "x.shape,y"
      ]
    },
    {
      "cell_type": "code",
      "execution_count": 102,
      "metadata": {
        "id": "txnn9Di9r-PH"
      },
      "outputs": [],
      "source": [
        "valid_x = torch.cat([valid_3_tens, valid_7_tens]).view(-1, 28*28)\n",
        "valid_y = tensor([1]*len(valid_3_tens) + [0]*len(valid_7_tens)).unsqueeze(1)\n",
        "valid_dset = list(zip(valid_x,valid_y))"
      ]
    },
    {
      "cell_type": "markdown",
      "metadata": {
        "id": "2XvR82Evr-PH"
      },
      "source": [
        "Now we need an (initially random) weight for every pixel (this is the *initialize* step in our seven-step process):"
      ]
    },
    {
      "cell_type": "code",
      "execution_count": 103,
      "metadata": {
        "id": "ZDuzpvDer-PI"
      },
      "outputs": [],
      "source": [
        "def init_params(size, std=1.0): return (torch.randn(size)*std).requires_grad_()"
      ]
    },
    {
      "cell_type": "code",
      "execution_count": 104,
      "metadata": {
        "id": "1aGNQIdKr-PI"
      },
      "outputs": [],
      "source": [
        "weights = init_params((28*28,1))"
      ]
    },
    {
      "cell_type": "markdown",
      "metadata": {
        "id": "ShNq3-9ir-PI"
      },
      "source": [
        "The function `weights*pixels` won't be flexible enough—it is always equal to 0 when the pixels are equal to 0 (i.e., its *intercept* is 0). You might remember from high school math that the formula for a line is `y=w*x+b`; we still need the `b`. We'll initialize it to a random number too:"
      ]
    },
    {
      "cell_type": "code",
      "execution_count": 105,
      "metadata": {
        "id": "FJ_S00PXr-PI"
      },
      "outputs": [],
      "source": [
        "bias = init_params(1)"
      ]
    },
    {
      "cell_type": "markdown",
      "metadata": {
        "id": "_hT6lPmwr-PI"
      },
      "source": [
        "In neural networks, the `w` in the equation `y=w*x+b` is called the *weights*, and the `b` is called the *bias*. Together, the weights and bias make up the *parameters*."
      ]
    },
    {
      "cell_type": "markdown",
      "metadata": {
        "id": "oIenXaY1r-PI"
      },
      "source": [
        "> jargon: Parameters: The _weights_ and _biases_ of a model. The weights are the `w` in the equation `w*x+b`, and the biases are the `b` in that equation."
      ]
    },
    {
      "cell_type": "markdown",
      "metadata": {
        "id": "Qi8miJN6r-PJ"
      },
      "source": [
        "We can now calculate a prediction for one image:"
      ]
    },
    {
      "cell_type": "code",
      "execution_count": 106,
      "metadata": {
        "id": "HWTW02kLr-PJ",
        "outputId": "a8f3152a-b8c3-44e9-92c6-590dd6cb9ff8"
      },
      "outputs": [
        {
          "data": {
            "text/plain": [
              "tensor([20.2336], grad_fn=<AddBackward0>)"
            ]
          },
          "execution_count": 106,
          "metadata": {},
          "output_type": "execute_result"
        }
      ],
      "source": [
        "(train_x[0]*weights.T).sum() + bias"
      ]
    },
    {
      "cell_type": "markdown",
      "metadata": {
        "id": "9Ztn1ePOr-PJ"
      },
      "source": [
        "While we could use a Python `for` loop to calculate the prediction for each image, that would be very slow. Because Python loops don't run on the GPU, and because Python is a slow language for loops in general, we need to represent as much of the computation in a model as possible using higher-level functions.\n",
        "\n",
        "In this case, there's an extremely convenient mathematical operation that calculates `w*x` for every row of a matrix—it's called *matrix multiplication*. <<matmul>> shows what matrix multiplication looks like."
      ]
    },
    {
      "cell_type": "markdown",
      "metadata": {
        "id": "konQBPasr-PJ"
      },
      "source": [
        "<img alt=\"Matrix multiplication\" width=\"400\" caption=\"Matrix multiplication\" src=\"https://github.com/fastai/fastbook/blob/master/images/matmul2.svg?raw=1\" id=\"matmul\"/>"
      ]
    },
    {
      "cell_type": "markdown",
      "metadata": {
        "id": "NwXA4kZrr-PJ"
      },
      "source": [
        "This image shows two matrices, `A` and `B`, being multiplied together. Each item of the result, which we'll call `AB`, contains each item of its corresponding row of `A` multiplied by each item of its corresponding column of `B`, added together. For instance, row 1, column 2 (the yellow dot with a red border) is calculated as $a_{1,1} * b_{1,2} + a_{1,2} * b_{2,2}$. If you need a refresher on matrix multiplication, we suggest you take a look at the [Intro to Matrix Multiplication](https://youtu.be/kT4Mp9EdVqs) on *Khan Academy*, since this is the most important mathematical operation in deep learning.\n",
        "\n",
        "In Python, matrix multiplication is represented with the `@` operator. Let's try it:"
      ]
    },
    {
      "cell_type": "code",
      "execution_count": 107,
      "metadata": {
        "id": "a1TeVis6r-PN",
        "outputId": "a1aebadf-2a9e-477a-e5a3-6140723b4547"
      },
      "outputs": [
        {
          "data": {
            "text/plain": [
              "tensor([[20.2336],\n",
              "        [17.0644],\n",
              "        [15.2384],\n",
              "        ...,\n",
              "        [18.3804],\n",
              "        [23.8567],\n",
              "        [28.6816]], grad_fn=<AddBackward0>)"
            ]
          },
          "execution_count": 107,
          "metadata": {},
          "output_type": "execute_result"
        }
      ],
      "source": [
        "def linear1(xb): return xb@weights + bias\n",
        "preds = linear1(train_x)\n",
        "preds"
      ]
    },
    {
      "cell_type": "markdown",
      "metadata": {
        "id": "LR7sjjzhr-PN"
      },
      "source": [
        "The first element is the same as we calculated before, as we'd expect. This equation, `batch@weights + bias`, is one of the two fundamental equations of any neural network (the other one is the *activation function*, which we'll see in a moment)."
      ]
    },
    {
      "cell_type": "markdown",
      "metadata": {
        "id": "JF71PjGYr-PN"
      },
      "source": [
        "Let's check our accuracy. To decide if an output represents a 3 or a 7, we can just check whether it's greater than 0.0, so our accuracy for each item can be calculated (using broadcasting, so no loops!) with:"
      ]
    },
    {
      "cell_type": "code",
      "execution_count": 108,
      "metadata": {
        "id": "_e4N3vGKr-PN",
        "outputId": "abd0ccc1-48db-45d6-89d9-f5b22bf1297a"
      },
      "outputs": [
        {
          "data": {
            "text/plain": [
              "tensor([[ True],\n",
              "        [ True],\n",
              "        [ True],\n",
              "        ...,\n",
              "        [False],\n",
              "        [False],\n",
              "        [False]])"
            ]
          },
          "execution_count": 108,
          "metadata": {},
          "output_type": "execute_result"
        }
      ],
      "source": [
        "corrects = (preds>0.0).float() == train_y\n",
        "corrects"
      ]
    },
    {
      "cell_type": "code",
      "execution_count": 109,
      "metadata": {
        "id": "zOo2JMl6r-PN",
        "outputId": "d86e4229-6499-4dca-8f11-9ff331247e95"
      },
      "outputs": [
        {
          "data": {
            "text/plain": [
              "0.4912068545818329"
            ]
          },
          "execution_count": 109,
          "metadata": {},
          "output_type": "execute_result"
        }
      ],
      "source": [
        "corrects.float().mean().item()"
      ]
    },
    {
      "cell_type": "markdown",
      "metadata": {
        "id": "04z8INB8r-PN"
      },
      "source": [
        "Now let's see what the change in accuracy is for a small change in one of the weights (note that we have to ask PyTorch not to calculate gradients as we do this, which is what `with torch.no_grad()` is doing here):"
      ]
    },
    {
      "cell_type": "code",
      "execution_count": 110,
      "metadata": {
        "id": "lhClpkfxr-PN"
      },
      "outputs": [],
      "source": [
        "with torch.no_grad(): weights[0] *= 1.0001"
      ]
    },
    {
      "cell_type": "code",
      "execution_count": 111,
      "metadata": {
        "id": "eh3t82qqr-PN",
        "outputId": "2c96a743-b3a9-4965-934c-9fb708f8b016"
      },
      "outputs": [
        {
          "data": {
            "text/plain": [
              "0.4912068545818329"
            ]
          },
          "execution_count": 111,
          "metadata": {},
          "output_type": "execute_result"
        }
      ],
      "source": [
        "preds = linear1(train_x)\n",
        "((preds>0.0).float() == train_y).float().mean().item()"
      ]
    },
    {
      "cell_type": "markdown",
      "metadata": {
        "id": "gJUzGSk1r-PN"
      },
      "source": [
        "As we've seen, we need gradients in order to improve our model using SGD, and in order to calculate gradients we need some *loss function* that represents how good our model is. That is because the gradients are a measure of how that loss function changes with small tweaks to the weights.\n",
        "\n",
        "So, we need to choose a loss function. The obvious approach would be to use accuracy, which is our metric, as our loss function as well. In this case, we would calculate our prediction for each image, collect these values to calculate an overall accuracy, and then calculate the gradients of each weight with respect to that overall accuracy.\n",
        "\n",
        "Unfortunately, we have a significant technical problem here. The gradient of a function is its *slope*, or its steepness, which can be defined as *rise over run*—that is, how much the value of the function goes up or down, divided by how much we changed the input. We can write this in mathematically as: `(y_new - y_old) / (x_new - x_old)`. This gives us a good approximation of the gradient when `x_new` is very similar to `x_old`, meaning that their difference is very small. But accuracy only changes at all when a prediction changes from a 3 to a 7, or vice versa. The problem is that a small change in weights from `x_old` to `x_new` isn't likely to cause any prediction to change, so `(y_new - y_old)` will almost always be 0. In other words, the gradient is 0 almost everywhere."
      ]
    },
    {
      "cell_type": "markdown",
      "metadata": {
        "id": "CzrKel6cr-PO"
      },
      "source": [
        "A very small change in the value of a weight will often not actually change the accuracy at all. This means it is not useful to use accuracy as a loss function—if we do, most of the time our gradients will actually be 0, and the model will not be able to learn from that number.\n",
        "\n",
        "> S: In mathematical terms, accuracy is a function that is constant almost everywhere (except at the threshold, 0.5), so its derivative is nil almost everywhere (and infinity at the threshold). This then gives gradients that are 0 or infinite, which are useless for updating the model.\n",
        "\n",
        "Instead, we need a loss function which, when our weights result in slightly better predictions, gives us a slightly better loss. So what does a \"slightly better prediction\" look like, exactly? Well, in this case, it means that if the correct answer is a 3 the score is a little higher, or if the correct answer is a 7 the score is a little lower.\n",
        "\n",
        "Let's write such a function now. What form does it take?\n",
        "\n",
        "The loss function receives not the images themselves, but the predictions from the model. Let's make one argument, `prds`, of values between 0 and 1, where each value is the prediction that an image is a 3. It is a vector (i.e., a rank-1 tensor), indexed over the images.\n",
        "\n",
        "The purpose of the loss function is to measure the difference between predicted values and the true values — that is, the targets (aka labels). Let's make another argument, `trgts`, with values of 0 or 1 which tells whether an image actually is a 3 or not. It is also a vector (i.e., another rank-1 tensor), indexed over the images.\n",
        "\n",
        "So, for instance, suppose we had three images which we knew were a 3, a 7, and a 3. And suppose our model predicted with high confidence (`0.9`) that the first was a 3, with slight confidence (`0.4`) that the second was a 7, and with fair confidence (`0.2`), but incorrectly, that the last was a 7. This would mean our loss function would receive these values as its inputs:"
      ]
    },
    {
      "cell_type": "code",
      "execution_count": 112,
      "metadata": {
        "id": "nvGfhO6Ur-PO"
      },
      "outputs": [],
      "source": [
        "trgts  = tensor([1,0,1])\n",
        "prds   = tensor([0.9, 0.4, 0.2])"
      ]
    },
    {
      "cell_type": "markdown",
      "metadata": {
        "id": "pTCknRgdr-PO"
      },
      "source": [
        "Here's a first try at a loss function that measures the distance between `predictions` and `targets`:"
      ]
    },
    {
      "cell_type": "code",
      "execution_count": 113,
      "metadata": {
        "id": "B8l-Z6-br-PO"
      },
      "outputs": [],
      "source": [
        "def mnist_loss(predictions, targets):\n",
        "    return torch.where(targets==1, 1-predictions, predictions).mean()"
      ]
    },
    {
      "cell_type": "markdown",
      "metadata": {
        "id": "2JAel3Btr-PO"
      },
      "source": [
        "We're using a new function, `torch.where(a,b,c)`. This is the same as running the list comprehension `[b[i] if a[i] else c[i] for i in range(len(a))]`, except it works on tensors, at C/CUDA speed. In plain English, this function will measure how distant each prediction is from 1 if it should be 1, and how distant it is from 0 if it should be 0, and then it will take the mean of all those distances.\n",
        "\n",
        "> note: Read the Docs: It's important to learn about PyTorch functions like this, because looping over tensors in Python performs at Python speed, not C/CUDA speed! Try running `help(torch.where)` now to read the docs for this function, or, better still, look it up on the PyTorch documentation site."
      ]
    },
    {
      "cell_type": "markdown",
      "metadata": {
        "id": "sJfAZYqZr-PP"
      },
      "source": [
        "Let's try it on our `prds` and `trgts`:"
      ]
    },
    {
      "cell_type": "code",
      "execution_count": 114,
      "metadata": {
        "id": "erRAMbFfr-PP",
        "outputId": "1d0f6f26-66c0-4bc6-d45f-79e7c40b2803"
      },
      "outputs": [
        {
          "data": {
            "text/plain": [
              "tensor([0.1000, 0.4000, 0.8000])"
            ]
          },
          "execution_count": 114,
          "metadata": {},
          "output_type": "execute_result"
        }
      ],
      "source": [
        "torch.where(trgts==1, 1-prds, prds)"
      ]
    },
    {
      "cell_type": "markdown",
      "metadata": {
        "id": "aI2O6CMcr-PP"
      },
      "source": [
        "You can see that this function returns a lower number when predictions are more accurate, when accurate predictions are more confident (higher absolute values), and when inaccurate predictions are less confident. In PyTorch, we always assume that a lower value of a loss function is better. Since we need a scalar for the final loss, `mnist_loss` takes the mean of the previous tensor:"
      ]
    },
    {
      "cell_type": "code",
      "execution_count": null,
      "metadata": {
        "id": "hEnvSPLqr-PP",
        "outputId": "26373815-dbc1-4df1-8261-72d9e5a9f50d"
      },
      "outputs": [
        {
          "data": {
            "text/plain": [
              "tensor(0.4333)"
            ]
          },
          "execution_count": null,
          "metadata": {},
          "output_type": "execute_result"
        }
      ],
      "source": [
        "mnist_loss(prds,trgts)"
      ]
    },
    {
      "cell_type": "markdown",
      "metadata": {
        "id": "zkRjV8ugr-PP"
      },
      "source": [
        "For instance, if we change our prediction for the one \"false\" target from `0.2` to `0.8` the loss will go down, indicating that this is a better prediction:"
      ]
    },
    {
      "cell_type": "code",
      "execution_count": null,
      "metadata": {
        "id": "FK1xKnb5r-PP",
        "outputId": "caa74f2f-0624-44d2-8641-a5b4c5ffa400"
      },
      "outputs": [
        {
          "data": {
            "text/plain": [
              "tensor(0.2333)"
            ]
          },
          "execution_count": null,
          "metadata": {},
          "output_type": "execute_result"
        }
      ],
      "source": [
        "mnist_loss(tensor([0.9, 0.4, 0.8]),trgts)"
      ]
    },
    {
      "cell_type": "markdown",
      "metadata": {
        "id": "cMO34WUCr-PP"
      },
      "source": [
        "One problem with `mnist_loss` as currently defined is that it assumes that predictions are always between 0 and 1. We need to ensure, then, that this is actually the case! As it happens, there is a function that does exactly that—let's take a look."
      ]
    },
    {
      "cell_type": "markdown",
      "metadata": {
        "id": "h_1g6nsIr-PP"
      },
      "source": [
        "### Sigmoid"
      ]
    },
    {
      "cell_type": "markdown",
      "metadata": {
        "id": "Nuag3B7Nr-PP"
      },
      "source": [
        "The `sigmoid` function always outputs a number between 0 and 1. It's defined as follows:"
      ]
    },
    {
      "cell_type": "code",
      "execution_count": 115,
      "metadata": {
        "id": "j4S43-etr-PP"
      },
      "outputs": [],
      "source": [
        "def sigmoid(x): return 1/(1+torch.exp(-x))"
      ]
    },
    {
      "cell_type": "markdown",
      "metadata": {
        "id": "9LQhU7tSr-PP"
      },
      "source": [
        "Pytorch defines an accelerated version for us, so we don’t really need our own. This is an important function in deep learning, since we often want to ensure values are between 0 and 1. This is what it looks like:"
      ]
    },
    {
      "cell_type": "code",
      "execution_count": 116,
      "metadata": {
        "id": "9piCjfUfr-PQ",
        "outputId": "9a2b26d5-148b-44a3-d843-3376f0e4085d"
      },
      "outputs": [
        {
          "data": {
            "image/png": "[encoded data removed]",
            "text/plain": [
              "<Figure size 600x400 with 1 Axes>"
            ]
          },
          "metadata": {},
          "output_type": "display_data"
        }
      ],
      "source": [
        "plot_function(torch.sigmoid, title='Sigmoid', min=-4, max=4)"
      ]
    },
    {
      "cell_type": "markdown",
      "metadata": {
        "id": "0Q19r7yBr-PQ"
      },
      "source": [
        "As you can see, it takes any input value, positive or negative, and smooshes it onto an output value between 0 and 1. It's also a smooth curve that only goes up, which makes it easier for SGD to find meaningful gradients.\n",
        "\n",
        "Let's update `mnist_loss` to first apply `sigmoid` to the inputs:"
      ]
    },
    {
      "cell_type": "code",
      "execution_count": 117,
      "metadata": {
        "id": "0MnR7w_Xr-PQ"
      },
      "outputs": [],
      "source": [
        "def mnist_loss(predictions, targets):\n",
        "    predictions = predictions.sigmoid()\n",
        "    return torch.where(targets==1, 1-predictions, predictions).mean()"
      ]
    },
    {
      "cell_type": "markdown",
      "metadata": {
        "id": "-EX7TDVfr-PQ"
      },
      "source": [
        "Now we can be confident our loss function will work, even if the predictions are not between 0 and 1. All that is required is that a higher prediction corresponds to higher confidence an image is a 3.\n",
        "\n",
        "Having defined a loss function, now is a good moment to recapitulate why we did this. After all, we already had a metric, which was overall accuracy. So why did we define a loss?\n",
        "\n",
        "The key difference is that the metric is to drive human understanding and the loss is to drive automated learning. To drive automated learning, the loss must be a function that has a meaningful derivative. It can't have big flat sections and large jumps, but instead must be reasonably smooth. This is why we designed a loss function that would respond to small changes in confidence level. This requirement means that sometimes it does not really reflect exactly what we are trying to achieve, but is rather a compromise between our real goal and a function that can be optimized using its gradient. The loss function is calculated for each item in our dataset, and then at the end of an epoch the loss values are all averaged and the overall mean is reported for the epoch.\n",
        "\n",
        "Metrics, on the other hand, are the numbers that we really care about. These are the values that are printed at the end of each epoch that tell us how our model is really doing. It is important that we learn to focus on these metrics, rather than the loss, when judging the performance of a model."
      ]
    },
    {
      "cell_type": "markdown",
      "metadata": {
        "id": "lGUqBeg-r-PQ"
      },
      "source": [
        "### SGD and Mini-Batches"
      ]
    },
    {
      "cell_type": "markdown",
      "metadata": {
        "id": "6_BjarIvr-PQ"
      },
      "source": [
        "Now that we have a loss function that is suitable for driving SGD, we can consider some of the details involved in the next phase of the learning process, which is to change or update the weights based on the gradients. This is called an *optimization step*.\n",
        "\n",
        "In order to take an optimization step we need to calculate the loss over one or more data items. How many should we use? We could calculate it for the whole dataset, and take the average, or we could calculate it for a single data item. But neither of these is ideal. Calculating it for the whole dataset would take a very long time. Calculating it for a single item would not use much information, so it would result in a very imprecise and unstable gradient. That is, you'd be going to the trouble of updating the weights, but taking into account only how that would improve the model's performance on that single item.\n",
        "\n",
        "So instead we take a compromise between the two: we calculate the average loss for a few data items at a time. This is called a *mini-batch*. The number of data items in the mini-batch is called the *batch size*. A larger batch size means that you will get a more accurate and stable estimate of your dataset's gradients from the loss function, but it will take longer, and you will process fewer mini-batches per epoch. Choosing a good batch size is one of the decisions you need to make as a deep learning practitioner to train your model quickly and accurately. We will talk about how to make this choice throughout this book.\n",
        "\n",
        "Another good reason for using mini-batches rather than calculating the gradient on individual data items is that, in practice, we nearly always do our training on an accelerator such as a GPU. These accelerators only perform well if they have lots of work to do at a time, so it's helpful if we can give them lots of data items to work on. Using mini-batches is one of the best ways to do this. However, if you give them too much data to work on at once, they run out of memory—making GPUs happy is also tricky!\n",
        "\n",
        "As we saw in our discussion of data augmentation in <<chapter_production>>, we get better generalization if we can vary things during training. One simple and effective thing we can vary is what data items we put in each mini-batch. Rather than simply enumerating our dataset in order for every epoch, instead what we normally do is randomly shuffle it on every epoch, before we create mini-batches. PyTorch and fastai provide a class that will do the shuffling and mini-batch collation for you, called `DataLoader`.\n",
        "\n",
        "A `DataLoader` can take any Python collection and turn it into an iterator over mini-batches, like so:"
      ]
    },
    {
      "cell_type": "code",
      "execution_count": 118,
      "metadata": {
        "id": "c2QUzXYAr-PQ",
        "outputId": "588567f0-ca0a-4cb8-ab52-67a7f8a790cc"
      },
      "outputs": [
        {
          "data": {
            "text/plain": [
              "[tensor([ 3, 12,  8, 10,  2]),\n",
              " tensor([ 9,  4,  7, 14,  5]),\n",
              " tensor([ 1, 13,  0,  6, 11])]"
            ]
          },
          "execution_count": 118,
          "metadata": {},
          "output_type": "execute_result"
        }
      ],
      "source": [
        "coll = range(15)\n",
        "dl = DataLoader(coll, batch_size=5, shuffle=True)\n",
        "list(dl)"
      ]
    },
    {
      "cell_type": "markdown",
      "metadata": {
        "id": "wJqTb2VZr-PQ"
      },
      "source": [
        "For training a model, we don't just want any Python collection, but a collection containing independent and dependent variables (that is, the inputs and targets of the model). A collection that contains tuples of independent and dependent variables is known in PyTorch as a `Dataset`. Here's an example of an extremely simple `Dataset`:"
      ]
    },
    {
      "cell_type": "code",
      "execution_count": 119,
      "metadata": {
        "id": "BKigX65tr-PQ",
        "outputId": "13af7de9-4c7c-4c94-ec2e-3208ccb53727"
      },
      "outputs": [
        {
          "data": {
            "text/plain": [
              "(#26) [(0, 'a'),(1, 'b'),(2, 'c'),(3, 'd'),(4, 'e'),(5, 'f'),(6, 'g'),(7, 'h'),(8, 'i'),(9, 'j'),(10, 'k'),(11, 'l'),(12, 'm'),(13, 'n'),(14, 'o'),(15, 'p'),(16, 'q'),(17, 'r'),(18, 's'),(19, 't')...]"
            ]
          },
          "execution_count": 119,
          "metadata": {},
          "output_type": "execute_result"
        }
      ],
      "source": [
        "ds = L(enumerate(string.ascii_lowercase))\n",
        "ds"
      ]
    },
    {
      "cell_type": "markdown",
      "metadata": {
        "id": "r4Sin0KOr-PQ"
      },
      "source": [
        "When we pass a `Dataset` to a `DataLoader` we will get back mini-batches which are themselves tuples of tensors representing batches of independent and dependent variables:"
      ]
    },
    {
      "cell_type": "code",
      "execution_count": 120,
      "metadata": {
        "id": "H-0-LZL5r-PR",
        "outputId": "62e6bfbd-11d1-4419-8395-6c56f3471fdf"
      },
      "outputs": [
        {
          "data": {
            "text/plain": [
              "[(tensor([17, 18, 10, 22,  8, 14]), ('r', 's', 'k', 'w', 'i', 'o')),\n",
              " (tensor([20, 15,  9, 13, 21, 12]), ('u', 'p', 'j', 'n', 'v', 'm')),\n",
              " (tensor([ 7, 25,  6,  5, 11, 23]), ('h', 'z', 'g', 'f', 'l', 'x')),\n",
              " (tensor([ 1,  3,  0, 24, 19, 16]), ('b', 'd', 'a', 'y', 't', 'q')),\n",
              " (tensor([2, 4]), ('c', 'e'))]"
            ]
          },
          "execution_count": 120,
          "metadata": {},
          "output_type": "execute_result"
        }
      ],
      "source": [
        "dl = DataLoader(ds, batch_size=6, shuffle=True)\n",
        "list(dl)"
      ]
    },
    {
      "cell_type": "markdown",
      "metadata": {
        "id": "hxex2jU2r-PR"
      },
      "source": [
        "We are now ready to write our first training loop for a model using SGD!"
      ]
    },
    {
      "cell_type": "markdown",
      "metadata": {
        "id": "1sB9yjFPr-PR"
      },
      "source": [
        "## Putting It All Together"
      ]
    },
    {
      "cell_type": "markdown",
      "metadata": {
        "id": "5g2wiQ8Mr-PR"
      },
      "source": [
        "It's time to implement the process we saw in <<gradient_descent>>. In code, our process will be implemented something like this for each epoch:\n",
        "\n",
        "```python\n",
        "for x,y in dl:\n",
        "    pred = model(x)\n",
        "    loss = loss_func(pred, y)\n",
        "    loss.backward()\n",
        "    parameters -= parameters.grad * lr\n",
        "```"
      ]
    },
    {
      "cell_type": "markdown",
      "metadata": {
        "id": "yKfrwuVgr-PR"
      },
      "source": [
        "First, let's re-initialize our parameters:"
      ]
    },
    {
      "cell_type": "code",
      "execution_count": 121,
      "metadata": {
        "id": "EeM3bBnFr-PR"
      },
      "outputs": [],
      "source": [
        "weights = init_params((28*28,1))\n",
        "bias = init_params(1)"
      ]
    },
    {
      "cell_type": "markdown",
      "metadata": {
        "id": "0YG-kn9Fr-PS"
      },
      "source": [
        "A `DataLoader` can be created from a `Dataset`:"
      ]
    },
    {
      "cell_type": "code",
      "execution_count": 122,
      "metadata": {
        "id": "DpJ6eXj-r-PS",
        "outputId": "76fd8506-0c62-4e81-e8ba-73b87ad8edad"
      },
      "outputs": [
        {
          "data": {
            "text/plain": [
              "(torch.Size([256, 784]), torch.Size([256, 1]))"
            ]
          },
          "execution_count": 122,
          "metadata": {},
          "output_type": "execute_result"
        }
      ],
      "source": [
        "dl = DataLoader(dset, batch_size=256)\n",
        "xb,yb = first(dl)\n",
        "xb.shape,yb.shape"
      ]
    },
    {
      "cell_type": "markdown",
      "metadata": {
        "id": "byiULG5or-PS"
      },
      "source": [
        "We'll do the same for the validation set:"
      ]
    },
    {
      "cell_type": "code",
      "execution_count": 123,
      "metadata": {
        "id": "8g9AaZi2r-PS"
      },
      "outputs": [],
      "source": [
        "valid_dl = DataLoader(valid_dset, batch_size=256)"
      ]
    },
    {
      "cell_type": "markdown",
      "metadata": {
        "id": "e8t3qYNYr-PS"
      },
      "source": [
        "Let's create a mini-batch of size 4 for testing:"
      ]
    },
    {
      "cell_type": "code",
      "execution_count": 124,
      "metadata": {
        "id": "DmMYXzIfr-PS",
        "outputId": "1fc6d3c6-98f3-432e-c5d2-d694dbb6923a"
      },
      "outputs": [
        {
          "data": {
            "text/plain": [
              "torch.Size([4, 784])"
            ]
          },
          "execution_count": 124,
          "metadata": {},
          "output_type": "execute_result"
        }
      ],
      "source": [
        "batch = train_x[:4]\n",
        "batch.shape"
      ]
    },
    {
      "cell_type": "code",
      "execution_count": 125,
      "metadata": {
        "id": "0jpo7lIIr-PS",
        "outputId": "065ddd4f-c33f-4cb6-854d-7a568cd7a9e1"
      },
      "outputs": [
        {
          "data": {
            "text/plain": [
              "tensor([[-2.1876],\n",
              "        [-8.3973],\n",
              "        [ 2.5000],\n",
              "        [-4.9473]], grad_fn=<AddBackward0>)"
            ]
          },
          "execution_count": 125,
          "metadata": {},
          "output_type": "execute_result"
        }
      ],
      "source": [
        "preds = linear1(batch)\n",
        "preds"
      ]
    },
    {
      "cell_type": "code",
      "execution_count": 126,
      "metadata": {
        "id": "SlQRuJSur-PS",
        "outputId": "f691db93-341f-4ffc-9d71-41fc5aeac62e"
      },
      "outputs": [
        {
          "data": {
            "text/plain": [
              "tensor(0.7419, grad_fn=<MeanBackward0>)"
            ]
          },
          "execution_count": 126,
          "metadata": {},
          "output_type": "execute_result"
        }
      ],
      "source": [
        "loss = mnist_loss(preds, train_y[:4])\n",
        "loss"
      ]
    },
    {
      "cell_type": "markdown",
      "metadata": {
        "id": "jEuyf0Oar-PS"
      },
      "source": [
        "Now we can calculate the gradients:"
      ]
    },
    {
      "cell_type": "code",
      "execution_count": 127,
      "metadata": {
        "id": "BQ6ATw0gr-PS",
        "outputId": "083fd9ab-8c57-431e-f05f-57f048802ae3"
      },
      "outputs": [
        {
          "data": {
            "text/plain": [
              "(torch.Size([784, 1]), tensor(-0.0061), tensor([-0.0420]))"
            ]
          },
          "execution_count": 127,
          "metadata": {},
          "output_type": "execute_result"
        }
      ],
      "source": [
        "loss.backward()\n",
        "weights.grad.shape,weights.grad.mean(),bias.grad"
      ]
    },
    {
      "cell_type": "markdown",
      "metadata": {
        "id": "N2QA0m3ur-PT"
      },
      "source": [
        "Let's put that all in a function:"
      ]
    },
    {
      "cell_type": "code",
      "execution_count": 128,
      "metadata": {
        "id": "yl0j2UPEr-PT"
      },
      "outputs": [],
      "source": [
        "def calc_grad(xb, yb, model):\n",
        "    preds = model(xb)\n",
        "    loss = mnist_loss(preds, yb)\n",
        "    loss.backward()"
      ]
    },
    {
      "cell_type": "markdown",
      "metadata": {
        "id": "JcY2HWQKr-PT"
      },
      "source": [
        "and test it:"
      ]
    },
    {
      "cell_type": "code",
      "execution_count": 129,
      "metadata": {
        "id": "AtaUJaqDr-PT",
        "outputId": "caeccac6-9fd3-4e6f-b70f-55f1107f17d1"
      },
      "outputs": [
        {
          "data": {
            "text/plain": [
              "(tensor(-0.0121), tensor([-0.0840]))"
            ]
          },
          "execution_count": 129,
          "metadata": {},
          "output_type": "execute_result"
        }
      ],
      "source": [
        "calc_grad(batch, train_y[:4], linear1)\n",
        "weights.grad.mean(),bias.grad"
      ]
    },
    {
      "cell_type": "markdown",
      "metadata": {
        "id": "GxAO0Iw1r-PT"
      },
      "source": [
        "But look what happens if we call it twice:"
      ]
    },
    {
      "cell_type": "code",
      "execution_count": 130,
      "metadata": {
        "id": "Ue2b-CNLr-PT",
        "outputId": "68cfbb78-440a-43cb-af71-dd106c8c6582"
      },
      "outputs": [
        {
          "data": {
            "text/plain": [
              "(tensor(-0.0182), tensor([-0.1260]))"
            ]
          },
          "execution_count": 130,
          "metadata": {},
          "output_type": "execute_result"
        }
      ],
      "source": [
        "calc_grad(batch, train_y[:4], linear1)\n",
        "weights.grad.mean(),bias.grad"
      ]
    },
    {
      "cell_type": "markdown",
      "metadata": {
        "id": "53fIbG8Wr-PU"
      },
      "source": [
        "The gradients have changed! The reason for this is that `loss.backward` actually *adds* the gradients of `loss` to any gradients that are currently stored. So, we have to set the current gradients to 0 first:"
      ]
    },
    {
      "cell_type": "code",
      "execution_count": 131,
      "metadata": {
        "id": "-CmohpNgr-PU"
      },
      "outputs": [],
      "source": [
        "weights.grad.zero_()\n",
        "bias.grad.zero_();"
      ]
    },
    {
      "cell_type": "markdown",
      "metadata": {
        "id": "GSfMPs3Pr-PU"
      },
      "source": [
        "> note: Inplace Operations: Methods in PyTorch whose names end in an underscore modify their objects _in place_. For instance, `bias.zero_()` sets all elements of the tensor `bias` to 0."
      ]
    },
    {
      "cell_type": "markdown",
      "metadata": {
        "id": "JtbJV0Bgr-PU"
      },
      "source": [
        "Our only remaining step is to update the weights and biases based on the gradient and learning rate. When we do so, we have to tell PyTorch not to take the gradient of this step too—otherwise things will get very confusing when we try to compute the derivative at the next batch! If we assign to the `data` attribute of a tensor then PyTorch will not take the gradient of that step. Here's our basic training loop for an epoch:"
      ]
    },
    {
      "cell_type": "code",
      "execution_count": 132,
      "metadata": {
        "id": "IN0Jolv9r-PU"
      },
      "outputs": [],
      "source": [
        "def train_epoch(model, lr, params):\n",
        "    for xb,yb in dl:\n",
        "        calc_grad(xb, yb, model)\n",
        "        for p in params:\n",
        "            p.data -= p.grad*lr\n",
        "            p.grad.zero_()"
      ]
    },
    {
      "cell_type": "markdown",
      "metadata": {
        "id": "j3eV6nLCr-PU"
      },
      "source": [
        "We also want to check how we're doing, by looking at the accuracy of the validation set. To decide if an output represents a 3 or a 7, we can just check whether it's greater than 0. So our accuracy for each item can be calculated (using broadcasting, so no loops!) with:"
      ]
    },
    {
      "cell_type": "code",
      "execution_count": 133,
      "metadata": {
        "id": "cvGTrMFTr-PU",
        "outputId": "61ecc2de-a170-463a-ba66-5034a1fa766f"
      },
      "outputs": [
        {
          "data": {
            "text/plain": [
              "tensor([[False],\n",
              "        [False],\n",
              "        [ True],\n",
              "        [False]])"
            ]
          },
          "execution_count": 133,
          "metadata": {},
          "output_type": "execute_result"
        }
      ],
      "source": [
        "(preds>0.0).float() == train_y[:4]"
      ]
    },
    {
      "cell_type": "markdown",
      "metadata": {
        "id": "m4Mg7vCur-PU"
      },
      "source": [
        "That gives us this function to calculate our validation accuracy:"
      ]
    },
    {
      "cell_type": "code",
      "execution_count": 134,
      "metadata": {
        "id": "mkRCQWfMr-PU"
      },
      "outputs": [],
      "source": [
        "def batch_accuracy(xb, yb):\n",
        "    preds = xb.sigmoid()\n",
        "    correct = (preds>0.5) == yb\n",
        "    return correct.float().mean()"
      ]
    },
    {
      "cell_type": "markdown",
      "metadata": {
        "id": "4FHEnyXhr-PU"
      },
      "source": [
        "We can check it works:"
      ]
    },
    {
      "cell_type": "code",
      "execution_count": 135,
      "metadata": {
        "id": "JjIYVCROr-PV",
        "outputId": "e1954e0a-0634-4c49-d4a1-b7b1d9ea1cb0"
      },
      "outputs": [
        {
          "data": {
            "text/plain": [
              "tensor(0.2500)"
            ]
          },
          "execution_count": 135,
          "metadata": {},
          "output_type": "execute_result"
        }
      ],
      "source": [
        "batch_accuracy(linear1(batch), train_y[:4])"
      ]
    },
    {
      "cell_type": "markdown",
      "metadata": {
        "id": "wMoI4_3pr-PV"
      },
      "source": [
        "and then put the batches together:"
      ]
    },
    {
      "cell_type": "code",
      "execution_count": 136,
      "metadata": {
        "id": "C2iFfyg0r-PV"
      },
      "outputs": [],
      "source": [
        "def validate_epoch(model):\n",
        "    accs = [batch_accuracy(model(xb), yb) for xb,yb in valid_dl]\n",
        "    return round(torch.stack(accs).mean().item(), 4)"
      ]
    },
    {
      "cell_type": "code",
      "execution_count": 137,
      "metadata": {
        "id": "uswP_FO5r-PV",
        "outputId": "2fede168-62a5-433b-b624-c64823988b32"
      },
      "outputs": [
        {
          "data": {
            "text/plain": [
              "0.5263"
            ]
          },
          "execution_count": 137,
          "metadata": {},
          "output_type": "execute_result"
        }
      ],
      "source": [
        "validate_epoch(linear1)"
      ]
    },
    {
      "cell_type": "markdown",
      "metadata": {
        "id": "so6J1DFjr-PV"
      },
      "source": [
        "That's our starting point. Let's train for one epoch, and see if the accuracy improves:"
      ]
    },
    {
      "cell_type": "code",
      "execution_count": 138,
      "metadata": {
        "id": "m19oy-QAr-PV",
        "outputId": "945f1848-5627-4c46-d151-37baa281521a"
      },
      "outputs": [
        {
          "data": {
            "text/plain": [
              "0.6664"
            ]
          },
          "execution_count": 138,
          "metadata": {},
          "output_type": "execute_result"
        }
      ],
      "source": [
        "lr = 1.\n",
        "params = weights,bias\n",
        "train_epoch(linear1, lr, params)\n",
        "validate_epoch(linear1)"
      ]
    },
    {
      "cell_type": "markdown",
      "metadata": {
        "id": "NJP5O3oir-PV"
      },
      "source": [
        "Then do a few more:"
      ]
    },
    {
      "cell_type": "code",
      "execution_count": 139,
      "metadata": {
        "id": "GMGh6t-4r-PV",
        "outputId": "6f734453-0574-4cb6-c5ee-97bb2e5f88d5"
      },
      "outputs": [
        {
          "name": "stdout",
          "output_type": "stream",
          "text": [
            "0.8266 0.89 0.9184 0.9277 0.9399 0.9467 0.9506 0.9526 0.956 0.9579 0.9599 0.9609 0.9614 0.9619 0.9633 0.9638 0.9648 0.9658 0.9672 0.9677 "
          ]
        }
      ],
      "source": [
        "for i in range(20):\n",
        "    train_epoch(linear1, lr, params)\n",
        "    print(validate_epoch(linear1), end=' ')"
      ]
    },
    {
      "cell_type": "markdown",
      "metadata": {
        "id": "boA1BaZvr-PW"
      },
      "source": [
        "Looking good! We're already about at the same accuracy as our \"pixel similarity\" approach, and we've created a general-purpose foundation we can build on. Our next step will be to create an object that will handle the SGD step for us. In PyTorch, it's called an *optimizer*."
      ]
    },
    {
      "cell_type": "markdown",
      "metadata": {
        "id": "QtllCOe7r-PW"
      },
      "source": [
        "### Creating an Optimizer"
      ]
    },
    {
      "cell_type": "markdown",
      "metadata": {
        "id": "uKc_yQtMr-PW"
      },
      "source": [
        "Because this is such a general foundation, PyTorch provides some useful classes to make it easier to implement. The first thing we can do is replace our `linear1` function with PyTorch's `nn.Linear` module. A *module* is an object of a class that inherits from the PyTorch `nn.Module` class. Objects of this class behave identically to standard Python functions, in that you can call them using parentheses and they will return the activations of a model.\n",
        "\n",
        "`nn.Linear` does the same thing as our `init_params` and `linear` together. It contains both the *weights* and *biases* in a single class. Here's how we replicate our model from the previous section:"
      ]
    },
    {
      "cell_type": "code",
      "execution_count": 140,
      "metadata": {
        "id": "EkB5C373r-PW"
      },
      "outputs": [],
      "source": [
        "linear_model = nn.Linear(28*28,1)"
      ]
    },
    {
      "cell_type": "markdown",
      "metadata": {
        "id": "wnK-7riUr-PW"
      },
      "source": [
        "Every PyTorch module knows what parameters it has that can be trained; they are available through the `parameters` method:"
      ]
    },
    {
      "cell_type": "code",
      "execution_count": 141,
      "metadata": {
        "id": "EWI3rdKer-PW",
        "outputId": "23cf9c0d-3351-4cae-cc35-04d3fcddaa04"
      },
      "outputs": [
        {
          "data": {
            "text/plain": [
              "(torch.Size([1, 784]), torch.Size([1]))"
            ]
          },
          "execution_count": 141,
          "metadata": {},
          "output_type": "execute_result"
        }
      ],
      "source": [
        "w,b = linear_model.parameters()\n",
        "w.shape,b.shape"
      ]
    },
    {
      "cell_type": "markdown",
      "metadata": {
        "id": "S_Z0jNAdr-PW"
      },
      "source": [
        "We can use this information to create an optimizer:"
      ]
    },
    {
      "cell_type": "code",
      "execution_count": 142,
      "metadata": {
        "id": "AGIf5YWbr-PW"
      },
      "outputs": [],
      "source": [
        "class BasicOptim:\n",
        "    def __init__(self,params,lr): self.params,self.lr = list(params),lr\n",
        "\n",
        "    def step(self, *args, **kwargs):\n",
        "        for p in self.params: p.data -= p.grad.data * self.lr\n",
        "\n",
        "    def zero_grad(self, *args, **kwargs):\n",
        "        for p in self.params: p.grad = None"
      ]
    },
    {
      "cell_type": "markdown",
      "metadata": {
        "id": "4MpjGdJWr-PX"
      },
      "source": [
        "We can create our optimizer by passing in the model's parameters:"
      ]
    },
    {
      "cell_type": "code",
      "execution_count": 143,
      "metadata": {},
      "outputs": [
        {
          "data": {
            "text/plain": [
              "1.0"
            ]
          },
          "execution_count": 143,
          "metadata": {},
          "output_type": "execute_result"
        }
      ],
      "source": [
        "lr"
      ]
    },
    {
      "cell_type": "code",
      "execution_count": 144,
      "metadata": {
        "id": "ti2G0yYtr-PX"
      },
      "outputs": [],
      "source": [
        "opt = BasicOptim(linear_model.parameters(), lr)"
      ]
    },
    {
      "cell_type": "markdown",
      "metadata": {
        "id": "gKT2rL7qr-PX"
      },
      "source": [
        "Our training loop can now be simplified to:"
      ]
    },
    {
      "cell_type": "code",
      "execution_count": 145,
      "metadata": {
        "id": "kqeJDvCMr-PX"
      },
      "outputs": [],
      "source": [
        "def train_epoch(model):\n",
        "    for xb,yb in dl:\n",
        "        calc_grad(xb, yb, model)\n",
        "        opt.step()\n",
        "        opt.zero_grad()"
      ]
    },
    {
      "cell_type": "markdown",
      "metadata": {
        "id": "tw6UTJHsr-PX"
      },
      "source": [
        "Our validation function doesn't need to change at all:"
      ]
    },
    {
      "cell_type": "code",
      "execution_count": 146,
      "metadata": {
        "id": "eksGzncxr-PX",
        "outputId": "dc811c3c-dd37-40c3-a606-ea4a6eb8c9dd"
      },
      "outputs": [
        {
          "data": {
            "text/plain": [
              "0.461"
            ]
          },
          "execution_count": 146,
          "metadata": {},
          "output_type": "execute_result"
        }
      ],
      "source": [
        "validate_epoch(linear_model)"
      ]
    },
    {
      "cell_type": "markdown",
      "metadata": {
        "id": "tg2epulfr-PX"
      },
      "source": [
        "Let's put our little training loop in a function, to make things simpler:"
      ]
    },
    {
      "cell_type": "code",
      "execution_count": 147,
      "metadata": {
        "id": "yX8r8UxNr-PX"
      },
      "outputs": [],
      "source": [
        "def train_model(model, epochs):\n",
        "    for i in range(epochs):\n",
        "        train_epoch(model)\n",
        "        print(validate_epoch(model), end=' ')"
      ]
    },
    {
      "cell_type": "markdown",
      "metadata": {
        "id": "0zbWuaU9r-PX"
      },
      "source": [
        "The results are the same as in the previous section:"
      ]
    },
    {
      "cell_type": "code",
      "execution_count": 148,
      "metadata": {
        "id": "3fSq0TDkr-PY",
        "outputId": "209853ab-cb85-4215-f043-bb112c089dfd"
      },
      "outputs": [
        {
          "name": "stdout",
          "output_type": "stream",
          "text": [
            "0.4932 0.7686 0.8555 0.9136 0.9346 0.9482 0.957 0.9634 0.9658 0.9678 0.9697 0.9717 0.9736 0.9746 0.9761 0.977 0.9775 0.9775 0.978 0.9785 "
          ]
        }
      ],
      "source": [
        "train_model(linear_model, 20)"
      ]
    },
    {
      "cell_type": "markdown",
      "metadata": {
        "id": "Ac6kAAKsr-PY"
      },
      "source": [
        "fastai provides the `SGD` class which, by default, does the same thing as our `BasicOptim`:"
      ]
    },
    {
      "cell_type": "code",
      "execution_count": 149,
      "metadata": {
        "id": "7Tf8FRs0r-PY",
        "outputId": "b5524e7a-727d-45e4-adf5-bed2ce9ae438"
      },
      "outputs": [
        {
          "name": "stdout",
          "output_type": "stream",
          "text": [
            "0.4932 0.8179 0.8496 0.9141 0.9346 0.9482 0.957 0.9619 0.9658 0.9673 0.9692 0.9712 0.9741 0.9751 0.9761 0.9775 0.9775 0.978 0.9785 0.979 "
          ]
        }
      ],
      "source": [
        "linear_model = nn.Linear(28*28,1)\n",
        "opt = SGD(linear_model.parameters(), lr)\n",
        "train_model(linear_model, 20)"
      ]
    },
    {
      "cell_type": "markdown",
      "metadata": {
        "id": "nDA8d3QBr-PY"
      },
      "source": [
        "fastai also provides `Learner.fit`, which we can use instead of `train_model`. To create a `Learner` we first need to create a `DataLoaders`, by passing in our training and validation `DataLoader`s:"
      ]
    },
    {
      "cell_type": "code",
      "execution_count": 150,
      "metadata": {
        "id": "t0asvhUOr-PY"
      },
      "outputs": [],
      "source": [
        "dls = DataLoaders(dl, valid_dl)"
      ]
    },
    {
      "cell_type": "markdown",
      "metadata": {
        "id": "Kn2wmNIPr-PY"
      },
      "source": [
        "To create a `Learner` without using an application (such as `vision_learner`) we need to pass in all the elements that we've created in this chapter: the `DataLoaders`, the model, the optimization function (which will be passed the parameters), the loss function, and optionally any metrics to print:"
      ]
    },
    {
      "cell_type": "code",
      "execution_count": 151,
      "metadata": {
        "id": "vJ4pHKe_r-PY"
      },
      "outputs": [],
      "source": [
        "learn = Learner(dls, nn.Linear(28*28,1), opt_func=SGD,\n",
        "                loss_func=mnist_loss, metrics=batch_accuracy)"
      ]
    },
    {
      "cell_type": "markdown",
      "metadata": {
        "id": "brjKyn_Tr-PY"
      },
      "source": [
        "Now we can call `fit`:"
      ]
    },
    {
      "cell_type": "code",
      "execution_count": 153,
      "metadata": {
        "id": "H82wB6eJr-PY",
        "outputId": "d3a702a2-f4a6-4164-c603-299fb5879b91"
      },
      "outputs": [
        {
          "data": {
            "text/html": [
              "\n",
              "<style>\n",
              "    /* Turns off some styling */\n",
              "    progress {\n",
              "        /* gets rid of default border in Firefox and Opera. */\n",
              "        border: none;\n",
              "        /* Needs to be in here for Safari polyfill so background images work as expected. */\n",
              "        background-size: auto;\n",
              "    }\n",
              "    progress:not([value]), progress:not([value])::-webkit-progress-bar {\n",
              "        background: repeating-linear-gradient(45deg, #7e7e7e, #7e7e7e 10px, #5c5c5c 10px, #5c5c5c 20px);\n",
              "    }\n",
              "    .progress-bar-interrupted, .progress-bar-interrupted::-webkit-progress-bar {\n",
              "        background: #F44336;\n",
              "    }\n",
              "</style>\n"
            ],
            "text/plain": [
              "<IPython.core.display.HTML object>"
            ]
          },
          "metadata": {},
          "output_type": "display_data"
        },
        {
          "data": {
            "text/html": [
              "<table border=\"1\" class=\"dataframe\">\n",
              "  <thead>\n",
              "    <tr style=\"text-align: left;\">\n",
              "      <th>epoch</th>\n",
              "      <th>train_loss</th>\n",
              "      <th>valid_loss</th>\n",
              "      <th>batch_accuracy</th>\n",
              "      <th>time</th>\n",
              "    </tr>\n",
              "  </thead>\n",
              "  <tbody>\n",
              "    <tr>\n",
              "      <td>0</td>\n",
              "      <td>0.016421</td>\n",
              "      <td>0.035419</td>\n",
              "      <td>0.969578</td>\n",
              "      <td>00:00</td>\n",
              "    </tr>\n",
              "    <tr>\n",
              "      <td>1</td>\n",
              "      <td>0.016139</td>\n",
              "      <td>0.033521</td>\n",
              "      <td>0.972031</td>\n",
              "      <td>00:00</td>\n",
              "    </tr>\n",
              "    <tr>\n",
              "      <td>2</td>\n",
              "      <td>0.015847</td>\n",
              "      <td>0.031959</td>\n",
              "      <td>0.973994</td>\n",
              "      <td>00:00</td>\n",
              "    </tr>\n",
              "    <tr>\n",
              "      <td>3</td>\n",
              "      <td>0.015564</td>\n",
              "      <td>0.030645</td>\n",
              "      <td>0.974485</td>\n",
              "      <td>00:00</td>\n",
              "    </tr>\n",
              "    <tr>\n",
              "      <td>4</td>\n",
              "      <td>0.015304</td>\n",
              "      <td>0.029526</td>\n",
              "      <td>0.975957</td>\n",
              "      <td>00:00</td>\n",
              "    </tr>\n",
              "    <tr>\n",
              "      <td>5</td>\n",
              "      <td>0.015071</td>\n",
              "      <td>0.028563</td>\n",
              "      <td>0.976938</td>\n",
              "      <td>00:00</td>\n",
              "    </tr>\n",
              "    <tr>\n",
              "      <td>6</td>\n",
              "      <td>0.014863</td>\n",
              "      <td>0.027728</td>\n",
              "      <td>0.977429</td>\n",
              "      <td>00:00</td>\n",
              "    </tr>\n",
              "    <tr>\n",
              "      <td>7</td>\n",
              "      <td>0.014676</td>\n",
              "      <td>0.026998</td>\n",
              "      <td>0.977920</td>\n",
              "      <td>00:00</td>\n",
              "    </tr>\n",
              "    <tr>\n",
              "      <td>8</td>\n",
              "      <td>0.014509</td>\n",
              "      <td>0.026355</td>\n",
              "      <td>0.977920</td>\n",
              "      <td>00:00</td>\n",
              "    </tr>\n",
              "    <tr>\n",
              "      <td>9</td>\n",
              "      <td>0.014356</td>\n",
              "      <td>0.025785</td>\n",
              "      <td>0.978410</td>\n",
              "      <td>00:00</td>\n",
              "    </tr>\n",
              "    <tr>\n",
              "      <td>10</td>\n",
              "      <td>0.014215</td>\n",
              "      <td>0.025277</td>\n",
              "      <td>0.978901</td>\n",
              "      <td>00:00</td>\n",
              "    </tr>\n",
              "    <tr>\n",
              "      <td>11</td>\n",
              "      <td>0.014084</td>\n",
              "      <td>0.024821</td>\n",
              "      <td>0.978901</td>\n",
              "      <td>00:00</td>\n",
              "    </tr>\n",
              "    <tr>\n",
              "      <td>12</td>\n",
              "      <td>0.013961</td>\n",
              "      <td>0.024409</td>\n",
              "      <td>0.978901</td>\n",
              "      <td>00:00</td>\n",
              "    </tr>\n",
              "    <tr>\n",
              "      <td>13</td>\n",
              "      <td>0.013844</td>\n",
              "      <td>0.024036</td>\n",
              "      <td>0.978901</td>\n",
              "      <td>00:00</td>\n",
              "    </tr>\n",
              "    <tr>\n",
              "      <td>14</td>\n",
              "      <td>0.013733</td>\n",
              "      <td>0.023696</td>\n",
              "      <td>0.979392</td>\n",
              "      <td>00:00</td>\n",
              "    </tr>\n",
              "    <tr>\n",
              "      <td>15</td>\n",
              "      <td>0.013628</td>\n",
              "      <td>0.023385</td>\n",
              "      <td>0.979392</td>\n",
              "      <td>00:00</td>\n",
              "    </tr>\n",
              "    <tr>\n",
              "      <td>16</td>\n",
              "      <td>0.013526</td>\n",
              "      <td>0.023100</td>\n",
              "      <td>0.979392</td>\n",
              "      <td>00:00</td>\n",
              "    </tr>\n",
              "    <tr>\n",
              "      <td>17</td>\n",
              "      <td>0.013429</td>\n",
              "      <td>0.022837</td>\n",
              "      <td>0.980373</td>\n",
              "      <td>00:00</td>\n",
              "    </tr>\n",
              "    <tr>\n",
              "      <td>18</td>\n",
              "      <td>0.013335</td>\n",
              "      <td>0.022595</td>\n",
              "      <td>0.980373</td>\n",
              "      <td>00:00</td>\n",
              "    </tr>\n",
              "    <tr>\n",
              "      <td>19</td>\n",
              "      <td>0.013244</td>\n",
              "      <td>0.022370</td>\n",
              "      <td>0.981845</td>\n",
              "      <td>00:00</td>\n",
              "    </tr>\n",
              "  </tbody>\n",
              "</table>"
            ],
            "text/plain": [
              "<IPython.core.display.HTML object>"
            ]
          },
          "metadata": {},
          "output_type": "display_data"
        }
      ],
      "source": [
        "learn.fit(20, lr=lr)"
      ]
    },
    {
      "cell_type": "markdown",
      "metadata": {
        "id": "R1VVKhUhr-PY"
      },
      "source": [
        "As you can see, there's nothing magic about the PyTorch and fastai classes. They are just convenient pre-packaged pieces that make your life a bit easier! (They also provide a lot of extra functionality we'll be using in future chapters.)\n",
        "\n",
        "With these classes, we can now replace our linear model with a neural network."
      ]
    },
    {
      "cell_type": "markdown",
      "metadata": {
        "id": "ypw-HJTKr-PZ"
      },
      "source": [
        "## Adding a Nonlinearity"
      ]
    },
    {
      "cell_type": "markdown",
      "metadata": {
        "id": "KQNrU83mr-PZ"
      },
      "source": [
        "So far we have a general procedure for optimizing the parameters of a function, and we have tried it out on a very boring function: a simple linear classifier. A linear classifier is very constrained in terms of what it can do. To make it a bit more complex (and able to handle more tasks), we need to add something nonlinear between two linear classifiers—this is what gives us a neural network.\n",
        "\n",
        "Here is the entire definition of a basic neural network:"
      ]
    },
    {
      "cell_type": "code",
      "execution_count": 158,
      "metadata": {
        "id": "fw6Hvbxlr-PZ"
      },
      "outputs": [],
      "source": [
        "def simple_net(xb):\n",
        "    res = xb@w1 + b1\n",
        "    res = res.max(tensor(0.0))\n",
        "    res = res@w2 + b2\n",
        "    return res"
      ]
    },
    {
      "cell_type": "markdown",
      "metadata": {
        "id": "DC7i5lwXr-PZ"
      },
      "source": [
        "That's it! All we have in `simple_net` is two linear classifiers with a `max` function between them.\n",
        "\n",
        "Here, `w1` and `w2` are weight tensors, and `b1` and `b2` are bias tensors; that is, parameters that are initially randomly initialized, just like we did in the previous section:"
      ]
    },
    {
      "cell_type": "code",
      "execution_count": 159,
      "metadata": {
        "id": "OISFqhiYr-PZ"
      },
      "outputs": [],
      "source": [
        "w1 = init_params((28*28,30))\n",
        "b1 = init_params(30)\n",
        "w2 = init_params((30,1))\n",
        "b2 = init_params(1)"
      ]
    },
    {
      "cell_type": "markdown",
      "metadata": {
        "id": "bce2PE7Xr-PZ"
      },
      "source": [
        "The key point about this is that `w1` has 30 output activations (which means that `w2` must have 30 input activations, so they match). That means that the first layer can construct 30 different features, each representing some different mix of pixels. You can change that `30` to anything you like, to make the model more or less complex.\n",
        "\n",
        "That little function `res.max(tensor(0.0))` is called a *rectified linear unit*, also known as *ReLU*. We think we can all agree that *rectified linear unit* sounds pretty fancy and complicated... But actually, there's nothing more to it than `res.max(tensor(0.0))`—in other words, replace every negative number with a zero. This tiny function is also available in PyTorch as `F.relu`:"
      ]
    },
    {
      "cell_type": "code",
      "execution_count": 157,
      "metadata": {
        "id": "8YKSjFmtr-PZ",
        "outputId": "e87127d2-f1ed-4210-a860-454fa22d91b5"
      },
      "outputs": [
        {
          "data": {
            "image/png": "[encoded data removed]",
            "text/plain": [
              "<Figure size 600x400 with 1 Axes>"
            ]
          },
          "metadata": {},
          "output_type": "display_data"
        }
      ],
      "source": [
        "plot_function(F.relu)"
      ]
    },
    {
      "cell_type": "markdown",
      "metadata": {
        "id": "__1SDDhIr-PZ"
      },
      "source": [
        "> J: There is an enormous amount of jargon in deep learning, including terms like _rectified linear unit_. The vast vast majority of this jargon is no more complicated than can be implemented in a short line of code, as we saw in this example. The reality is that for academics to get their papers published they need to make them sound as impressive and sophisticated as possible. One of the ways that they do that is to introduce jargon. Unfortunately, this has the result that the field ends up becoming far more intimidating and difficult to get into than it should be. You do have to learn the jargon, because otherwise papers and tutorials are not going to mean much to you. But that doesn't mean you have to find the jargon intimidating. Just remember, when you come across a word or phrase that you haven't seen before, it will almost certainly turn out to be referring to a very simple concept."
      ]
    },
    {
      "cell_type": "markdown",
      "metadata": {
        "id": "rwsp7HD_r-PZ"
      },
      "source": [
        "The basic idea is that by using more linear layers, we can have our model do more computation, and therefore model more complex functions. But there's no point just putting one linear layer directly after another one, because when we multiply things together and then add them up multiple times, that could be replaced by multiplying different things together and adding them up just once! That is to say, a series of any number of linear layers in a row can be replaced with a single linear layer with a different set of parameters.\n",
        "\n",
        "But if we put a nonlinear function between them, such as `max`, then this is no longer true. Now each linear layer is actually somewhat decoupled from the other ones, and can do its own useful work. The `max` function is particularly interesting, because it operates as a simple `if` statement."
      ]
    },
    {
      "cell_type": "markdown",
      "metadata": {
        "id": "Nx3IP3Fur-PZ"
      },
      "source": [
        "> S: Mathematically, we say the composition of two linear functions is another linear function. So, we can stack as many linear classifiers as we want on top of each other, and without nonlinear functions between them, it will just be the same as one linear classifier."
      ]
    },
    {
      "cell_type": "markdown",
      "metadata": {
        "id": "_5oVXlnar-Pf"
      },
      "source": [
        "Amazingly enough, it can be mathematically proven that this little function can solve any computable problem to an arbitrarily high level of accuracy, if you can find the right parameters for `w1` and `w2` and if you make these matrices big enough. For any arbitrarily wiggly function, we can approximate it as a bunch of lines joined together; to make it closer to the wiggly function, we just have to use shorter lines. This is known as the *universal approximation theorem*. The three lines of code that we have here are known as *layers*. The first and third are known as *linear layers*, and the second line of code is known variously as a *nonlinearity*, or *activation function*.\n",
        "\n",
        "Just like in the previous section, we can replace this code with something a bit simpler, by taking advantage of PyTorch:"
      ]
    },
    {
      "cell_type": "code",
      "execution_count": 165,
      "metadata": {
        "id": "itKYPhMmr-Pg"
      },
      "outputs": [],
      "source": [
        "simple_net = nn.Sequential(\n",
        "    nn.Linear(28*28,30),\n",
        "    nn.ReLU(),\n",
        "    nn.Linear(30,1)\n",
        ")"
      ]
    },
    {
      "cell_type": "markdown",
      "metadata": {
        "id": "quZSB96wr-Pg"
      },
      "source": [
        "`nn.Sequential` creates a module that will call each of the listed layers or functions in turn.\n",
        "\n",
        "`nn.ReLU` is a PyTorch module that does exactly the same thing as the `F.relu` function. Most functions that can appear in a model also have identical forms that are modules. Generally, it's just a case of replacing `F` with `nn` and changing the capitalization. When using `nn.Sequential`, PyTorch requires us to use the module version. Since modules are classes, we have to instantiate them, which is why you see `nn.ReLU()` in this example.\n",
        "\n",
        "Because `nn.Sequential` is a module, we can get its parameters, which will return a list of all the parameters of all the modules it contains. Let's try it out! As this is a deeper model, we'll use a lower learning rate and a few more epochs."
      ]
    },
    {
      "cell_type": "code",
      "execution_count": 166,
      "metadata": {
        "id": "1OktXjpUr-Pg"
      },
      "outputs": [],
      "source": [
        "learn = Learner(dls, simple_net, opt_func=SGD,\n",
        "                loss_func=mnist_loss, metrics=batch_accuracy)"
      ]
    },
    {
      "cell_type": "code",
      "execution_count": 167,
      "metadata": {
        "id": "i4pzOYkzr-Pg",
        "outputId": "d4284b7f-8045-4184-f363-6a3c63d9a90d"
      },
      "outputs": [
        {
          "data": {
            "text/html": [
              "\n",
              "<style>\n",
              "    /* Turns off some styling */\n",
              "    progress {\n",
              "        /* gets rid of default border in Firefox and Opera. */\n",
              "        border: none;\n",
              "        /* Needs to be in here for Safari polyfill so background images work as expected. */\n",
              "        background-size: auto;\n",
              "    }\n",
              "    progress:not([value]), progress:not([value])::-webkit-progress-bar {\n",
              "        background: repeating-linear-gradient(45deg, #7e7e7e, #7e7e7e 10px, #5c5c5c 10px, #5c5c5c 20px);\n",
              "    }\n",
              "    .progress-bar-interrupted, .progress-bar-interrupted::-webkit-progress-bar {\n",
              "        background: #F44336;\n",
              "    }\n",
              "</style>\n"
            ],
            "text/plain": [
              "<IPython.core.display.HTML object>"
            ]
          },
          "metadata": {},
          "output_type": "display_data"
        },
        {
          "data": {
            "text/html": [
              "<table border=\"1\" class=\"dataframe\">\n",
              "  <thead>\n",
              "    <tr style=\"text-align: left;\">\n",
              "      <th>epoch</th>\n",
              "      <th>train_loss</th>\n",
              "      <th>valid_loss</th>\n",
              "      <th>batch_accuracy</th>\n",
              "      <th>time</th>\n",
              "    </tr>\n",
              "  </thead>\n",
              "  <tbody>\n",
              "    <tr>\n",
              "      <td>0</td>\n",
              "      <td>0.311666</td>\n",
              "      <td>0.418701</td>\n",
              "      <td>0.504416</td>\n",
              "      <td>00:00</td>\n",
              "    </tr>\n",
              "    <tr>\n",
              "      <td>1</td>\n",
              "      <td>0.145985</td>\n",
              "      <td>0.228449</td>\n",
              "      <td>0.799313</td>\n",
              "      <td>00:00</td>\n",
              "    </tr>\n",
              "    <tr>\n",
              "      <td>2</td>\n",
              "      <td>0.080667</td>\n",
              "      <td>0.114126</td>\n",
              "      <td>0.915113</td>\n",
              "      <td>00:00</td>\n",
              "    </tr>\n",
              "    <tr>\n",
              "      <td>3</td>\n",
              "      <td>0.053054</td>\n",
              "      <td>0.076955</td>\n",
              "      <td>0.941119</td>\n",
              "      <td>00:00</td>\n",
              "    </tr>\n",
              "    <tr>\n",
              "      <td>4</td>\n",
              "      <td>0.040277</td>\n",
              "      <td>0.060039</td>\n",
              "      <td>0.957311</td>\n",
              "      <td>00:00</td>\n",
              "    </tr>\n",
              "    <tr>\n",
              "      <td>5</td>\n",
              "      <td>0.033738</td>\n",
              "      <td>0.050581</td>\n",
              "      <td>0.964671</td>\n",
              "      <td>00:00</td>\n",
              "    </tr>\n",
              "    <tr>\n",
              "      <td>6</td>\n",
              "      <td>0.029971</td>\n",
              "      <td>0.044645</td>\n",
              "      <td>0.965162</td>\n",
              "      <td>00:00</td>\n",
              "    </tr>\n",
              "    <tr>\n",
              "      <td>7</td>\n",
              "      <td>0.027515</td>\n",
              "      <td>0.040597</td>\n",
              "      <td>0.966634</td>\n",
              "      <td>00:00</td>\n",
              "    </tr>\n",
              "    <tr>\n",
              "      <td>8</td>\n",
              "      <td>0.025743</td>\n",
              "      <td>0.037650</td>\n",
              "      <td>0.969087</td>\n",
              "      <td>00:00</td>\n",
              "    </tr>\n",
              "    <tr>\n",
              "      <td>9</td>\n",
              "      <td>0.024373</td>\n",
              "      <td>0.035398</td>\n",
              "      <td>0.972031</td>\n",
              "      <td>00:00</td>\n",
              "    </tr>\n",
              "    <tr>\n",
              "      <td>10</td>\n",
              "      <td>0.023264</td>\n",
              "      <td>0.033606</td>\n",
              "      <td>0.972522</td>\n",
              "      <td>00:00</td>\n",
              "    </tr>\n",
              "    <tr>\n",
              "      <td>11</td>\n",
              "      <td>0.022341</td>\n",
              "      <td>0.032138</td>\n",
              "      <td>0.973503</td>\n",
              "      <td>00:00</td>\n",
              "    </tr>\n",
              "    <tr>\n",
              "      <td>12</td>\n",
              "      <td>0.021556</td>\n",
              "      <td>0.030906</td>\n",
              "      <td>0.974485</td>\n",
              "      <td>00:00</td>\n",
              "    </tr>\n",
              "    <tr>\n",
              "      <td>13</td>\n",
              "      <td>0.020878</td>\n",
              "      <td>0.029851</td>\n",
              "      <td>0.974975</td>\n",
              "      <td>00:00</td>\n",
              "    </tr>\n",
              "    <tr>\n",
              "      <td>14</td>\n",
              "      <td>0.020286</td>\n",
              "      <td>0.028934</td>\n",
              "      <td>0.976938</td>\n",
              "      <td>00:00</td>\n",
              "    </tr>\n",
              "    <tr>\n",
              "      <td>15</td>\n",
              "      <td>0.019763</td>\n",
              "      <td>0.028127</td>\n",
              "      <td>0.976938</td>\n",
              "      <td>00:00</td>\n",
              "    </tr>\n",
              "    <tr>\n",
              "      <td>16</td>\n",
              "      <td>0.019295</td>\n",
              "      <td>0.027410</td>\n",
              "      <td>0.977920</td>\n",
              "      <td>00:00</td>\n",
              "    </tr>\n",
              "    <tr>\n",
              "      <td>17</td>\n",
              "      <td>0.018874</td>\n",
              "      <td>0.026768</td>\n",
              "      <td>0.978410</td>\n",
              "      <td>00:00</td>\n",
              "    </tr>\n",
              "    <tr>\n",
              "      <td>18</td>\n",
              "      <td>0.018490</td>\n",
              "      <td>0.026190</td>\n",
              "      <td>0.978410</td>\n",
              "      <td>00:00</td>\n",
              "    </tr>\n",
              "    <tr>\n",
              "      <td>19</td>\n",
              "      <td>0.018141</td>\n",
              "      <td>0.025665</td>\n",
              "      <td>0.978410</td>\n",
              "      <td>00:00</td>\n",
              "    </tr>\n",
              "    <tr>\n",
              "      <td>20</td>\n",
              "      <td>0.017819</td>\n",
              "      <td>0.025187</td>\n",
              "      <td>0.978410</td>\n",
              "      <td>00:00</td>\n",
              "    </tr>\n",
              "    <tr>\n",
              "      <td>21</td>\n",
              "      <td>0.017521</td>\n",
              "      <td>0.024748</td>\n",
              "      <td>0.979392</td>\n",
              "      <td>00:00</td>\n",
              "    </tr>\n",
              "    <tr>\n",
              "      <td>22</td>\n",
              "      <td>0.017244</td>\n",
              "      <td>0.024343</td>\n",
              "      <td>0.979392</td>\n",
              "      <td>00:00</td>\n",
              "    </tr>\n",
              "    <tr>\n",
              "      <td>23</td>\n",
              "      <td>0.016985</td>\n",
              "      <td>0.023969</td>\n",
              "      <td>0.980373</td>\n",
              "      <td>00:00</td>\n",
              "    </tr>\n",
              "    <tr>\n",
              "      <td>24</td>\n",
              "      <td>0.016742</td>\n",
              "      <td>0.023622</td>\n",
              "      <td>0.981354</td>\n",
              "      <td>00:00</td>\n",
              "    </tr>\n",
              "    <tr>\n",
              "      <td>25</td>\n",
              "      <td>0.016513</td>\n",
              "      <td>0.023300</td>\n",
              "      <td>0.981354</td>\n",
              "      <td>00:00</td>\n",
              "    </tr>\n",
              "    <tr>\n",
              "      <td>26</td>\n",
              "      <td>0.016297</td>\n",
              "      <td>0.023000</td>\n",
              "      <td>0.981845</td>\n",
              "      <td>00:00</td>\n",
              "    </tr>\n",
              "    <tr>\n",
              "      <td>27</td>\n",
              "      <td>0.016093</td>\n",
              "      <td>0.022720</td>\n",
              "      <td>0.981845</td>\n",
              "      <td>00:00</td>\n",
              "    </tr>\n",
              "    <tr>\n",
              "      <td>28</td>\n",
              "      <td>0.015899</td>\n",
              "      <td>0.022458</td>\n",
              "      <td>0.981845</td>\n",
              "      <td>00:00</td>\n",
              "    </tr>\n",
              "    <tr>\n",
              "      <td>29</td>\n",
              "      <td>0.015714</td>\n",
              "      <td>0.022214</td>\n",
              "      <td>0.981845</td>\n",
              "      <td>00:00</td>\n",
              "    </tr>\n",
              "    <tr>\n",
              "      <td>30</td>\n",
              "      <td>0.015538</td>\n",
              "      <td>0.021986</td>\n",
              "      <td>0.983317</td>\n",
              "      <td>00:00</td>\n",
              "    </tr>\n",
              "    <tr>\n",
              "      <td>31</td>\n",
              "      <td>0.015370</td>\n",
              "      <td>0.021771</td>\n",
              "      <td>0.982826</td>\n",
              "      <td>00:00</td>\n",
              "    </tr>\n",
              "    <tr>\n",
              "      <td>32</td>\n",
              "      <td>0.015210</td>\n",
              "      <td>0.021570</td>\n",
              "      <td>0.982826</td>\n",
              "      <td>00:00</td>\n",
              "    </tr>\n",
              "    <tr>\n",
              "      <td>33</td>\n",
              "      <td>0.015056</td>\n",
              "      <td>0.021381</td>\n",
              "      <td>0.983317</td>\n",
              "      <td>00:00</td>\n",
              "    </tr>\n",
              "    <tr>\n",
              "      <td>34</td>\n",
              "      <td>0.014909</td>\n",
              "      <td>0.021203</td>\n",
              "      <td>0.983317</td>\n",
              "      <td>00:00</td>\n",
              "    </tr>\n",
              "    <tr>\n",
              "      <td>35</td>\n",
              "      <td>0.014767</td>\n",
              "      <td>0.021036</td>\n",
              "      <td>0.983317</td>\n",
              "      <td>00:00</td>\n",
              "    </tr>\n",
              "    <tr>\n",
              "      <td>36</td>\n",
              "      <td>0.014631</td>\n",
              "      <td>0.020877</td>\n",
              "      <td>0.983317</td>\n",
              "      <td>00:00</td>\n",
              "    </tr>\n",
              "    <tr>\n",
              "      <td>37</td>\n",
              "      <td>0.014499</td>\n",
              "      <td>0.020727</td>\n",
              "      <td>0.983317</td>\n",
              "      <td>00:00</td>\n",
              "    </tr>\n",
              "    <tr>\n",
              "      <td>38</td>\n",
              "      <td>0.014373</td>\n",
              "      <td>0.020584</td>\n",
              "      <td>0.983317</td>\n",
              "      <td>00:00</td>\n",
              "    </tr>\n",
              "    <tr>\n",
              "      <td>39</td>\n",
              "      <td>0.014250</td>\n",
              "      <td>0.020449</td>\n",
              "      <td>0.983317</td>\n",
              "      <td>00:00</td>\n",
              "    </tr>\n",
              "  </tbody>\n",
              "</table>"
            ],
            "text/plain": [
              "<IPython.core.display.HTML object>"
            ]
          },
          "metadata": {},
          "output_type": "display_data"
        }
      ],
      "source": [
        "#hide_output\n",
        "learn.fit(40, 0.1)"
      ]
    },
    {
      "cell_type": "markdown",
      "metadata": {
        "id": "zAJQXy3Vr-Ph"
      },
      "source": [
        "We're not showing the 40 lines of output here to save room; the training process is recorded in `learn.recorder`, with the table of output stored in the `values` attribute, so we can plot the accuracy over training as:"
      ]
    },
    {
      "cell_type": "code",
      "execution_count": 168,
      "metadata": {
        "id": "bV7Iz3K0r-Ph",
        "outputId": "657106d8-c8ed-4eb5-9551-c27bf1ac1333"
      },
      "outputs": [
        {
          "data": {
            "image/png": "[encoded data removed]",
            "text/plain": [
              "<Figure size 640x480 with 1 Axes>"
            ]
          },
          "metadata": {},
          "output_type": "display_data"
        }
      ],
      "source": [
        "plt.plot(L(learn.recorder.values).itemgot(2));"
      ]
    },
    {
      "cell_type": "markdown",
      "metadata": {
        "id": "G9d2wGQSr-Ph"
      },
      "source": [
        "And we can view the final accuracy:"
      ]
    },
    {
      "cell_type": "code",
      "execution_count": 169,
      "metadata": {
        "id": "-EMYEWG_r-Ph",
        "outputId": "5fff9c25-78c9-4edd-a7b8-a196948847d4"
      },
      "outputs": [
        {
          "data": {
            "text/plain": [
              "0.983316957950592"
            ]
          },
          "execution_count": 169,
          "metadata": {},
          "output_type": "execute_result"
        }
      ],
      "source": [
        "learn.recorder.values[-1][2]"
      ]
    },
    {
      "cell_type": "markdown",
      "metadata": {
        "id": "Xby_Xbvzr-Pi"
      },
      "source": [
        "At this point we have something that is rather magical:\n",
        "\n",
        "1. A function that can solve any problem to any level of accuracy (the neural network) given the correct set of parameters\n",
        "1. A way to find the best set of parameters for any function (stochastic gradient descent)\n",
        "\n",
        "This is why deep learning can do things which seem rather magical, such fantastic things. Believing that this combination of simple techniques can really solve any problem is one of the biggest steps that we find many students have to take. It seems too good to be true—surely things should be more difficult and complicated than this? Our recommendation: try it out! We just tried it on the MNIST dataset and you have seen the results. And since we are doing everything from scratch ourselves (except for calculating the gradients) you know that there is no special magic hiding behind the scenes."
      ]
    },
    {
      "cell_type": "markdown",
      "metadata": {
        "id": "DUOp7Felr-Pi"
      },
      "source": [
        "### Going Deeper"
      ]
    },
    {
      "cell_type": "markdown",
      "metadata": {
        "id": "eC1pKKxkr-Pi"
      },
      "source": [
        "There is no need to stop at just two linear layers. We can add as many as we want, as long as we add a nonlinearity between each pair of linear layers. As you will learn, however, the deeper the model gets, the harder it is to optimize the parameters in practice. Later in this book you will learn about some simple but brilliantly effective techniques for training deeper models.\n",
        "\n",
        "We already know that a single nonlinearity with two linear layers is enough to approximate any function. So why would we use deeper models? The reason is performance. With a deeper model (that is, one with more layers) we do not need to use as many parameters; it turns out that we can use smaller matrices with more layers, and get better results than we would get with larger matrices, and few layers.\n",
        "\n",
        "That means that we can train the model more quickly, and it will take up less memory. In the 1990s researchers were so focused on the universal approximation theorem that very few were experimenting with more than one nonlinearity. This theoretical but not practical foundation held back the field for years. Some researchers, however, did experiment with deep models, and eventually were able to show that these models could perform much better in practice. Eventually, theoretical results were developed which showed why this happens. Today, it is extremely unusual to find anybody using a neural network with just one nonlinearity.\n",
        "\n",
        "Here is what happens when we train an 18-layer model using the same approach we saw in <<chapter_intro>>:"
      ]
    },
    {
      "cell_type": "code",
      "execution_count": 170,
      "metadata": {
        "id": "wEpvf5Q_r-Pi",
        "outputId": "c46f8734-a86a-414c-87ce-db4cb7b71e48"
      },
      "outputs": [
        {
          "data": {
            "text/html": [
              "\n",
              "<style>\n",
              "    /* Turns off some styling */\n",
              "    progress {\n",
              "        /* gets rid of default border in Firefox and Opera. */\n",
              "        border: none;\n",
              "        /* Needs to be in here for Safari polyfill so background images work as expected. */\n",
              "        background-size: auto;\n",
              "    }\n",
              "    progress:not([value]), progress:not([value])::-webkit-progress-bar {\n",
              "        background: repeating-linear-gradient(45deg, #7e7e7e, #7e7e7e 10px, #5c5c5c 10px, #5c5c5c 20px);\n",
              "    }\n",
              "    .progress-bar-interrupted, .progress-bar-interrupted::-webkit-progress-bar {\n",
              "        background: #F44336;\n",
              "    }\n",
              "</style>\n"
            ],
            "text/plain": [
              "<IPython.core.display.HTML object>"
            ]
          },
          "metadata": {},
          "output_type": "display_data"
        },
        {
          "data": {
            "text/html": [
              "<table border=\"1\" class=\"dataframe\">\n",
              "  <thead>\n",
              "    <tr style=\"text-align: left;\">\n",
              "      <th>epoch</th>\n",
              "      <th>train_loss</th>\n",
              "      <th>valid_loss</th>\n",
              "      <th>accuracy</th>\n",
              "      <th>time</th>\n",
              "    </tr>\n",
              "  </thead>\n",
              "  <tbody>\n",
              "    <tr>\n",
              "      <td>0</td>\n",
              "      <td>0.074460</td>\n",
              "      <td>0.012872</td>\n",
              "      <td>0.995093</td>\n",
              "      <td>01:12</td>\n",
              "    </tr>\n",
              "  </tbody>\n",
              "</table>"
            ],
            "text/plain": [
              "<IPython.core.display.HTML object>"
            ]
          },
          "metadata": {},
          "output_type": "display_data"
        }
      ],
      "source": [
        "dls = ImageDataLoaders.from_folder(path)\n",
        "learn = vision_learner(dls, resnet18, pretrained=False,\n",
        "                    loss_func=F.cross_entropy, metrics=accuracy)\n",
        "learn.fit_one_cycle(1, 0.1)"
      ]
    },
    {
      "cell_type": "markdown",
      "metadata": {
        "id": "HPQ6at2yr-Pi"
      },
      "source": [
        "Nearly 100% accuracy! That's a big difference compared to our simple neural net. But as you'll learn in the remainder of this book, there are just a few little tricks you need to use to get such great results from scratch yourself. You already know the key foundational pieces. (Of course, even once you know all the tricks, you'll nearly always want to work with the pre-built classes provided by PyTorch and fastai, because they save you having to think about all the little details yourself.)"
      ]
    },
    {
      "cell_type": "markdown",
      "metadata": {
        "id": "OJcd35D1r-Pi"
      },
      "source": [
        "## Jargon Recap"
      ]
    },
    {
      "cell_type": "markdown",
      "metadata": {
        "id": "yHIUp8OZr-Pj"
      },
      "source": [
        "Congratulations: you now know how to create and train a deep neural network from scratch! We've gone through quite a few steps to get to this point, but you might be surprised at how simple it really is.\n",
        "\n",
        "Now that we are at this point, it is a good opportunity to define, and review, some jargon and key concepts.\n",
        "\n",
        "A neural network contains a lot of numbers, but they are only of two types: numbers that are calculated, and the parameters that these numbers are calculated from. This gives us the two most important pieces of jargon to learn:\n",
        "\n",
        "- Activations:: Numbers that are calculated (both by linear and nonlinear layers)\n",
        "- Parameters:: Numbers that are randomly initialized, and optimized (that is, the numbers that define the model)\n",
        "\n",
        "We will often talk in this book about activations and parameters. Remember that they have very specific meanings. They are numbers. They are not abstract concepts, but they are actual specific numbers that are in your model. Part of becoming a good deep learning practitioner is getting used to the idea of actually looking at your activations and parameters, and plotting them and testing whether they are behaving correctly.\n",
        "\n",
        "Our activations and parameters are all contained in *tensors*. These are simply regularly shaped arrays—for example, a matrix. Matrices have rows and columns; we call these the *axes* or *dimensions*. The number of dimensions of a tensor is its *rank*. There are some special tensors:\n",
        "\n",
        "- Rank zero: scalar\n",
        "- Rank one: vector\n",
        "- Rank two: matrix\n",
        "\n",
        "A neural network contains a number of layers. Each layer is either *linear* or *nonlinear*. We generally alternate between these two kinds of layers in a neural network. Sometimes people refer to both a linear layer and its subsequent nonlinearity together as a single layer. Yes, this is confusing. Sometimes a nonlinearity is referred to as an *activation function*.\n",
        "\n",
        "<<dljargon1>> summarizes the key concepts related to SGD.\n",
        "\n",
        "```asciidoc\n",
        "[[dljargon1]]\n",
        ".Deep learning vocabulary\n",
        "[options=\"header\"]\n",
        "|=====\n",
        "| Term | Meaning\n",
        "|ReLU | Function that returns 0 for negative numbers and doesn't change positive numbers.\n",
        "|Mini-batch | A small group of inputs and labels gathered together in two arrays. A gradient descent step is updated on this batch (rather than a whole epoch).\n",
        "|Forward pass | Applying the model to some input and computing the predictions.\n",
        "|Loss | A value that represents how well (or badly) our model is doing.\n",
        "|Gradient | The derivative of the loss with respect to some parameter of the model.\n",
        "|Backward pass | Computing the gradients of the loss with respect to all model parameters.\n",
        "|Gradient descent | Taking a step in the directions opposite to the gradients to make the model parameters a little bit better.\n",
        "|Learning rate | The size of the step we take when applying SGD to update the parameters of the model.\n",
        "|=====\n",
        "```"
      ]
    },
    {
      "cell_type": "markdown",
      "metadata": {
        "id": "_YkSE7gDr-Pk"
      },
      "source": [
        "> note: _Choose Your Own Adventure_ Reminder: Did you choose to skip over chapters 2 & 3, in your excitement to peek under the hood? Well, here's your reminder to head back to chapter 2 now, because you'll be needing to know that stuff very soon!"
      ]
    },
    {
      "cell_type": "markdown",
      "metadata": {
        "id": "BA4_hzDCr-Pk"
      },
      "source": [
        "## Questionnaire"
      ]
    },
    {
      "cell_type": "markdown",
      "metadata": {
        "id": "wOyHukiNr-Pk"
      },
      "source": [
        "1. How is a grayscale image represented on a computer? How about a color image?\n",
        "1. How are the files and folders in the `MNIST_SAMPLE` dataset structured? Why?\n",
        "1. Explain how the \"pixel similarity\" approach to classifying digits works.\n",
        "1. What is a list comprehension? Create one now that selects odd numbers from a list and doubles them.\n",
        "1. What is a \"rank-3 tensor\"?\n",
        "1. What is the difference between tensor rank and shape? How do you get the rank from the shape?\n",
        "1. What are RMSE and L1 norm?\n",
        "1. How can you apply a calculation on thousands of numbers at once, many thousands of times faster than a Python loop?\n",
        "1. Create a 3×3 tensor or array containing the numbers from 1 to 9. Double it. Select the bottom-right four numbers.\n",
        "1. What is broadcasting?\n",
        "1. Are metrics generally calculated using the training set, or the validation set? Why?\n",
        "1. What is SGD?\n",
        "1. Why does SGD use mini-batches?\n",
        "1. What are the seven steps in SGD for machine learning?\n",
        "1. How do we initialize the weights in a model?\n",
        "1. What is \"loss\"?\n",
        "1. Why can't we always use a high learning rate?\n",
        "1. What is a \"gradient\"?\n",
        "1. Do you need to know how to calculate gradients yourself?\n",
        "1. Why can't we use accuracy as a loss function?\n",
        "1. Draw the sigmoid function. What is special about its shape?\n",
        "1. What is the difference between a loss function and a metric?\n",
        "1. What is the function to calculate new weights using a learning rate?\n",
        "1. What does the `DataLoader` class do?\n",
        "1. Write pseudocode showing the basic steps taken in each epoch for SGD.\n",
        "1. Create a function that, if passed two arguments `[1,2,3,4]` and `'abcd'`, returns `[(1, 'a'), (2, 'b'), (3, 'c'), (4, 'd')]`. What is special about that output data structure?\n",
        "1. What does `view` do in PyTorch?\n",
        "1. What are the \"bias\" parameters in a neural network? Why do we need them?\n",
        "1. What does the `@` operator do in Python?\n",
        "1. What does the `backward` method do?\n",
        "1. Why do we have to zero the gradients?\n",
        "1. What information do we have to pass to `Learner`?\n",
        "1. Show Python or pseudocode for the basic steps of a training loop.\n",
        "1. What is \"ReLU\"? Draw a plot of it for values from `-2` to `+2`.\n",
        "1. What is an \"activation function\"?\n",
        "1. What's the difference between `F.relu` and `nn.ReLU`?\n",
        "1. The universal approximation theorem shows that any function can be approximated as closely as needed using just one nonlinearity. So why do we normally use more?"
      ]
    },
    {
      "cell_type": "markdown",
      "metadata": {
        "id": "E6E3Zim8r-Pk"
      },
      "source": [
        "### Further Research"
      ]
    },
    {
      "cell_type": "markdown",
      "metadata": {
        "id": "_YfBRJpqr-Pk"
      },
      "source": [
        "1. Create your own implementation of `Learner` from scratch, based on the training loop shown in this chapter.\n",
        "1. Complete all the steps in this chapter using the full MNIST datasets (that is, for all digits, not just 3s and 7s). This is a significant project and will take you quite a bit of time to complete! You'll need to do some of your own research to figure out how to overcome some obstacles you'll meet on the way."
      ]
    },
    {
      "cell_type": "code",
      "execution_count": null,
      "metadata": {
        "id": "nb4MSIL5r-Pk"
      },
      "outputs": [],
      "source": []
    }
  ],
  "metadata": {
    "colab": {
      "provenance": []
    },
    "jupytext": {
      "split_at_heading": true
    },
    "kernelspec": {
      "display_name": "base",
      "language": "python",
      "name": "python3"
    },
    "language_info": {
      "codemirror_mode": {
        "name": "ipython",
        "version": 3
      },
      "file_extension": ".py",
      "mimetype": "text/x-python",
      "name": "python",
      "nbconvert_exporter": "python",
      "pygments_lexer": "ipython3",
      "version": "3.12.7"
    }
  },
  "nbformat": 4,
  "nbformat_minor": 0
}
